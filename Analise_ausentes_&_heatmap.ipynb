{
  "cells": [
    {
      "cell_type": "markdown",
      "metadata": {
        "colab_type": "text",
        "id": "view-in-github"
      },
      "source": [
        "<a href=\"https://colab.research.google.com/github/LucaNoto/PF_CoderHouse/blob/main/Analise_ausentes_%26_heatmap.ipynb\" target=\"_parent\"><img src=\"https://colab.research.google.com/assets/colab-badge.svg\" alt=\"Open In Colab\"/></a>"
      ]
    },
    {
      "cell_type": "markdown",
      "metadata": {
        "id": "bIcZ0ZnwpwPN"
      },
      "source": [
        "#Mortes ocorridas em São Paulo em 2019 à 2022"
      ]
    },
    {
      "cell_type": "code",
      "execution_count": 1,
      "metadata": {
        "id": "z4f5jUDj-8qI"
      },
      "outputs": [],
      "source": [
        "import pandas as pd\n",
        "import matplotlib.pyplot as plt\n",
        "import seaborn as sns\n",
        "from folium.plugins import HeatMap\n",
        "import folium\n",
        "from folium import plugins"
      ]
    },
    {
      "cell_type": "code",
      "execution_count": 3,
      "metadata": {
        "colab": {
          "base_uri": "https://localhost:8080/",
          "height": 386
        },
        "id": "ewPYsV3L_BEj",
        "outputId": "206766b9-b60f-4520-9aea-494d2e9b6df2"
      },
      "outputs": [
        {
          "data": {
            "text/html": [
              "<div>\n",
              "<style scoped>\n",
              "    .dataframe tbody tr th:only-of-type {\n",
              "        vertical-align: middle;\n",
              "    }\n",
              "\n",
              "    .dataframe tbody tr th {\n",
              "        vertical-align: top;\n",
              "    }\n",
              "\n",
              "    .dataframe thead th {\n",
              "        text-align: right;\n",
              "    }\n",
              "</style>\n",
              "<table border=\"1\" class=\"dataframe\">\n",
              "  <thead>\n",
              "    <tr style=\"text-align: right;\">\n",
              "      <th></th>\n",
              "      <th>DEPARTAMENTO_CIRCUNSCRICAO</th>\n",
              "      <th>SECCIONAL_CIRCUNSCRICAO</th>\n",
              "      <th>MUNICIPIO_CIRCUNSCRICAO</th>\n",
              "      <th>DP_CIRCUNSCRICAO</th>\n",
              "      <th>NUM_VITIMA</th>\n",
              "      <th>ID_DELEGACIA</th>\n",
              "      <th>DATAHORA_REGISTRO_BO</th>\n",
              "      <th>NUM_BO</th>\n",
              "      <th>ANO_BO</th>\n",
              "      <th>MUNICIPIO_ELABORACAO</th>\n",
              "      <th>...</th>\n",
              "      <th>COR_PELE</th>\n",
              "      <th>PROFISSAO</th>\n",
              "      <th>NATUREZA_APURADA</th>\n",
              "      <th>CRIME</th>\n",
              "      <th>DESDOBRAMENTO</th>\n",
              "      <th>DESCR_PERIODO</th>\n",
              "      <th>FLAG_VITIMA_FATAL</th>\n",
              "      <th>CONDUTA</th>\n",
              "      <th>COORPORACAO</th>\n",
              "      <th>SITUACAO</th>\n",
              "    </tr>\n",
              "  </thead>\n",
              "  <tbody>\n",
              "    <tr>\n",
              "      <th>0</th>\n",
              "      <td>DECAP</td>\n",
              "      <td>1ª SEC</td>\n",
              "      <td>São Paulo</td>\n",
              "      <td>001 DP - Sé</td>\n",
              "      <td>1.0</td>\n",
              "      <td>10108</td>\n",
              "      <td>2019-01-01 07:56:59</td>\n",
              "      <td>3</td>\n",
              "      <td>2019</td>\n",
              "      <td>S.PAULO</td>\n",
              "      <td>...</td>\n",
              "      <td>Branca</td>\n",
              "      <td>NAO INFORMADA</td>\n",
              "      <td>HOMICÍDIO DOLOSO</td>\n",
              "      <td>Homicídio Doloso</td>\n",
              "      <td>NaN</td>\n",
              "      <td>NaN</td>\n",
              "      <td>NaN</td>\n",
              "      <td>NaN</td>\n",
              "      <td>NaN</td>\n",
              "      <td>NaN</td>\n",
              "    </tr>\n",
              "    <tr>\n",
              "      <th>1</th>\n",
              "      <td>DECAP</td>\n",
              "      <td>1ª SEC</td>\n",
              "      <td>São Paulo</td>\n",
              "      <td>001 DP - Sé</td>\n",
              "      <td>1.0</td>\n",
              "      <td>10101</td>\n",
              "      <td>2019-01-18 16:32:41</td>\n",
              "      <td>372</td>\n",
              "      <td>2019</td>\n",
              "      <td>S.PAULO</td>\n",
              "      <td>...</td>\n",
              "      <td>Parda</td>\n",
              "      <td>NaN</td>\n",
              "      <td>HOMICÍDIO DOLOSO</td>\n",
              "      <td>Homicídio Doloso</td>\n",
              "      <td>NaN</td>\n",
              "      <td>NaN</td>\n",
              "      <td>NaN</td>\n",
              "      <td>NaN</td>\n",
              "      <td>NaN</td>\n",
              "      <td>NaN</td>\n",
              "    </tr>\n",
              "    <tr>\n",
              "      <th>2</th>\n",
              "      <td>DECAP</td>\n",
              "      <td>1ª SEC</td>\n",
              "      <td>São Paulo</td>\n",
              "      <td>002 DP - Bom Retiro</td>\n",
              "      <td>1.0</td>\n",
              "      <td>10102</td>\n",
              "      <td>2019-01-25 22:53:07</td>\n",
              "      <td>490</td>\n",
              "      <td>2019</td>\n",
              "      <td>S.PAULO</td>\n",
              "      <td>...</td>\n",
              "      <td>Preta</td>\n",
              "      <td>NaN</td>\n",
              "      <td>HOMICÍDIO DOLOSO</td>\n",
              "      <td>Homicídio Doloso</td>\n",
              "      <td>NaN</td>\n",
              "      <td>NaN</td>\n",
              "      <td>NaN</td>\n",
              "      <td>NaN</td>\n",
              "      <td>NaN</td>\n",
              "      <td>NaN</td>\n",
              "    </tr>\n",
              "    <tr>\n",
              "      <th>3</th>\n",
              "      <td>DECAP</td>\n",
              "      <td>1ª SEC</td>\n",
              "      <td>São Paulo</td>\n",
              "      <td>005 DP - Aclimação</td>\n",
              "      <td>1.0</td>\n",
              "      <td>10342</td>\n",
              "      <td>2019-01-20 00:15:18</td>\n",
              "      <td>534</td>\n",
              "      <td>2019</td>\n",
              "      <td>S.PAULO</td>\n",
              "      <td>...</td>\n",
              "      <td>Amarela</td>\n",
              "      <td>NaN</td>\n",
              "      <td>HOMICÍDIO DOLOSO</td>\n",
              "      <td>Homicídio Doloso</td>\n",
              "      <td>NaN</td>\n",
              "      <td>NaN</td>\n",
              "      <td>NaN</td>\n",
              "      <td>NaN</td>\n",
              "      <td>NaN</td>\n",
              "      <td>NaN</td>\n",
              "    </tr>\n",
              "    <tr>\n",
              "      <th>4</th>\n",
              "      <td>DECAP</td>\n",
              "      <td>1ª SEC</td>\n",
              "      <td>São Paulo</td>\n",
              "      <td>005 DP - Aclimação</td>\n",
              "      <td>1.0</td>\n",
              "      <td>10342</td>\n",
              "      <td>2019-01-23 00:07:25</td>\n",
              "      <td>624</td>\n",
              "      <td>2019</td>\n",
              "      <td>S.PAULO</td>\n",
              "      <td>...</td>\n",
              "      <td>Branca</td>\n",
              "      <td>NAO INFORMADA</td>\n",
              "      <td>HOMICÍDIO DOLOSO</td>\n",
              "      <td>Homicídio Doloso</td>\n",
              "      <td>NaN</td>\n",
              "      <td>NaN</td>\n",
              "      <td>NaN</td>\n",
              "      <td>NaN</td>\n",
              "      <td>NaN</td>\n",
              "      <td>NaN</td>\n",
              "    </tr>\n",
              "  </tbody>\n",
              "</table>\n",
              "<p>5 rows × 34 columns</p>\n",
              "</div>"
            ],
            "text/plain": [
              "  DEPARTAMENTO_CIRCUNSCRICAO SECCIONAL_CIRCUNSCRICAO MUNICIPIO_CIRCUNSCRICAO  \\\n",
              "0                      DECAP                  1ª SEC               São Paulo   \n",
              "1                      DECAP                  1ª SEC               São Paulo   \n",
              "2                      DECAP                  1ª SEC               São Paulo   \n",
              "3                      DECAP                  1ª SEC               São Paulo   \n",
              "4                      DECAP                  1ª SEC               São Paulo   \n",
              "\n",
              "      DP_CIRCUNSCRICAO  NUM_VITIMA ID_DELEGACIA DATAHORA_REGISTRO_BO NUM_BO  \\\n",
              "0          001 DP - Sé         1.0        10108  2019-01-01 07:56:59      3   \n",
              "1          001 DP - Sé         1.0        10101  2019-01-18 16:32:41    372   \n",
              "2  002 DP - Bom Retiro         1.0        10102  2019-01-25 22:53:07    490   \n",
              "3   005 DP - Aclimação         1.0        10342  2019-01-20 00:15:18    534   \n",
              "4   005 DP - Aclimação         1.0        10342  2019-01-23 00:07:25    624   \n",
              "\n",
              "  ANO_BO MUNICIPIO_ELABORACAO  ... COR_PELE      PROFISSAO  NATUREZA_APURADA  \\\n",
              "0   2019              S.PAULO  ...   Branca  NAO INFORMADA  HOMICÍDIO DOLOSO   \n",
              "1   2019              S.PAULO  ...    Parda            NaN  HOMICÍDIO DOLOSO   \n",
              "2   2019              S.PAULO  ...    Preta            NaN  HOMICÍDIO DOLOSO   \n",
              "3   2019              S.PAULO  ...  Amarela            NaN  HOMICÍDIO DOLOSO   \n",
              "4   2019              S.PAULO  ...   Branca  NAO INFORMADA  HOMICÍDIO DOLOSO   \n",
              "\n",
              "              CRIME DESDOBRAMENTO DESCR_PERIODO FLAG_VITIMA_FATAL CONDUTA  \\\n",
              "0  Homicídio Doloso           NaN           NaN               NaN     NaN   \n",
              "1  Homicídio Doloso           NaN           NaN               NaN     NaN   \n",
              "2  Homicídio Doloso           NaN           NaN               NaN     NaN   \n",
              "3  Homicídio Doloso           NaN           NaN               NaN     NaN   \n",
              "4  Homicídio Doloso           NaN           NaN               NaN     NaN   \n",
              "\n",
              "  COORPORACAO SITUACAO  \n",
              "0         NaN      NaN  \n",
              "1         NaN      NaN  \n",
              "2         NaN      NaN  \n",
              "3         NaN      NaN  \n",
              "4         NaN      NaN  \n",
              "\n",
              "[5 rows x 34 columns]"
            ]
          },
          "execution_count": 3,
          "metadata": {},
          "output_type": "execute_result"
        }
      ],
      "source": [
        "df=pd.read_csv('data/compiledData/dfMortesCompilado.csv')\n",
        "df.head()"
      ]
    },
    {
      "cell_type": "markdown",
      "metadata": {
        "id": "PKh7KDienfnN"
      },
      "source": [
        "## Quais são as nossas variáveis?"
      ]
    },
    {
      "cell_type": "code",
      "execution_count": 4,
      "metadata": {
        "colab": {
          "base_uri": "https://localhost:8080/"
        },
        "id": "QpDNnDgunfGo",
        "outputId": "b354e3e9-11bb-4f71-eeda-8c9868e0c348"
      },
      "outputs": [
        {
          "name": "stdout",
          "output_type": "stream",
          "text": [
            "os nomes das variáveis :\n",
            " ['DEPARTAMENTO_CIRCUNSCRICAO', 'SECCIONAL_CIRCUNSCRICAO', 'MUNICIPIO_CIRCUNSCRICAO', 'DP_CIRCUNSCRICAO', 'NUM_VITIMA', 'ID_DELEGACIA', 'DATAHORA_REGISTRO_BO', 'NUM_BO', 'ANO_BO', 'MUNICIPIO_ELABORACAO', 'DP_ELABORACAO', 'SEC_ELABORACAO', 'DEP_ELABORACAO', 'DATA_FATO', 'HORA_FATO', 'DESC_TIPOLOCAL', 'LOGRADOURO', 'NUMERO_LOGRADOURO', 'LATITUDE', 'LONGITUDE', 'TIPO_PESSOA', 'SEXO_PESSOA', 'IDADE_PESSOA', 'DATA_NASCIMENTO_PESSOA', 'COR_PELE', 'PROFISSAO', 'NATUREZA_APURADA', 'CRIME', 'DESDOBRAMENTO', 'DESCR_PERIODO', 'FLAG_VITIMA_FATAL', 'CONDUTA', 'COORPORACAO', 'SITUACAO']\n"
          ]
        }
      ],
      "source": [
        "print(\"os nomes das variáveis :\\n\", list(df.columns))"
      ]
    },
    {
      "cell_type": "code",
      "execution_count": 5,
      "metadata": {
        "colab": {
          "base_uri": "https://localhost:8080/"
        },
        "id": "VNyfq3-Yu8Zz",
        "outputId": "2b9afae7-1dc6-4c15-c4e1-3107c6c4589a"
      },
      "outputs": [
        {
          "name": "stdout",
          "output_type": "stream",
          "text": [
            "<class 'pandas.core.frame.DataFrame'>\n",
            "RangeIndex: 3602 entries, 0 to 3601\n",
            "Data columns (total 34 columns):\n",
            " #   Column                      Non-Null Count  Dtype  \n",
            "---  ------                      --------------  -----  \n",
            " 0   DEPARTAMENTO_CIRCUNSCRICAO  3602 non-null   object \n",
            " 1   SECCIONAL_CIRCUNSCRICAO     3602 non-null   object \n",
            " 2   MUNICIPIO_CIRCUNSCRICAO     3602 non-null   object \n",
            " 3   DP_CIRCUNSCRICAO            3602 non-null   object \n",
            " 4   NUM_VITIMA                  2549 non-null   float64\n",
            " 5   ID_DELEGACIA                3602 non-null   object \n",
            " 6   DATAHORA_REGISTRO_BO        3597 non-null   object \n",
            " 7   NUM_BO                      3602 non-null   object \n",
            " 8   ANO_BO                      3602 non-null   object \n",
            " 9   MUNICIPIO_ELABORACAO        3602 non-null   object \n",
            " 10  DP_ELABORACAO               3602 non-null   object \n",
            " 11  SEC_ELABORACAO              3602 non-null   object \n",
            " 12  DEP_ELABORACAO              3602 non-null   object \n",
            " 13  DATA_FATO                   3602 non-null   object \n",
            " 14  HORA_FATO                   3595 non-null   object \n",
            " 15  DESC_TIPOLOCAL              3601 non-null   object \n",
            " 16  LOGRADOURO                  3602 non-null   object \n",
            " 17  NUMERO_LOGRADOURO           2970 non-null   object \n",
            " 18  LATITUDE                    2855 non-null   object \n",
            " 19  LONGITUDE                   2855 non-null   object \n",
            " 20  TIPO_PESSOA                 3602 non-null   object \n",
            " 21  SEXO_PESSOA                 3602 non-null   object \n",
            " 22  IDADE_PESSOA                3181 non-null   object \n",
            " 23  DATA_NASCIMENTO_PESSOA      3146 non-null   object \n",
            " 24  COR_PELE                    3602 non-null   object \n",
            " 25  PROFISSAO                   2476 non-null   object \n",
            " 26  NATUREZA_APURADA            3602 non-null   object \n",
            " 27  CRIME                       3602 non-null   object \n",
            " 28  DESDOBRAMENTO               1048 non-null   object \n",
            " 29  DESCR_PERIODO               0 non-null      float64\n",
            " 30  FLAG_VITIMA_FATAL           986 non-null    object \n",
            " 31  CONDUTA                     477 non-null    object \n",
            " 32  COORPORACAO                 965 non-null    object \n",
            " 33  SITUACAO                    965 non-null    object \n",
            "dtypes: float64(2), object(32)\n",
            "memory usage: 956.9+ KB\n"
          ]
        }
      ],
      "source": [
        "df.info()"
      ]
    },
    {
      "cell_type": "markdown",
      "metadata": {
        "id": "IHd5hWnvqW1v"
      },
      "source": [
        "## Lidando com valores ausentes"
      ]
    },
    {
      "cell_type": "code",
      "execution_count": 6,
      "metadata": {
        "colab": {
          "base_uri": "https://localhost:8080/"
        },
        "id": "zBQ0nT3Jqm0e",
        "outputId": "35963ebc-e1d0-4d67-ec18-597252fd36be"
      },
      "outputs": [
        {
          "name": "stdout",
          "output_type": "stream",
          "text": [
            "A base de dados possui:  22366 dados ausentes\n"
          ]
        }
      ],
      "source": [
        "# Quais são os valores totais ausentes no conjunto de dados ?\n",
        "print(\"A base de dados possui: \", df.isna().sum().sum(),'dados ausentes')"
      ]
    },
    {
      "cell_type": "code",
      "execution_count": 7,
      "metadata": {
        "colab": {
          "base_uri": "https://localhost:8080/",
          "height": 179
        },
        "id": "oEH8YaogqmlH",
        "outputId": "03960780-d5f6-4353-97cd-764590c72d6f"
      },
      "outputs": [
        {
          "name": "stdout",
          "output_type": "stream",
          "text": [
            "Number of Missing Values per feature >>\n"
          ]
        },
        {
          "data": {
            "text/html": [
              "<div>\n",
              "<style scoped>\n",
              "    .dataframe tbody tr th:only-of-type {\n",
              "        vertical-align: middle;\n",
              "    }\n",
              "\n",
              "    .dataframe tbody tr th {\n",
              "        vertical-align: top;\n",
              "    }\n",
              "\n",
              "    .dataframe thead th {\n",
              "        text-align: right;\n",
              "    }\n",
              "</style>\n",
              "<table border=\"1\" class=\"dataframe\">\n",
              "  <thead>\n",
              "    <tr style=\"text-align: right;\">\n",
              "      <th></th>\n",
              "      <th>Others</th>\n",
              "      <th>NUM_VITIMA</th>\n",
              "      <th>DATAHORA_REGISTRO_BO</th>\n",
              "      <th>HORA_FATO</th>\n",
              "      <th>DESC_TIPOLOCAL</th>\n",
              "      <th>NUMERO_LOGRADOURO</th>\n",
              "      <th>LATITUDE</th>\n",
              "      <th>LONGITUDE</th>\n",
              "      <th>IDADE_PESSOA</th>\n",
              "      <th>DATA_NASCIMENTO_PESSOA</th>\n",
              "      <th>PROFISSAO</th>\n",
              "      <th>DESDOBRAMENTO</th>\n",
              "      <th>DESCR_PERIODO</th>\n",
              "      <th>FLAG_VITIMA_FATAL</th>\n",
              "      <th>CONDUTA</th>\n",
              "      <th>COORPORACAO</th>\n",
              "      <th>SITUACAO</th>\n",
              "    </tr>\n",
              "  </thead>\n",
              "  <tbody>\n",
              "    <tr>\n",
              "      <th>Missing Values</th>\n",
              "      <td>0</td>\n",
              "      <td>1053</td>\n",
              "      <td>5</td>\n",
              "      <td>7</td>\n",
              "      <td>1</td>\n",
              "      <td>632</td>\n",
              "      <td>747</td>\n",
              "      <td>747</td>\n",
              "      <td>421</td>\n",
              "      <td>456</td>\n",
              "      <td>1126</td>\n",
              "      <td>2554</td>\n",
              "      <td>3602</td>\n",
              "      <td>2616</td>\n",
              "      <td>3125</td>\n",
              "      <td>2637</td>\n",
              "      <td>2637</td>\n",
              "    </tr>\n",
              "  </tbody>\n",
              "</table>\n",
              "</div>"
            ],
            "text/plain": [
              "                Others  NUM_VITIMA  DATAHORA_REGISTRO_BO  HORA_FATO  \\\n",
              "Missing Values       0        1053                     5          7   \n",
              "\n",
              "                DESC_TIPOLOCAL  NUMERO_LOGRADOURO  LATITUDE  LONGITUDE  \\\n",
              "Missing Values               1                632       747        747   \n",
              "\n",
              "                IDADE_PESSOA  DATA_NASCIMENTO_PESSOA  PROFISSAO  \\\n",
              "Missing Values           421                     456       1126   \n",
              "\n",
              "                DESDOBRAMENTO  DESCR_PERIODO  FLAG_VITIMA_FATAL  CONDUTA  \\\n",
              "Missing Values           2554           3602               2616     3125   \n",
              "\n",
              "                COORPORACAO  SITUACAO  \n",
              "Missing Values         2637      2637  "
            ]
          },
          "execution_count": 7,
          "metadata": {},
          "output_type": "execute_result"
        }
      ],
      "source": [
        "# Vamos contar o número de dados ausentes por coluna\n",
        "missing_values = list(df.isna().sum())\n",
        "# valores ausentes é uma lista do número de valores ausentes em cada coluna\n",
        "\n",
        "cols = list(df.columns)\n",
        "col_final = []\n",
        "for i in range(len(cols)):\n",
        "    if (missing_values[i] == 0):\n",
        "        cols[i]=\"Others\"\n",
        "d = dict(zip(cols, missing_values)) # fazendo um dicionário para os valores ausentes\n",
        "\n",
        "print(\"Number of Missing Values per feature >>\")\n",
        "missing_vals = pd.DataFrame(d, index=[\"Missing Values\"]) # Fazendo um dataframe personalizado a partir do dict d\n",
        "missing_vals.head()"
      ]
    },
    {
      "cell_type": "code",
      "execution_count": 8,
      "metadata": {
        "colab": {
          "base_uri": "https://localhost:8080/",
          "height": 418
        },
        "id": "7wRh_kIbwWPj",
        "outputId": "ee2793e7-d179-463c-aea3-db5ca7aa8390"
      },
      "outputs": [
        {
          "data": {
            "image/png": "[encoded data removed]",
            "text/plain": [
              "<Figure size 432x288 with 1 Axes>"
            ]
          },
          "metadata": {
            "needs_background": "light"
          },
          "output_type": "display_data"
        }
      ],
      "source": [
        "# Plotando os valores ausentes\n",
        "x = list(d.keys())\n",
        "y = list(d.values())\n",
        "sns.barplot(x=x, y=y, palette=\"GnBu_d\")\n",
        "plt.xticks(rotation=90)\n",
        "plt.title(\"Valores ausentes na base de dados\", fontdict = {'fontsize': 20})\n",
        "plt.ylabel(\"Contagem de valores ausentes\", fontdict={'fontsize': 15})\n",
        "plt.show()"
      ]
    },
    {
      "cell_type": "markdown",
      "metadata": {
        "id": "vCx1ITuOxRgA"
      },
      "source": [
        "## Por que essa quantidade de valores ausentes ?\n",
        "\n",
        "\n",
        "Ao analisar a base percebe-se que a maioria das informações que aparece como 'NaN' são sobre a situação da ocorrência. Como os dados são de 2019 à 2022 informações como 'desdobramento','Situação', entre outros.Ainda podem ser preenchidas ao fim do processo.<p>\n",
        " A variável 'FLAG_VITIMA_FATAL' só é preenchida quando ocorre flagrante, é um termo jurídico usado para indicar que um criminoso foi pego no momento em que cometia um crime, o que na maioria dos caso não ocorre.\n",
        "Como neste estudo a gente só quer ver onde foi registrado o crime essas variáveis serão deletadas.<p>\n",
        "\n",
        "Ainda temos alguns dados relevantes que também estão ausentes, dados como Latitude, Longitude, idade, etc. Como esses recursos não são valores numéricos diretos, não podemos usar funções estatísticas resumidas para preencher os valores ausentes.\n",
        "Portanto, removeremos esses valores do conjunto de dados.<p>"
      ]
    },
    {
      "cell_type": "code",
      "execution_count": 9,
      "metadata": {
        "id": "8qDdzpHi_Co3"
      },
      "outputs": [],
      "source": [
        "#tirando as variáveis que possuem muitos valores ausentes\n",
        "dfClean =df.drop(columns=['NUM_VITIMA','PROFISSAO','DESDOBRAMENTO','DESCR_PERIODO','FLAG_VITIMA_FATAL','CONDUTA','COORPORACAO','SITUACAO'])"
      ]
    },
    {
      "cell_type": "code",
      "execution_count": 10,
      "metadata": {
        "id": "wYq3GcpFw1VI"
      },
      "outputs": [],
      "source": [
        "dfClean = dfClean.dropna()"
      ]
    },
    {
      "cell_type": "code",
      "execution_count": 11,
      "metadata": {
        "colab": {
          "base_uri": "https://localhost:8080/"
        },
        "id": "d1GzkDogvfvO",
        "outputId": "44ab01d0-290e-4103-8e91-048120b8d196"
      },
      "outputs": [
        {
          "name": "stdout",
          "output_type": "stream",
          "text": [
            "<class 'pandas.core.frame.DataFrame'>\n",
            "Int64Index: 2446 entries, 0 to 3599\n",
            "Data columns (total 26 columns):\n",
            " #   Column                      Non-Null Count  Dtype \n",
            "---  ------                      --------------  ----- \n",
            " 0   DEPARTAMENTO_CIRCUNSCRICAO  2446 non-null   object\n",
            " 1   SECCIONAL_CIRCUNSCRICAO     2446 non-null   object\n",
            " 2   MUNICIPIO_CIRCUNSCRICAO     2446 non-null   object\n",
            " 3   DP_CIRCUNSCRICAO            2446 non-null   object\n",
            " 4   ID_DELEGACIA                2446 non-null   object\n",
            " 5   DATAHORA_REGISTRO_BO        2446 non-null   object\n",
            " 6   NUM_BO                      2446 non-null   object\n",
            " 7   ANO_BO                      2446 non-null   object\n",
            " 8   MUNICIPIO_ELABORACAO        2446 non-null   object\n",
            " 9   DP_ELABORACAO               2446 non-null   object\n",
            " 10  SEC_ELABORACAO              2446 non-null   object\n",
            " 11  DEP_ELABORACAO              2446 non-null   object\n",
            " 12  DATA_FATO                   2446 non-null   object\n",
            " 13  HORA_FATO                   2446 non-null   object\n",
            " 14  DESC_TIPOLOCAL              2446 non-null   object\n",
            " 15  LOGRADOURO                  2446 non-null   object\n",
            " 16  NUMERO_LOGRADOURO           2446 non-null   object\n",
            " 17  LATITUDE                    2446 non-null   object\n",
            " 18  LONGITUDE                   2446 non-null   object\n",
            " 19  TIPO_PESSOA                 2446 non-null   object\n",
            " 20  SEXO_PESSOA                 2446 non-null   object\n",
            " 21  IDADE_PESSOA                2446 non-null   object\n",
            " 22  DATA_NASCIMENTO_PESSOA      2446 non-null   object\n",
            " 23  COR_PELE                    2446 non-null   object\n",
            " 24  NATUREZA_APURADA            2446 non-null   object\n",
            " 25  CRIME                       2446 non-null   object\n",
            "dtypes: object(26)\n",
            "memory usage: 516.0+ KB\n"
          ]
        }
      ],
      "source": [
        "dfClean.info()"
      ]
    },
    {
      "cell_type": "code",
      "execution_count": 12,
      "metadata": {
        "colab": {
          "base_uri": "https://localhost:8080/"
        },
        "id": "_NxVkHjA_4mG",
        "outputId": "64ae737c-8f92-4d2c-f092-e2b8a44e73c5"
      },
      "outputs": [
        {
          "name": "stdout",
          "output_type": "stream",
          "text": [
            "retidos na base: 67.91%\n"
          ]
        }
      ],
      "source": [
        "#Quantos dados foram retidos após essa remoção\n",
        "print(f'retidos na base: {round(len(dfClean)/len(df)*100,2)}%')"
      ]
    },
    {
      "cell_type": "markdown",
      "metadata": {
        "id": "1ETvwMPhpHkz"
      },
      "source": [
        "## Número de crimes distintos na cidade de São Paulo"
      ]
    },
    {
      "cell_type": "code",
      "execution_count": 27,
      "metadata": {
        "colab": {
          "base_uri": "https://localhost:8080/"
        },
        "id": "ckKKa9OBpCfP",
        "outputId": "8b056f94-ed56-402d-d7f5-515a7f98e21e"
      },
      "outputs": [
        {
          "name": "stdout",
          "output_type": "stream",
          "text": [
            "Número de crimes distintos na cidade de São Paulo: 5\n",
            "\n",
            "Os Crimes são:\n",
            " ['Homicídio Doloso' 'Morte Decorrente de Intervenção Policial'\n",
            " 'Latrocínio' 'Lesão Corporal Seguida de Morte' 'Feminicidio']\n"
          ]
        }
      ],
      "source": [
        "crimes = dfClean['CRIME'].unique()\n",
        "print(\"Número de crimes distintos na cidade de São Paulo:\", len(crimes))\n",
        "print()\n",
        "print(\"Os Crimes são:\\n\", crimes)"
      ]
    },
    {
      "cell_type": "code",
      "execution_count": 18,
      "metadata": {
        "colab": {
          "base_uri": "https://localhost:8080/"
        },
        "id": "Iq8MiqXOeutN",
        "outputId": "0d1bac67-0ab0-4ed8-dc4d-505a55549c87"
      },
      "outputs": [
        {
          "data": {
            "text/plain": [
              "array(['2019', '2020', '2021', '2022',\n",
              "       'SEM RESPOSTA DA DELEGACIA. CASO MANTIDO'], dtype=object)"
            ]
          },
          "execution_count": 18,
          "metadata": {},
          "output_type": "execute_result"
        }
      ],
      "source": [
        "dfClean['ANO_BO'].unique()"
      ]
    },
    {
      "cell_type": "code",
      "execution_count": 23,
      "metadata": {
        "colab": {
          "base_uri": "https://localhost:8080/",
          "height": 712
        },
        "id": "yMOEEgTb-dB4",
        "outputId": "c04183e2-833b-4fd5-ce32-4b3f9e84bf81"
      },
      "outputs": [
        {
          "data": {
            "text/html": [
              "<div style=\"width:100%;\"><div style=\"position:relative;width:100%;height:0;padding-bottom:60%;\"><span style=\"color:#565656\">Make this Notebook Trusted to load map: File -> Trust Notebook</span><iframe srcdoc=\"&lt;!DOCTYPE html&gt;\n",
              "&lt;head&gt;    \n",
              "    &lt;meta http-equiv=&quot;content-type&quot; content=&quot;text/html; charset=UTF-8&quot; /&gt;\n",
              "    \n",
              "        &lt;script&gt;\n",
              "            L_NO_TOUCH = false;\n",
              "            L_DISABLE_3D = false;\n",
              "        &lt;/script&gt;\n",
              "    \n",
              "    &lt;style&gt;html, body {width: 100%;height: 100%;margin: 0;padding: 0;}&lt;/style&gt;\n",
              "    &lt;style&gt;#map {position:absolute;top:0;bottom:0;right:0;left:0;}&lt;/style&gt;\n",
              "    &lt;script src=&quot;https://cdn.jsdelivr.net/npm/leaflet@1.6.0/dist/leaflet.js&quot;&gt;&lt;/script&gt;\n",
              "    &lt;script src=&quot;https://code.jquery.com/jquery-1.12.4.min.js&quot;&gt;&lt;/script&gt;\n",
              "    &lt;script src=&quot;https://maxcdn.bootstrapcdn.com/bootstrap/3.2.0/js/bootstrap.min.js&quot;&gt;&lt;/script&gt;\n",
              "    &lt;script src=&quot;https://cdnjs.cloudflare.com/ajax/libs/Leaflet.awesome-markers/2.0.2/leaflet.awesome-markers.js&quot;&gt;&lt;/script&gt;\n",
              "    &lt;link rel=&quot;stylesheet&quot; href=&quot;https://cdn.jsdelivr.net/npm/leaflet@1.6.0/dist/leaflet.css&quot;/&gt;\n",
              "    &lt;link rel=&quot;stylesheet&quot; href=&quot;https://maxcdn.bootstrapcdn.com/bootstrap/3.2.0/css/bootstrap.min.css&quot;/&gt;\n",
              "    &lt;link rel=&quot;stylesheet&quot; href=&quot;https://maxcdn.bootstrapcdn.com/bootstrap/3.2.0/css/bootstrap-theme.min.css&quot;/&gt;\n",
              "    &lt;link rel=&quot;stylesheet&quot; href=&quot;https://maxcdn.bootstrapcdn.com/font-awesome/4.6.3/css/font-awesome.min.css&quot;/&gt;\n",
              "    &lt;link rel=&quot;stylesheet&quot; href=&quot;https://cdnjs.cloudflare.com/ajax/libs/Leaflet.awesome-markers/2.0.2/leaflet.awesome-markers.css&quot;/&gt;\n",
              "    &lt;link rel=&quot;stylesheet&quot; href=&quot;https://cdn.jsdelivr.net/gh/python-visualization/folium/folium/templates/leaflet.awesome.rotate.min.css&quot;/&gt;\n",
              "    \n",
              "            &lt;meta name=&quot;viewport&quot; content=&quot;width=device-width,\n",
              "                initial-scale=1.0, maximum-scale=1.0, user-scalable=no&quot; /&gt;\n",
              "            &lt;style&gt;\n",
              "                #map_97385b9c4490b1fb08afbd423475461e {\n",
              "                    position: relative;\n",
              "                    width: 100.0%;\n",
              "                    height: 100.0%;\n",
              "                    left: 0.0%;\n",
              "                    top: 0.0%;\n",
              "                }\n",
              "            &lt;/style&gt;\n",
              "        \n",
              "    &lt;script src=&quot;https://cdn.jsdelivr.net/gh/python-visualization/folium@main/folium/templates/leaflet_heat.min.js&quot;&gt;&lt;/script&gt;\n",
              "&lt;/head&gt;\n",
              "&lt;body&gt;    \n",
              "    \n",
              "            &lt;div class=&quot;folium-map&quot; id=&quot;map_97385b9c4490b1fb08afbd423475461e&quot; &gt;&lt;/div&gt;\n",
              "        \n",
              "&lt;/body&gt;\n",
              "&lt;script&gt;    \n",
              "    \n",
              "            var map_97385b9c4490b1fb08afbd423475461e = L.map(\n",
              "                &quot;map_97385b9c4490b1fb08afbd423475461e&quot;,\n",
              "                {\n",
              "                    center: [-23.58633467412642, -46.60418260319519],\n",
              "                    crs: L.CRS.EPSG3857,\n",
              "                    zoom: 10,\n",
              "                    zoomControl: true,\n",
              "                    preferCanvas: false,\n",
              "                }\n",
              "            );\n",
              "\n",
              "            \n",
              "\n",
              "        \n",
              "    \n",
              "            var tile_layer_d78cafeb42732aa9ec0677065f6d9355 = L.tileLayer(\n",
              "                &quot;https://cartodb-basemaps-{s}.global.ssl.fastly.net/light_all/{z}/{x}/{y}.png&quot;,\n",
              "                {&quot;attribution&quot;: &quot;\\u0026copy; \\u003ca href=\\&quot;http://www.openstreetmap.org/copyright\\&quot;\\u003eOpenStreetMap\\u003c/a\\u003e contributors \\u0026copy; \\u003ca href=\\&quot;http://cartodb.com/attributions\\&quot;\\u003eCartoDB\\u003c/a\\u003e, CartoDB \\u003ca href =\\&quot;http://cartodb.com/attributions\\&quot;\\u003eattributions\\u003c/a\\u003e&quot;, &quot;detectRetina&quot;: false, &quot;maxNativeZoom&quot;: 18, &quot;maxZoom&quot;: 18, &quot;minZoom&quot;: 0, &quot;noWrap&quot;: false, &quot;opacity&quot;: 1, &quot;subdomains&quot;: &quot;abc&quot;, &quot;tms&quot;: false}\n",
              "            ).addTo(map_97385b9c4490b1fb08afbd423475461e);\n",
              "        \n",
              "    \n",
              "            var heat_map_3b48eb091de190d80d1d57ba7c4c083f = L.heatLayer(\n",
              "                [[-23.5462154481364, -46.631733309032], [-23.5546896292896, -46.6296510483604], [-23.560415289045, -46.6337071030673], [-23.5629637062019, -46.6455014429631], [-23.6075347234928, -46.595687674394], [-23.5214223367374, -46.6986296749332], [-23.6007989559488, -46.7511217197557], [-23.631886677, -46.7466176259999], [-23.445753057479, -46.7435324944982], [-23.5169631525789, -46.6071667853443], [-23.485497032378, -46.6288322552766], [-23.4466623655967, -46.5826096371584], [-23.4605615961522, -46.5822267844174], [-23.4605615961522, -46.5822267844174], [-23.4469368147143, -46.722113058619], [-23.456455056, -46.691760185], [-23.4912266948927, -46.5701182938209], [-23.5168393776055, -46.5784067616972], [-23.5427279940487, -46.6039453425121], [-23.9084206008527, -46.7602932747895], [-23.8098749427649, -46.7387786881804], [-23.6488625929999, -46.7797918289677], [-23.6781361623091, -46.7684190645035], [-23.6575280911209, -46.7806142147482], [-23.7638892859999, -46.668933179], [-23.6835372563275, -46.7500594761402], [-23.6784466515487, -46.7358858906976], [-23.690829523687, -46.7746760962742], [-23.6860829089999, -46.746832292], [-23.4993655643718, -46.5221587373553], [-23.5053154960405, -46.4001591824927], [-23.4872047044615, -46.3922058157692], [-23.5158708260357, -46.4750000938571], [-23.523169401, -46.457910319], [-23.5835911517671, -46.4494409964383], [-23.611945595, -46.5094514269999], [-23.5519469904511, -46.6264833031811], [-23.5286481790712, -46.6314475945738], [-23.5517969696692, -46.6035389349134], [-23.6205779366631, -46.5930088442461], [-23.5868918482025, -46.7502650814936], [-23.6481441524935, -46.748421389627], [-23.4779574227867, -46.7200804803193], [-23.62011715, -46.73054076], [-23.4821856649754, -46.5995030807058], [-23.4713461692756, -46.6971282924969], [-23.4704440133328, -46.5711599362832], [-23.448889509, -46.5901088228434], [-23.477144524923, -46.5774409169231], [-23.5183337669999, -46.575973651], [-23.5817186621942, -46.5962273232855], [-23.5450231261519, -46.6032160489873], [-23.7721116351576, -46.7158487646818], [-23.7037390249999, -46.6413884479999], [-23.5494126712307, -46.448691895], [-23.4906431186721, -46.4017319666507], [-23.5022409871428, -46.4729166046428], [-23.5207328052985, -46.4541478274423], [-23.5268038959999, -46.46465284], [-23.5408374975781, -46.3952484247656], [-23.5414009789999, -46.435526017], [-23.5968008974287, -46.512900899455], [-23.5770590292253, -46.4116455359732], [-23.5736772228478, -46.3987342223579], [-23.5710354982521, -46.4937784924222], [-23.615990401, -46.5151043069999], [-23.5409769672235, -46.6297424063058], [-23.5967442144054, -46.6884649098513], [-23.6573700213333, -46.6402994140444], [-23.6721151405874, -46.6331202267635], [-23.5167269729999, -46.7037879553333], [-23.5662423966842, -46.6896664890701], [-23.5285209370588, -46.6810024071176], [-23.5907925409999, -46.749468189], [-23.6171628010141, -46.75762017906], [-23.6359720825366, -46.7384594326568], [-23.6098465934053, -46.7199930764725], [-23.5020414259999, -46.623574063], [-23.5020414259999, -46.623574063], [-23.4995784311395, -46.5867930018694], [-23.504921712582, -46.7024915195882], [-23.497732968125, -46.5945437564999], [-23.455377524, -46.6939658539999], [-23.455377524, -46.6939658539999], [-23.4816580710513, -46.5723990717435], [-23.5818395809956, -46.5953125247886], [-23.6339546035454, -46.6913337675454], [-23.6264398560023, -46.7015294283809], [-23.6542990459999, -46.779966585], [-23.6890064788906, -46.6629326623058], [-23.7661871660927, -46.6882528524771], [-23.6541911258999, -46.7396590124749], [-23.6541911258999, -46.7396590124749], [-23.6791745545265, -46.7472204015097], [-23.6642642451349, -46.7334947363443], [-23.6518221389999, -46.74830345], [-23.7037390249999, -46.6413884479999], [-23.695983156, -46.67584346], [-23.6818634187349, -46.7504483756389], [-23.743952984, -46.7808142439999], [-23.7382097230057, -46.660000670736], [-23.4935176043333, -46.4002988575097], [-23.502397139, -46.45746578], [-23.5469716114909, -46.3900861910363], [-23.539619022, -46.4216658089999], [-23.5359248932121, -46.4193515142337], [-23.545585750501, -46.4045847508142], [-23.5958131258038, -46.4520095388692], [-23.614857044, -46.428916638], [-23.6053078925173, -46.4712369696338], [-23.5698240129439, -46.481929269011], [-23.5747833033734, -46.5035612326628], [-23.6202405305376, -46.4956096190423], [-23.6161928091531, -46.5078402997239], [-23.613649035, -46.5153545539999], [-23.54345177, -46.62959926], [-23.55762482175, -46.644223626975], [-23.5439450209759, -46.6455525083502], [-23.6394064677414, -46.641355642188], [-23.6535033235024, -46.6081562066342], [-23.5271209949152, -46.6962831490678], [-23.522799179, -46.6935003673448], [-23.4995081389999, -46.737833248], [-23.6305182348661, -46.7596164214851], [-23.6481441524935, -46.748421389627], [-23.4465180383576, -46.7479699708407], [-23.3976208937514, -46.7554286191699], [-23.51147373, -46.62806834], [-23.5057870992276, -46.5910849302255], [-23.4257937249266, -46.7254997917732], [-23.5562730230224, -46.5545793600409], [-23.8484428618662, -46.7490794877596], [-23.6731698170191, -46.787781875459], [-23.765748817, -46.67224427], [-23.7642422728211, -46.7089441590444], [-23.7413696375926, -46.7040396558695], [-23.6739545933478, -46.7504765240869], [-23.7070721166084, -46.6232993805119], [-23.739505004, -46.6578751059999], [-23.5272735688908, -46.4671890880703], [-23.5930289196254, -46.4155227953375], [-23.5881894613218, -46.4089728048112], [-23.5511670776036, -46.6249951780715], [-23.5528984328571, -46.6042534248571], [-23.5306007011064, -46.6139846831914], [-23.6216367952838, -46.6474646644162], [-23.6075794841052, -46.6634407670526], [-23.633567841439, -46.6193812054146], [-23.559914895557, -46.6954499476019], [-23.5886077736315, -46.7338729247894], [-23.6253819528021, -46.7641360549448], [-23.4975020623373, -46.709843971012], [-23.477334695, -46.714550532], [-23.4688241102353, -46.6108691040294], [-23.5008211505718, -46.6871298154054], [-23.4787277657174, -46.6855104070628], [-23.4532607950274, -46.6720506355341], [-23.4532607950274, -46.6720506355341], [-23.4532607950274, -46.6720506355341], [-23.4532607950274, -46.6720506355341], [-23.4900708727485, -46.565647956644], [-23.4927020886774, -46.5685228417419], [-23.5506540785413, -46.578190474722], [-23.5417733944285, -46.5739682884285], [-23.8124136698028, -46.7358361816553], [-23.6863965861552, -46.7745430319229], [-23.7031688985517, -46.6912679482069], [-23.7226312729999, -46.7852857239999], [-23.7527421866148, -46.6833945133573], [-23.6658560798752, -46.7138003303552], [-23.5087360311088, -46.5151338837456], [-23.5336706157727, -46.4776944657272], [-23.5386479102032, -46.4735334122601], [-23.519369809074, -46.4462955002777], [-23.619329234, -46.423412544], [-23.587196857, -46.4832768209999], [-23.6040234575466, -46.4955483127999], [-23.6010562078309, -46.5117792579675], [-23.5474711401249, -46.63110697175], [-23.6549756791733, -46.6055662257125], [-23.6448653794096, -46.7794920915984], [-23.4168558556652, -46.7311340315022], [-23.4360556359999, -46.7862191729999], [-23.4964388546429, -46.6977846960139], [-23.4711109556123, -46.7010120475248], [-23.4806436738142, -46.5625418474485], [-23.460250884455, -46.6871604067909], [-23.52218681292, -46.55890231596], [-23.6553638493876, -46.6923984779695], [-23.6944809333174, -46.7947288676291], [-23.6943590619049, -46.7851656989968], [-23.679307763647, -46.779404151647], [-23.7697185914574, -46.7123969626869], [-23.7677551653698, -46.7238947147508], [-23.6777202645835, -46.6831108444685], [-23.7451164829999, -46.68091271], [-23.5008569516315, -46.515471156421], [-23.4829018925642, -46.4936922479357], [-23.5107340069024, -46.4495626606585], [-23.5668597017176, -46.452242399577], [-23.5983351849999, -46.391425376], [-23.6267202785, -46.4736958386428], [-23.6271000711707, -46.4622406998292], [-23.5365241167341, -46.6423678966323], [-23.5509647090723, -46.6496495948795], [-23.5466604258148, -46.6226170065925], [-23.5392467065039, -46.6527264162786], [-23.561930311, -46.6641786567272], [-23.6392856054013, -46.6050299676974], [-23.5577547034393, -46.6889035829925], [-23.5957026747623, -46.7466489173908], [-23.444481652, -46.79719992], [-23.631375036, -46.7367139209999], [-23.5292183628765, -46.738900075393], [-23.374154661, -46.5756386749999], [-23.4609929989999, -46.6552651489999], [-23.4376605831773, -46.5716630782056], [-23.4487020235445, -46.4952568101282], [-23.4389480789999, -46.5741090459999], [-23.4335266429999, -46.576121835], [-23.4548304348718, -46.6997024595717], [-23.5463926137757, -46.5243916541518], [-23.5405845351184, -46.5572712810789], [-23.6865018675671, -46.793093100315], [-23.665269967, -46.791004076], [-23.7761680399657, -46.6594003045885], [-23.6614058882132, -46.7491960395938], [-23.6816101010715, -46.7468475492317], [-23.6668524091119, -46.7379171849001], [-23.6626106091999, -46.7542193778], [-23.7124804360479, -46.6293430591133], [-23.7005744474288, -46.7620656224251], [-23.7005744474288, -46.7620656224251], [-23.73266921, -46.66005289], [-23.4904153314382, -46.4707921390329], [-23.5208878757083, -46.4705826864775], [-23.5383516429999, -46.456104443], [-23.5792600861692, -46.5354876955538], [-23.5712051687031, -46.4155626342066], [-23.5844687835267, -46.4089210143357], [-23.6329878100666, -46.4499777006], [-23.6138771563912, -46.4915512999261], [-23.5351057519999, -46.640398703], [-23.543358821, -46.637821878], [-23.5561317221017, -46.6437775957016], [-23.5254624883825, -46.6118903836875], [-23.5254624883825, -46.6118903836875], [-23.619763969, -46.6620791779999], [-23.6258882066839, -46.5945809054892], [-23.5436603249965, -46.6743555816934], [-23.6538485759741, -46.7761043354481], [-23.6128128624733, -46.7549440669358], [-23.5743733501748, -46.7769890363291], [-23.5136822684948, -46.6030468408866], [-23.494331691, -46.669923452], [-23.4717193101249, -46.6888226951249], [-23.4754662903043, -46.5640334146074], [-23.4569808990359, -46.694857587992], [-23.5254886331437, -46.571467910938], [-23.821195026523, -46.7282922983231], [-23.8587011765714, -46.7043523548928], [-23.666070073, -46.7939701399999], [-23.7614466082857, -46.6999313794285], [-23.6533257120269, -46.7523609290681], [-23.6533257120269, -46.7523609290681], [-23.6869103459999, -46.7466313049999], [-23.4794635418307, -46.4265635623464], [-23.4887983505961, -46.3967009016346], [-23.5434747806624, -46.4700697602979], [-23.5392496269428, -46.4207263677714], [-23.6194145109999, -46.4949600109999], [-23.5428147658486, -46.6251081322231], [-23.645150529374, -46.6412257732895], [-23.6666084, -46.6327824599999], [-23.5384474158265, -46.6953169320457], [-23.5169560841698, -46.7329851196373], [-23.5169560841698, -46.7329851196373], [-23.414208227, -46.7505133029999], [-23.4408905609999, -46.786882582], [-23.4881887698085, -46.6869262985911], [-23.4663239449999, -46.693840935], [-23.4537279956145, -46.6739648903754], [-23.4537279956145, -46.6739648903754], [-23.4531854084722, -46.5736502113023], [-23.4531854084722, -46.5736502113023], [-23.4498666589502, -46.5895942035686], [-23.4498666589502, -46.5895942035686], [-23.4605615961522, -46.5822267844174], [-23.516035142, -46.5691921205], [-23.5703916822842, -46.5374716716127], [-23.8310428812751, -46.7092021483895], [-23.6838037043368, -46.7734762410833], [-23.6838037043368, -46.7734762410833], [-23.6946923759499, -46.7814531072395], [-23.6409333370988, -46.7860554045003], [-23.6629883524047, -46.792624382269], [-23.7697388722806, -46.6766295659863], [-23.689157393, -46.6568806569999], [-23.7226136187255, -46.7853421410968], [-23.7326423893317, -46.6933688518033], [-23.5020261863333, -46.5239668529999], [-23.4884324442511, -46.3849675074476], [-23.503661232983, -46.4703851666619], [-23.5957472699999, -46.458565474], [-23.5917803133999, -46.4072700345333], [-23.5869123831875, -46.3906843144375], [-23.6360003583226, -46.4629094952674], [-23.5972715462871, -46.5002493806266], [-23.6102507581144, -46.5194454040446], [-23.5662661363256, -46.6266438567551], [-23.6523413249498, -46.5969531748037], [-23.628072797, -46.767432342], [-23.623122034296, -46.7634282017779], [-23.5772394686, -46.7781107482], [-23.6161754352355, -46.7208642951382], [-23.6127521376807, -46.7200022828954], [-23.5044006546134, -46.6550674818394], [-23.4729838978393, -46.5849225638552], [-23.4729838978393, -46.5849225638552], [-23.4461509944835, -46.5919432443482], [-23.4497251279517, -46.5893848109166], [-23.4763918534939, -46.5725158800917], [-23.442797297, -46.5927858749999], [-23.4555062605882, -46.7167317681764], [-23.4410479095917, -46.7168792117226], [-23.5427323819341, -46.5435470901578], [-23.6498441519062, -46.7090776559843], [-23.7136237353213, -46.7037443257222], [-23.6842566032092, -46.7392334761983], [-23.6749412879474, -46.7422092893308], [-23.6524339093571, -46.7496615057142], [-23.6524339093571, -46.7496615057142], [-23.6574184781415, -46.7470149590344], [-23.6732341762231, -46.6775464799799], [-23.692284362, -46.777423497], [-23.7027621149999, -46.79013859], [-23.5128985397575, -46.4054189818787], [-23.5838713965961, -46.4242763844498], [-23.5989801417143, -46.4158428492857], [-23.629880359, -46.449265321], [-23.5628225609434, -46.492345116586], [-23.588483561341, -46.5053599753649], [-23.6163701233968, -46.5078769170572], [-23.6163701233968, -46.5078769170572], [-23.6163701233968, -46.5078769170572], [-23.6090448315714, -46.5124334547143], [-23.602413499, -46.518278255], [-23.545555318, -46.626501493], [-23.5466035909293, -46.6325810452057], [-23.625740208, -46.599192569], [-23.6339137788453, -46.6067032674262], [-23.5568046521974, -46.710201147868], [-23.590115684, -46.6874110869999], [-23.6325097933679, -46.7642015556977], [-23.6460034565333, -46.7518172457333], [-23.454673161, -46.766571733], [-23.4430441841809, -46.8046873629359], [-23.5978602003849, -46.7660209594163], [-23.6159683478543, -46.7230603956632], [-23.4885043317526, -46.6515557002794], [-23.4982623237756, -46.7067307733699], [-23.4865316714419, -46.6879335553433], [-23.5049860432202, -46.6913632211494], [-23.4562009159999, -46.6803144149999], [-23.4571654981216, -46.670746195914], [-23.4543102942697, -46.6742590078063], [-23.4568607700221, -46.5728204616298], [-23.5215173337586, -46.5617772996551], [-23.5182206229999, -46.5679508119999], [-23.8285113304663, -46.7373028676576], [-23.6652301574095, -46.7912211576827], [-23.6908198023515, -46.6388840214708], [-23.7063470921122, -46.6265673186311], [-23.6860015114516, -46.6414437268387], [-23.509355622037, -46.4341746211481], [-23.5152732638444, -46.5055513169999], [-23.512619550682, -46.4363953401001], [-23.5295893669439, -46.3946679973964], [-23.5297055933358, -46.426321274129], [-23.5382881401579, -46.4174393162105], [-23.5382881401579, -46.4174393162105], [-23.583169332, -46.417199535], [-23.5964314797056, -46.4204664298786], [-23.6336968859714, -46.4598338529714], [-23.5581934054653, -46.4994880395034], [-23.5341342831738, -46.5702477465869], [-23.5994884545582, -46.5130355187149], [-23.6114566686375, -46.6234140629742], [-23.608382505, -46.581162503], [-23.6445048310212, -46.6534656937872], [-23.6133478868503, -46.5929130273182], [-23.5144938552786, -46.6964327460655], [-23.5250873268235, -46.7101834822353], [-23.541743555, -46.648889126], [-23.4766104947485, -46.7566788444699], [-23.6097782179444, -46.7257114496666], [-23.45404224, -46.657107287], [-23.4807526499999, -46.663781699], [-23.4717851227645, -46.6826678364434], [-23.4410479095917, -46.7168792117226], [-23.4863329839999, -46.566677269], [-23.5369749847272, -46.5505937525454], [-23.6055414957246, -46.5610185107536], [-23.85674976, -46.7744267909999], [-23.6617054065454, -46.6623280820909], [-23.6812302875019, -46.6460728000475], [-23.6695840412265, -46.7385867786469], [-23.6696853165701, -46.739841242284], [-23.668983170455, -46.6858598020269], [-23.7220984859999, -46.7851635649999], [-23.7453131079999, -46.682001221], [-23.491656825, -46.4300057949999], [-23.4881940717368, -46.4293508882807], [-23.509466655, -46.4114789389999], [-23.5002903973686, -46.4622118615739], [-23.4915432532941, -46.4615995664313], [-23.5025587640406, -46.4586501562994], [-23.538975632818, -46.4693923514578], [-23.5398941328222, -46.4350325030667], [-23.590606282, -46.487486248], [-23.564600368, -46.415900334], [-23.640776181, -46.4575488519999], [-23.6116872812792, -46.5107727048985], [-23.6148475522601, -46.5179636985795], [-23.540300198, -46.6294659869999], [-23.5440701121298, -46.6301745389392], [-23.548669238621, -46.6304891568567], [-23.5410307727142, -46.6279100793214], [-23.5718699615631, -46.6627680115057], [-23.5770556275, -46.7078042349166], [-23.6481441524935, -46.748421389627], [-23.5022161328542, -46.7118463123643], [-23.4822097404545, -46.724336042303], [-23.620246617, -46.723562092], [-23.5049412493017, -46.5879972288954], [-23.4703321413513, -46.5665225951892], [-23.4562423238229, -46.7162157609486], [-23.5682770396124, -46.5954206769124], [-23.5410921867115, -46.5050414368077], [-23.5392915556271, -46.5677658593389], [-23.669456029918, -46.6656994391311], [-23.6610072925882, -46.7914653923529], [-23.6658936029747, -46.7944007519664], [-23.6687136303839, -46.7338231227127], [-23.659103264, -46.75846061], [-23.659103264, -46.75846061], [-23.659103264, -46.75846061], [-23.7039518007916, -46.6285345545833], [-23.7017460797547, -46.7725207993773], [-23.686570155, -46.755081482], [-23.6943371462308, -46.7796060767229], [-23.73101544, -46.785814107], [-23.6838440529537, -46.7608909428441], [-23.7468161519379, -46.684494313177], [-23.7391805189999, -46.666813813], [-23.4973224699823, -46.4401027446151], [-23.5065204379999, -46.497083457], [-23.5039484078571, -46.4612605584285], [-23.5857134775483, -46.3953701174516], [-23.5947456077472, -46.4945327351696], [-23.5247904291627, -46.6495268244883], [-23.539187233028, -46.6406008602308], [-23.5475334218976, -46.624768340445], [-23.4078726757174, -46.7445007254999], [-23.5719335653903, -46.7047311031794], [-23.6161589689705, -46.7243688693932], [-23.613853122, -46.7140246389999], [-23.4748590643092, -46.6702986730766], [-23.4565534239999, -46.6858714059999], [-23.5243552009696, -46.5812700539447], [-23.5209911743333, -46.5758321744444], [-23.5209911743333, -46.5758321744444], [-23.5329007549999, -46.518361932995], [-23.5638512741485, -46.5382489365135], [-23.6381571106828, -46.7174667161803], [-23.6381571106828, -46.7174667161803], [-23.9022841239999, -46.787485126], [-23.672452039, -46.78302789], [-23.769058306, -46.712783612], [-23.769058306, -46.712783612], [-23.6940955706777, -46.66658987559], [-23.7222830288857, -46.7657635677773], [-23.7532271861978, -46.6729163120677], [-23.5403323724285, -46.4534454968571], [-23.4978780623131, -46.3976762078917], [-23.4954891711147, -46.4772370487541], [-23.4821494696014, -46.4928018954325], [-23.4904447693255, -46.447634508279], [-23.534953747, -46.472528008], [-23.5346952904815, -46.4836974808888], [-23.5523929828392, -46.4818255133505], [-23.5383157914541, -46.4201920756434], [-23.5614021253955, -46.4094361519702], [-23.610558871463, -46.4556603966375], [-23.5830600805073, -46.4908027802509], [-23.5357887191621, -46.6285777214594], [-23.6073681731511, -46.5926214388005], [-23.6104776391706, -46.5864465914432], [-23.5965446245617, -46.6762220283117], [-23.6596219405591, -46.774447902842], [-23.640204575017, -46.7774074822109], [-23.6259124720826, -46.7575738025907], [-23.4794598531821, -46.7586279313214], [-23.4794598531821, -46.7586279313214], [-23.411063409186, -46.7426044446279], [-23.4170066991118, -46.8197575011679], [-23.4138557016249, -46.75029943575], [-23.5764431958659, -46.7624597337527], [-23.5051063481048, -46.7116989560394], [-23.6222898099999, -46.7267338349999], [-23.6227312739999, -46.72608593], [-23.489942883359, -46.610074694641], [-23.4720333500199, -46.6841870974047], [-23.4512899314744, -46.6888542573922], [-23.4564170269999, -46.700890697], [-23.5231420999574, -46.5436801282553], [-23.502889883, -46.5363734979999], [-23.5397978899259, -46.5362659496666], [-23.6685291503368, -46.726658417092], [-23.6897781830967, -46.7716379634838], [-23.7019990699999, -46.772176434], [-23.5303884309999, -46.444404135], [-23.5376006482881, -46.463612701661], [-23.5486427821466, -46.4806044401865], [-23.5241685234, -46.4152610704666], [-23.5102594866663, -46.4169264713143], [-23.56904609927, -46.3984092473312], [-23.546409863, -46.4233019218889], [-23.5966579464736, -46.4409814833158], [-23.5966579464736, -46.4409814833158], [-23.6191841446691, -46.4166953983471], [-23.58702411912, -46.40166229444], [-23.58702411912, -46.40166229444], [-23.6063058938882, -46.4025557152062], [-23.640776181, -46.4575488519999], [-23.607690932, -46.505394816], [-23.5991189234838, -46.533883805258], [-23.612977588, -46.5040773329999], [-23.5948874531186, -46.5309698521695], [-23.539107599, -46.6270469419999], [-23.5478856054368, -46.6025835211825], [-23.6473742501329, -46.6093912333261], [-23.6657644780791, -46.6378351126421], [-23.4790337450963, -46.7595107196336], [-23.438302171502, -46.7402885441999], [-23.511811956, -46.624905967], [-23.5052045796879, -46.5800983282589], [-23.374154661, -46.5756386749999], [-23.4658049114999, -46.6595160610833], [-23.4940649313401, -46.5898074868114], [-23.4863704709999, -46.5781763639999], [-23.4656117158636, -46.689172156], [-23.4712960282307, -46.6812746140769], [-23.4571160276811, -46.6750888782433], [-23.5216348767601, -46.5784948497204], [-23.5222673235604, -46.5714181161457], [-23.6829388558813, -46.650325392644], [-23.7701340149999, -46.681547586], [-23.6827771339127, -46.7457684850927], [-23.5147750215862, -46.398237866862], [-23.5536001547833, -46.480212040114], [-23.5882588087755, -46.4089463370909], [-23.6302685407828, -46.4475958965803], [-23.630966283, -46.468765054], [-23.541743555, -46.648889126], [-23.6175835723189, -46.7044997147392], [-23.4033525867728, -46.7482276881674], [-23.6153024779999, -46.719729561], [-23.452955028487, -46.6066084622614], [-23.4959891406576, -46.669581407235], [-23.4474042269845, -46.7321905321132], [-23.5124275936818, -46.5632701232727], [-23.5202754749015, -46.5760161488335], [-23.548210273021, -46.5235156516072], [-23.591861862, -46.534752784], [-23.5341342831738, -46.5702477465869], [-23.6730387302061, -46.7858079959389], [-23.6723122414849, -46.7854725005256], [-23.6699484157329, -46.7013622197471], [-23.5039752995793, -46.5175199981207], [-23.6029385826612, -46.431176123258], [-23.5909395559756, -46.5035607954972], [-23.6124840130468, -46.5224246963774], [-23.6112801935862, -46.535633749], [-23.5454165649188, -46.6311553989209], [-23.5322655515294, -46.6234984515882], [-23.658514887, -46.6609903149999], [-23.6106699264749, -46.5939761447098], [-23.6430195342732, -46.7723205839617], [-23.6315614563079, -46.7434984358287], [-23.4912295142003, -46.756443920637], [-23.585689164, -46.788855666], [-23.4676142084789, -46.6674362746273], [-23.470331315869, -46.68076291747], [-23.4670816198432, -46.5905689752872], [-23.4557012785704, -46.7182305812868], [-23.4903291729454, -46.5675454537257], [-23.5417436729999, -46.5797003279999], [-23.7701340149999, -46.681547586], [-23.7145035652594, -46.652801172646], [-23.7145035652594, -46.652801172646], [-23.7006864631076, -46.7790716421396], [-23.5038121257101, -46.3686557126304], [-23.4887071200649, -46.4085199981428], [-23.5117902332042, -46.482864721938], [-23.5115198722238, -46.4770869481226], [-23.5115198722238, -46.4770869481226], [-23.5115198722238, -46.4770869481226], [-23.5115198722238, -46.4770869481226], [-23.5446691591898, -46.4101016445863], [-23.5506031724285, -46.3972127640919], [-23.5596701873424, -46.4054805845205], [-23.5814844574062, -46.4149186769432], [-23.5552273422, -46.4921662804], [-23.5997138128816, -46.51409650676], [-23.5904526741703, -46.6302495354873], [-23.5421020203333, -46.6249800696666], [-23.5333835179999, -46.6421545874474], [-23.6741553307622, -46.6366341079164], [-23.6317397285921, -46.7627793567884], [-23.6464915449999, -46.772565986], [-23.6338319257026, -46.747954837779], [-23.6338319257026, -46.747954837779], [-23.6338319257026, -46.747954837779], [-23.4460687245, -46.7480749619999], [-23.4469193919999, -46.7877706949999], [-23.6481441524935, -46.748421389627], [-23.5038494727122, -46.6248986779704], [-23.455343774, -46.5945150489999], [-23.458824057732, -46.6928997540996], [-23.5019524684758, -46.5341121392563], [-23.6598243368675, -46.7735694677947], [-23.6775361017021, -46.6631577144255], [-23.6984013411381, -46.635323037687], [-23.7320861342592, -46.7850856454444], [-23.6906403959999, -46.768176312], [-23.6878506079385, -46.7702538252691], [-23.7312289449999, -46.746149923], [-23.701551003, -46.791970174], [-23.4966463821056, -46.4419015171621], [-23.4973224699823, -46.4401027446151], [-23.607073154, -46.472322413], [-23.5473455411111, -46.6318888183333], [-23.64389232375, -46.6073155943125], [-23.661432192, -46.635467838], [-23.6568896961915, -46.7762606855854], [-23.618547187701, -46.7266344642312], [-23.5619195687925, -46.7509724508471], [-23.5619195687925, -46.7509724508471], [-23.5619195687925, -46.7509724508471], [-23.480425679, -46.603553577], [-23.488400321074, -46.6751161876543], [-23.4542407347123, -46.6742335212435], [-23.451035933057, -46.6907471993431], [-23.4867023485, -46.5728166449999], [-23.5243144620597, -46.5714858032776], [-23.5399185545, -46.6047735552499], [-23.701465586987, -46.7911937956842], [-23.6597743459999, -46.7804943039999], [-23.7121108294871, -46.7007503512759], [-23.686547758, -46.661929974], [-23.7796791705577, -46.6846123319684], [-23.7712749249999, -46.6803160979999], [-23.661618882, -46.740096369], [-23.663458771, -46.7461353269999], [-23.7003958342857, -46.6416416974286], [-23.7033058961079, -46.6442494319099], [-23.6849058868067, -46.7669269659014], [-23.7167562383033, -46.765864855216], [-23.74167341, -46.778938045], [-23.74167341, -46.778938045], [-23.522917252, -46.469646667], [-23.528828709, -46.4129709524999], [-23.5437747002631, -46.3963783151579], [-23.5800400545263, -46.5046101361579], [-23.5549901806777, -46.4624984263513], [-23.6107221517743, -46.4840292157795], [-23.5587469628477, -46.6249894347414], [-23.5644288971111, -46.6698354111111], [-23.5952855390877, -46.5984643466315], [-23.5002608525834, -46.7391375398456], [-23.6046562112758, -46.7876078840344], [-23.5244775629999, -46.736896789], [-23.481412238, -46.670078577], [-23.4570769925327, -46.6684214692201], [-23.4415756849473, -46.5810663891052], [-23.4410479095917, -46.7168792117226], [-23.5038546058405, -46.5242022779565], [-23.7932101083922, -46.688813097429], [-23.6562496862674, -46.7836268105475], [-23.6709933597134, -46.7631389882334], [-23.6908554084858, -46.638928350436], [-23.7248964405649, -46.7856609207738], [-23.6994878649373, -46.7801956563973], [-23.7043394760699, -46.7428711508689], [-23.4977074105879, -46.4448386044493], [-23.5386479102032, -46.4735334122601], [-23.6112645228965, -46.4758606043673], [-23.565122304485, -46.4719149166448], [-23.6089534964343, -46.5176141041167], [-23.6071427418626, -46.5161698136323], [-23.6140354139999, -46.530734907], [-23.615939027, -46.5114593069999], [-23.553662994732, -46.6296191478605], [-23.5499028870113, -46.6348792234726], [-23.527339194125, -46.6479531252499], [-23.5394528396808, -46.6415681652978], [-23.5507638239999, -46.6425808239999], [-23.5453490005224, -46.6149307554776], [-23.5391777856975, -46.6077234422115], [-23.6641131121233, -46.6595287605696], [-23.6641131121233, -46.6595287605696], [-23.6740051238807, -46.6326408274273], [-23.5001882391257, -46.7418932065138], [-23.5666466333617, -46.6390401663649], [-23.644700628771, -46.7795114456686], [-23.645163548225, -46.7458796169911], [-23.6418620993781, -46.7742358491917], [-23.4360069297692, -46.7866726010769], [-23.5862956669999, -46.758848068], [-23.491480807127, -46.5925087484943], [-23.4584792861475, -46.6760924422294], [-23.4595387020111, -46.6664196658889], [-23.4465639590095, -46.5772963053032], [-23.4580280830622, -46.698822331572], [-23.7929207467334, -46.7391967051677], [-23.69085232513, -46.7823665175473], [-23.6725902663375, -46.7876148442799], [-23.778591471, -46.676454307], [-23.7483658966075, -46.7006250025716], [-23.7025205568525, -46.6356842071514], [-23.5172400821764, -46.5159468479367], [-23.505932387, -46.459667585], [-23.5678506508051, -46.4102762350492], [-23.6110218489999, -46.501342181], [-23.547376377, -46.631962186], [-23.542167525, -46.609705745], [-23.5448064311132, -46.6224468972159], [-23.5355279794549, -46.6444435599327], [-23.5609763389999, -46.6920880942592], [-23.5174293269069, -46.6747171003023], [-23.4098231327611, -46.7348030066416], [-23.6222898099999, -46.7267338349999], [-23.6092635728731, -46.725647432208], [-23.5245506866815, -46.7369834112892], [-23.4811561484937, -46.6499926646205], [-23.4710464084471, -46.6807150706338], [-23.4532369095653, -46.6721680512975], [-23.4389480789999, -46.5741090459999], [-23.438979102, -46.587074264], [-23.4478051444615, -46.7386403067435], [-23.4410479095917, -46.7168792117226], [-23.8347306021739, -46.7293273661304], [-23.874258147, -46.649174757], [-23.874258147, -46.649174757], [-23.6804856886629, -46.6454822010364], [-23.6878035371545, -46.6476733328802], [-23.6666708451892, -46.7049235335067], [-23.7574016080846, -46.6813280323376], [-23.4847502659999, -46.5049703889999], [-23.5134002039999, -46.4437782439999], [-23.6029054484953, -46.4042246826588], [-23.6035711805271, -46.3990433851706], [-23.5998431908301, -46.4023574102349], [-23.6123853018734, -46.5308257662278], [-23.5496427266786, -46.6339022003012], [-23.5402694116051, -46.612168549894], [-23.5703305957924, -46.6589147281698], [-23.6049308741238, -46.7305683578527], [-23.6239336673353, -46.7558951561605], [-23.4371982396971, -46.8065782101566], [-23.5759511704836, -46.7485107224816], [-23.5750037117857, -46.7526482146428], [-23.6030635159476, -46.7814869757779], [-23.4535565259999, -46.601868323], [-23.4700749166873, -46.6540484007116], [-23.480011035, -46.655858625], [-23.497360581192, -46.592036997664], [-23.4578221195943, -46.678817610155], [-23.4481606916666, -46.5683874423333], [-23.4557003851917, -46.5894852557808], [-23.4352035244032, -46.5669685719255], [-23.4560200176544, -46.6980476265327], [-23.4940277511861, -46.5708458151519], [-23.5779382949692, -46.5697896513022], [-23.5769630075346, -46.5492149995841], [-23.8631895328795, -46.7029849080565], [-23.664042991, -46.7821143109999], [-23.6970825345745, -46.7829852645453], [-23.6536340796889, -46.7908452134444], [-23.6470664123226, -46.7345739936451], [-23.5045822803749, -46.378399337875], [-23.5062460648513, -46.3877931078518], [-23.512616581, -46.382579178], [-23.4906500277105, -46.4183007990789], [-23.5003548349999, -46.4717771369999], [-23.5432998848256, -46.4766487551759], [-23.5353333760645, -46.4017505669677], [-23.5916141245555, -46.5087315337777], [-23.5879579329999, -46.381696178], [-23.5991194371379, -46.453449988023], [-23.6130509000476, -46.4579664431052], [-23.587196857, -46.4832768209999], [-23.6155285743676, -46.5179161427551], [-23.6155285743676, -46.5179161427551], [-23.5935820872, -46.5989796918], [-23.6076476841745, -46.5817381474759], [-23.6376035773, -46.6084186146], [-23.4978378141998, -46.7495395281525], [-23.6481441524935, -46.748421389627], [-23.641701443199, -46.7702772967209], [-23.4561865846666, -46.6549617493333], [-23.4946711227855, -46.5916393583978], [-23.4421667943207, -46.5783852564865], [-23.4394098482871, -46.7193764179308], [-23.4286331015034, -46.7266214814021], [-23.5215173337586, -46.5617772996551], [-23.899783225, -46.726935098], [-23.8013715209003, -46.7280690748004], [-23.652997677, -46.781631623], [-23.76850478316, -46.68530642968], [-23.667504255, -46.752911344], [-23.7224507204898, -46.7498500611354], [-23.7489418389999, -46.6649511059999], [-23.5081039751219, -46.3765751792352], [-23.4816851386, -46.4190187021999], [-23.4935838076363, -46.4786404188545], [-23.5368694157294, -46.463370785939], [-23.5689520176739, -46.5206393209782], [-23.5729851105824, -46.5333901696309], [-23.6061386365624, -46.4014524868237], [-23.5877041887179, -46.4019659931794], [-23.6210260949999, -46.4783286639999], [-23.5502984710069, -46.4979284321714], [-23.5960774119451, -46.4992867724222], [-23.6140354139999, -46.530734907], [-23.5453318774026, -46.631593900352], [-23.5488988179999, -46.6019178019999], [-23.6027102447217, -46.5956504980107], [-23.4717976201096, -46.711401809388], [-23.5456504409166, -46.5032003134166], [-23.5929848990638, -46.5580540101701], [-23.8249111599251, -46.6721468177408], [-23.6692637318648, -46.6495726824865], [-23.6760128763703, -46.6628215323889], [-23.7637169079999, -46.6961909954285], [-23.6570104625294, -46.7547338088235], [-23.5219575602259, -46.4433490561569], [-23.54098499675, -46.6083740071999], [-23.6434108525365, -46.6334141678536], [-23.6080979406153, -46.7063250093846], [-23.4186478872658, -46.8053281180088], [-23.5754935109999, -46.7802827049999], [-23.5884034933266, -46.7802132990788], [-23.495973506711, -46.6078464215312], [-23.4551854013069, -46.6573429658804], [-23.4914719100718, -46.6849080840211], [-23.5255339052191, -46.5567844336809], [-23.8124879306118, -46.7127489233352], [-23.8766837492653, -46.6580214713804], [-23.67171093, -46.779585588], [-23.7474366572069, -46.7788636377586], [-23.6668369109703, -46.7521702067019], [-23.6670761433701, -46.7478917629429], [-23.7296942445315, -46.7879497432554], [-23.5971841815508, -46.4400861266738], [-23.619469522021, -46.4197511922176], [-23.616201860215, -46.4228363185001], [-23.616201860215, -46.4228363185001], [-23.6320989786076, -46.4386680932152], [-23.6361056721394, -46.4390505408047], [-23.5935723329796, -46.4946781875958], [-23.6143242849112, -46.5139500311085], [-23.5513927069999, -46.633217069], [-23.571157921, -46.6310797529999], [-23.532294747909, -46.6240533340909], [-23.541743555, -46.648889126], [-23.6678739606237, -46.6493770713969], [-23.6481441524935, -46.748421389627], [-23.6339569088252, -46.7760944736367], [-23.4771811924451, -46.7561918850615], [-23.5698819083421, -46.7629133743947], [-23.5230086660151, -46.6014137135218], [-23.5163212141447, -46.6258756729493], [-23.4821273693695, -46.6673952698043], [-23.4675501639999, -46.6810090719999], [-23.4725059106895, -46.6847884780923], [-23.4563949028018, -46.5775066078848], [-23.4563949028018, -46.5775066078848], [-23.408483813, -46.580717264], [-23.4403979118333, -46.5772414141965], [-23.4496629071564, -46.7093233755997], [-23.4496629071564, -46.7093233755997], [-23.4517105822727, -46.7000710497272], [-23.6019982558095, -46.5647121068095], [-23.8286427731972, -46.6654664681213], [-23.6579762924266, -46.7898852861033], [-23.6511514070222, -46.7909694415751], [-23.6872555971017, -46.792501517365], [-23.742334768, -46.703864161], [-23.7489986139082, -46.7092954696306], [-23.7104147411944, -46.6621693610839], [-23.7490101989999, -46.669773188], [-23.4927119312467, -46.3885616279996], [-23.6113103879999, -46.441874131], [-23.5767683445057, -46.4547030235402], [-23.5859220899999, -46.435621206], [-23.6072343108577, -46.5269407298895], [-23.6072343108577, -46.5269407298895], [-23.5388812539999, -46.6205018489999], [-23.6399356477823, -46.6127917044828], [-23.5802736503829, -46.7211568534971], [-23.437248025, -46.7859916799999], [-23.4374942497219, -46.7404815435186], [-23.4847468834537, -46.7652624858647], [-23.5021175413333, -46.6206009456666], [-23.4533014593186, -46.6079575756061], [-23.4609397255862, -46.6710574975517], [-23.453232928655, -46.6721876205914], [-23.4530409389999, -46.6942357569999], [-23.450082481, -46.56974121], [-23.450082481, -46.56974121], [-23.4420202306464, -46.7270593398898], [-23.5107085669999, -46.542042618], [-23.607827174766, -46.5546689986676], [-23.5329247643141, -46.5564042644246], [-23.8540945931517, -46.7078812096239], [-23.8876884622165, -46.7312951408056], [-23.8751396914147, -46.6493775713346], [-23.67497278828, -46.7971518468235], [-23.662911015, -46.79419904], [-23.6884704719545, -46.7848939227436], [-23.741818157, -46.7823175519999], [-23.741818157, -46.7823175519999], [-23.691291763, -46.744400012], [-23.5234183042068, -46.4146852192186], [-23.5722280716842, -46.5219360668684], [-23.5554308930592, -46.6277593804848], [-23.563815092, -46.6324839179999], [-23.5429316, -46.6167617], [-23.53213156, -46.626015319], [-23.6360898982104, -46.7583946357969], [-23.6409951346963, -46.76754316683], [-23.6476276899655, -46.7779777747241], [-23.6401503824284, -46.7609195717598], [-23.4442223541135, -46.7960539353497], [-23.432908676142, -46.7870730763104], [-23.4822097404545, -46.724336042303], [-23.6335411392161, -46.7316252803763], [-23.4881656699999, -46.653681466], [-23.4761572269999, -46.663361731], [-23.4584495445103, -46.6869770410244], [-23.4694311013846, -46.6704640365384], [-23.42596495, -46.5887794], [-23.4419018187186, -46.7351765675344], [-23.5114469019999, -46.5463600529999], [-23.6433707817213, -46.7191666706065], [-23.6433707817213, -46.7191666706065], [-23.8883048742165, -46.7311542178131], [-23.848404659, -46.7576759639999], [-23.6428944077631, -46.7826800735483], [-23.6547082063483, -46.7908633931883], [-23.660758626, -46.7680242399999], [-23.6703561896538, -46.7885184456923], [-23.77011512293, -46.7656126130645], [-23.77011512293, -46.7656126130645], [-23.6657615178868, -46.7488679329531], [-23.7036659529999, -46.736935853], [-23.73072529, -46.750233592], [-23.7563315604516, -46.6689077314838], [-23.4980747756011, -46.5249684934055], [-23.50043132, -46.36904536], [-23.5126282353554, -46.4733309839524], [-23.5159341616551, -46.4757981313448], [-23.5427435764035, -46.3924217307189], [-23.595189690984, -46.4398895518715], [-23.5849045169999, -46.442184931], [-23.5440819799999, -46.636178515], [-23.5262889004347, -46.6216417054768], [-23.6188118957972, -46.5925231933736], [-23.6046150125762, -46.6038091431525], [-23.6515572, -46.6460757], [-23.566129154, -46.6955283469999], [-23.6496224288163, -46.7595037758163], [-23.6481441524935, -46.748421389627], [-23.4526747959637, -46.7908066162578], [-23.4139046402499, -46.7503244625], [-23.5919682, -46.7834951], [-23.540116929, -46.73290198], [-23.509560151, -46.623918078], [-23.4612671808135, -46.6523689429186], [-23.4708100299999, -46.650276338], [-23.5450297269812, -46.5067707085078], [-23.564664234, -46.564399318], [-23.5535134859999, -46.568689461], [-23.7697922, -46.6488679], [-23.8557901, -46.7149508], [-23.6703079918342, -46.7860677986174], [-23.6797194333333, -46.6608151796666], [-23.6896942002421, -46.7518772777584], [-23.5429127741759, -46.4669137604542], [-23.5076307162, -46.4215288044], [-23.5402735598749, -46.395637554625], [-23.5842887826032, -46.4088753539395], [-23.5881894613218, -46.4089728048112], [-23.6102656245588, -46.4929577381955], [-23.5227136324214, -46.6499185635266], [-23.5401851264653, -46.640960482377], [-23.6483348928289, -46.658150089118], [-23.5789575365714, -46.6803953914693], [-23.6425500383907, -46.7797510230261], [-23.619272823093, -46.7581302765116], [-23.6388372129999, -46.74535191], [-23.5339453414076, -46.729371612949], [-23.4876186499999, -46.621523977], [-23.4821967979642, -46.5735139621785], [-23.5820003174026, -46.5912426528484], [-23.7765100502029, -46.7060656086521], [-23.8806369489999, -46.7415861869999], [-23.6543276032821, -46.7907250957243], [-23.673562478, -46.796807857], [-23.7220513067625, -46.6942205273518], [-23.7162242131297, -46.7837703517242], [-23.75547504, -46.659550087], [-23.7560547209999, -46.6806849869999], [-23.7613631369099, -46.6560375390216], [-23.4837093453613, -46.4741379242367], [-23.5152171786613, -46.4726855915476], [-23.5274712465781, -46.4647978990034], [-23.532334273317, -46.4804279504878], [-23.5352120657039, -46.4071919038438], [-23.5615775818701, -46.4083901083469], [-23.5864846969999, -46.3831119009999], [-23.6021402, -46.4134788], [-23.6137832389999, -46.5302082709999], [-23.5392455325609, -46.6428256039024], [-23.643710173804, -46.6576752946896], [-23.643710173804, -46.6576752946896], [-23.643710173804, -46.6576752946896], [-23.6408602469999, -46.60860268], [-23.6373553640473, -46.7580794429432], [-23.635881342358, -46.7467111437133], [-23.529099244976, -46.7390268652108], [-23.50892, -46.624813], [-23.5008688017931, -46.6223559586896], [-23.4777856488823, -46.6786959498823], [-23.4696788044999, -46.659210727], [-23.4690992499296, -46.6801799063943], [-23.4690992499296, -46.6801799063943], [-23.4699868, -46.680569], [-23.460548892, -46.684317118], [-23.4605807934467, -46.689458069278], [-23.811381604, -46.7143817959999], [-23.669596046, -46.657081551], [-23.6770349091315, -46.7648347836842], [-23.6991374225969, -46.7864652808801], [-23.6734924131262, -46.7472827954313], [-23.6638841552421, -46.7371618759702], [-23.654946534194, -46.7473499003432], [-23.67534978, -46.7523155969999], [-23.67534978, -46.7523155969999], [-23.7183847685588, -46.6356060928374], [-23.7183847685588, -46.6356060928374], [-23.742513956, -46.661732566], [-23.4833539808222, -46.4243863270512], [-23.5184555172223, -46.3921124601653], [-23.4899664575893, -46.4764668804473], [-23.5696350609999, -46.406461249], [-23.5924085856814, -46.4015277570607], [-23.6087149, -46.4919173], [-23.5384756255303, -46.6451771571686], [-23.5554292348888, -46.6205635375555], [-23.5533279455325, -46.6251937023068], [-23.54081714925, -46.6077948432], [-23.54081714925, -46.6077948432], [-23.5252982175497, -46.6292101378144], [-23.53913028405, -46.615855505725], [-23.5565638787608, -46.669589265855], [-23.6156158424515, -46.6806275956835], [-23.6297061957963, -46.75243197557], [-23.4151327270088, -46.7508566374766], [-23.4735689075799, -46.7098729665264], [-23.4692633222951, -46.6598631603574], [-23.4601067547051, -46.6784191493205], [-23.522320141, -46.569777189], [-23.8253462829381, -46.7206322109231], [-23.649227068923, -46.7887610945384], [-23.68410609769, -46.7816433932477], [-23.6810264523054, -46.7981574791122], [-23.7651701192208, -46.731163643431], [-23.6898172328818, -46.6381527099124], [-23.731652604, -46.697690478], [-23.4919406648181, -46.4065983995818], [-23.5003548349999, -46.4717771369999], [-23.54596339738, -46.4090612425294], [-23.589247977, -46.488773231], [-23.5849045169999, -46.442184931], [-23.5559235548928, -46.6291324773214], [-23.5420183805172, -46.6128833207931], [-23.568361352, -46.655579608], [-23.6542681765965, -46.653785138228], [-23.5569500209563, -46.6686886737354], [-23.6231725513606, -46.7636243941679], [-23.4371138928598, -46.7510704877228], [-23.58072856, -46.729250081], [-23.4851637, -46.6915215], [-23.4556532619999, -46.6717504], [-23.467928507, -46.6776420419999], [-23.4567515109999, -46.5984643269999], [-23.4810909, -46.701627], [-23.6913295653353, -46.7963852148578], [-23.697246542, -46.779308933], [-23.7162242131297, -46.7837703517242], [-23.750257937, -46.666962976], [-23.7001579925, -46.5138513816666], [-23.4927119312467, -46.3885616279996], [-23.4912952926249, -46.380881151625], [-23.5249144373809, -46.4702943520476], [-23.540511, -46.4372746], [-23.5867092359999, -46.523355538], [-23.5637829, -46.4622942], [-23.6092202036207, -46.3979919330344], [-23.6306321554823, -46.4502963245821], [-23.6161607, -46.5181472], [-23.6161607, -46.5181472], [-23.6161607, -46.5181472], [-23.5476406989999, -46.63602736], [-23.5414063160767, -46.6184371663782], [-23.5881694, -46.6001365], [-23.4408905609999, -46.786882582], [-23.575980573, -46.7376585869999], [-23.6073447881966, -46.7453138452606], [-23.474244991, -46.650514974], [-23.467928507, -46.6776420419999], [-23.4403923849999, -46.582533137], [-23.573629137, -46.565532407], [-23.5540993715946, -46.5679514078378], [-23.5540993715946, -46.5679514078378], [-23.65464897, -46.70310226], [-23.6521044359999, -46.707851467], [-23.670458775736, -46.6583701100927], [-23.670458775736, -46.6583701100927], [-23.6606104, -46.7681513], [-23.6770729914011, -46.766705724865], [-23.6765102489999, -46.6648821969999], [-23.763696959, -46.690986282], [-23.6615476, -46.7496276], [-23.6579216971216, -46.7575837460537], [-23.516286142, -46.389523857], [-23.553772891962, -46.4164564940517], [-23.553772891962, -46.4164564940517], [-23.5875871, -46.4025799], [-23.550234533, -46.639254567], [-23.525989324, -46.6348518039999], [-23.528915969, -46.633914106], [-23.5416872, -46.6096777], [-23.535708982, -46.625513756], [-23.526682, -46.6214163], [-23.5164017703782, -46.6748341696209], [-23.6397339490805, -46.7496980395614], [-23.6397339490805, -46.7496980395614], [-23.6436544389999, -46.751768447], [-23.6428829279999, -46.736475801], [-23.4470491227743, -46.788252734157], [-23.5400856642329, -46.7464238988135], [-23.5013309, -46.7023452], [-23.470082689, -46.68712386], [-23.5052408299999, -46.587845326], [-23.509732992, -46.570979312], [-23.529971947, -46.52767252], [-23.5502992783333, -46.5355997223333], [-23.5269155619999, -46.563159071], [-23.5406448050425, -46.6048190097446], [-23.674956353, -46.78545338], [-23.6593638824145, -46.7304468561701], [-23.752626886, -46.679830474], [-23.746223901, -46.6640160059999], [-23.4939472, -46.3873018], [-23.5405885, -46.4163552], [-23.551176, -46.4365682], [-23.5607251, -46.4045096], [-23.6133693, -46.4441787], [-23.605631129, -46.4131261599999], [-23.530113628, -46.6766767239999], [-23.6350707, -46.7396258], [-23.6578865019999, -46.7671581549999], [-23.4172142641883, -46.7312526190162], [-23.5897754074482, -46.7802134354138], [-23.5180115059999, -46.6253196119999], [-23.502358831, -46.5897403979999], [-23.455524558, -46.684426028], [-23.6783674086666, -46.792102793303], [-23.6871608541269, -46.6569687706395], [-23.7589909673703, -46.6843378194886], [-23.747495132, -46.7768020469999], [-23.747495132, -46.7768020469999], [-23.6917752546842, -46.769034666421], [-23.6872029, -46.748794], [-23.5319495991454, -46.4469271631636], [-23.5553838769999, -46.472131807], [-23.6018941505028, -46.4977404664098], [-23.613324619, -46.532299908], [-23.547376377, -46.631962186], [-23.552163255, -46.627577217], [-23.5400203530812, -46.6360836336822], [-23.5453759, -46.6489592], [-23.5972503747715, -46.5994984325759], [-23.6041069, -46.6626166], [-23.6402064083409, -46.6540182776245], [-23.557577996, -46.701282496], [-23.6408525, -46.7537916], [-23.636287024, -46.755259794], [-23.5862956669999, -46.758848068], [-23.4822097404545, -46.724336042303], [-23.5203726645325, -46.7440647515968], [-23.5010390278707, -46.6166685252338], [-23.4780194369999, -46.677406971], [-23.4663368, -46.6861456], [-23.6732733703098, -46.767197674637], [-23.716714434, -46.6759660769999], [-23.701990623, -46.646165058], [-23.7112597999999, -46.6288299879999], [-23.739257192, -46.6806648909999], [-23.7452709423518, -46.6571048575762], [-23.4749384746428, -46.426506819119], [-23.4917059238518, -46.3933347441481], [-23.517326752, -46.467713906], [-23.5614021253955, -46.4094361519702], [-23.6069704179999, -46.4827921139999], [-23.542073527, -46.6424529499999], [-23.556619476, -46.624578265], [-23.5405759874787, -46.6102003001383], [-23.5327689, -46.6438443], [-23.5919403249999, -46.6069017519999], [-23.5838886249999, -46.636850608], [-23.492164064, -46.5732157309999], [-23.5377566890425, -46.5027495060851], [-23.5485744969361, -46.5104795670212], [-23.5355957749999, -46.582626733], [-23.8874593, -46.6893722], [-23.6535419471764, -46.782130450647], [-23.6886245090171, -46.7931259757218], [-23.6410883175926, -46.787127409403], [-23.7162427, -46.687683], [-23.6807412, -46.6784915], [-23.758901756621, -46.665924876524], [-23.74029115, -46.7821071889999], [-23.7459801439999, -46.6565809219999], [-23.740396254, -46.6614352199999], [-23.7332197899511, -46.666538757248], [-23.7426709139003, -46.6553436230073], [-23.503043815102, -46.449470433029], [-23.5131136211377, -46.4511318260229], [-23.5810990677827, -46.4420924416598], [-23.5658149, -46.4719678], [-23.5665686249999, -46.451713], [-23.5665686249999, -46.451713], [-23.5673566, -46.4805785], [-23.55513586, -46.5169251519999], [-23.5530818582677, -46.6283495936159], [-23.5472198, -46.6316082], [-23.5424976259999, -46.6380153659999], [-23.5411624289999, -46.6402222359999], [-23.5523602499999, -46.618653496], [-23.5389539, -46.6066786], [-23.5434471, -46.6264109], [-23.6416407229872, -46.5919778470297], [-23.522759182, -46.6555001629999], [-23.6392413396599, -46.7576085425117], [-23.642916821, -46.75634338], [-23.642916821, -46.75634338], [-23.6539510730706, -46.7638460930556], [-23.6539510730706, -46.7638460930556], [-23.6424589379999, -46.747289238], [-23.6424589379999, -46.747289238], [-23.5758956359984, -46.7776536037095], [-23.7804593, -46.69102], [-23.75073266, -46.6994276529999], [-23.700988, -46.6396747], [-23.7425959, -46.6622756], [-23.6115391319871, -46.4517359386208], [-23.592121, -46.4779558], [-23.597448963, -46.4591388599999], [-23.597448963, -46.4591388599999], [-23.5947990949999, -46.4441670109999], [-23.6295312253844, -46.4451739622412], [-23.5378214, -46.6447759], [-23.6451755, -46.7515869], [-23.4536368, -46.5880286], [-23.7715103323129, -46.7127617824595], [-23.8551733, -46.7169181], [-23.917236111, -46.636492527], [-23.658694258, -46.781525566], [-23.7102095944456, -46.6894870603387], [-23.7475993859999, -46.71066515], [-23.6585392256251, -46.7427365728071], [-23.6741985859999, -46.734298403], [-23.7296570518918, -46.6935969289105], [-23.7300705659999, -46.689113945], [-23.7459801439999, -46.6565809219999], [-23.489593542, -46.5090555049999], [-23.496862477, -46.393710239], [-23.5308767586956, -46.4526064656521], [-23.5260008762198, -46.4526634697633], [-23.549043293, -46.426060358], [-23.559472, -46.3941474], [-23.573317506, -46.4458478569999], [-23.5853631, -46.3969203], [-23.5302, -46.6362], [-23.5424395, -46.6067364], [-23.533499325, -46.650979277], [-23.634099292, -46.643014008], [-23.515216216395, -46.7466372656833], [-23.5869783709999, -46.6923314209999], [-23.641483066, -46.747747374], [-23.6236490940359, -46.747299815766], [-23.6358242874196, -46.7471831457442], [-23.6424589379999, -46.747289238], [-23.631379388, -46.7473237029999], [-23.6438369697628, -46.7540956747713], [-23.583841341, -46.73804438], [-23.4791552876747, -46.693490216504], [-23.5889104, -46.5679023], [-23.8551733, -46.7169181], [-23.6631, -46.7922], [-23.679918577, -46.7831003329999], [-23.659042814, -46.7509153199999], [-23.6939197, -46.6569799869999], [-23.73266921, -46.66005289], [-23.517028578, -46.5079105359999], [-23.5068378289999, -46.401445786], [-23.481557, -46.4846379], [-23.5074917969999, -46.4251673959999], [-23.608714909, -46.421891396], [-23.5501638709999, -46.626634281], [-23.5501249238697, -46.6202678298925], [-23.5332831869999, -46.616956966], [-23.608004007, -46.652550957], [-23.6181154559999, -46.611621859], [-23.599656833, -46.6748225759999], [-23.5671822, -46.7023303], [-23.6290510990645, -46.755581402258], [-23.4390061349999, -46.7577491919999], [-23.6113644389999, -46.7218533569999], [-23.410251049, -46.581660761], [-23.4656400559999, -46.698163118], [-23.4563123469999, -46.685510623], [-23.4719532, -46.5642811], [-23.44618402, -46.577318142], [-23.449436813, -46.674017017], [-23.665269967, -46.791004076], [-23.665269967, -46.791004076], [-23.7098069109999, -46.700769603], [-23.7098069109999, -46.700769603], [-23.687230824, -46.666010312], [-23.687230824, -46.666010312], [-23.6525189659999, -46.744507739], [-23.697195758, -46.6333684539999], [-23.7037210157957, -46.7837709575852], [-23.7523423399999, -46.776713547], [-23.545349469, -46.4624092029999], [-23.5669887569999, -46.395315813], [-23.6215331879999, -46.449636385], [-23.597448963, -46.4591388599999], [-23.601833584, -46.53865755], [-23.6517891015034, -46.773367655416], [-23.5671083149999, -46.400689569], [-23.6441555049091, -46.6580088012181], [-23.5961426628164, -46.4351323241319], [-23.417213251, -46.579903122], [-23.5061294924983, -46.6233248557167], [-23.5115583891829, -46.4706845403536], [-23.6405327723514, -46.7464894731554], [-23.430192958965, -46.5925267242271], [-23.564154844, -46.4100332134999], [-23.7172292238061, -46.6995766215012], [-23.5424402721607, -46.6135439771607], [-23.5918195902599, -46.4143658764356], [-23.7018596409999, -46.635428337], [-23.4287254779722, -46.7926492858064], [-23.561614614, -46.6655302692857], [-23.4605615961522, -46.5822267844174], [-23.6555497675145, -46.6503101560026], [-23.490114363, -46.452822897], [-23.5820687299999, -46.4906462169999], [-23.6041129061702, -46.594494408234], [-23.5971648863636, -46.6367977144545], [-23.49866165, -46.422958219], [-23.557183449478, -46.4105758317865], [-23.5663522549699, -46.4661803196735], [-23.5228090600842, -46.6939524150807], [-23.5181124699999, -46.618228297], [-23.5181124699999, -46.618228297], [-23.4299260882051, -46.5929861207479], [-23.5260022985547, -46.4322325596486], [-23.6104715079999, -46.4404207009999], [-23.552480837, -46.6585429319999], [-23.4782637701886, -46.561243589033], [-23.4782637701886, -46.561243589033], [-23.4782637701886, -46.561243589033], [-23.5317774212231, -46.6570478852068], [-23.5401448636122, -46.5355257288367], [-23.82291924, -46.7100920509999], [-23.5031855461346, -46.5677667851138], [-23.4850586633226, -46.6145196592719], [-23.5354754417656, -46.5544198965526], [-23.5502556424888, -46.6315471186592], [-23.5641314606683, -46.404411132825], [-23.454940081, -46.7858333189999], [-23.611689575283, -46.7238664809811], [-23.6451282493424, -46.7628736903883], [-23.527788184, -46.674175928], [-23.58999601875, -46.5561753241249], [-23.5153420234294, -46.5612239519602], [-23.408483813, -46.580717264], [-23.5821400242303, -46.7477877989552], [-23.4793168496874, -46.6584224605625], [-23.5351079282598, -46.4543910493584], [-23.447402956, -46.7559187539999], [-23.5974711998095, -46.7670316839524], [-23.8949507013156, -46.799526120564], [-23.8949507013156, -46.799526120564], [-23.603541833, -46.596200126], [-23.6263013444778, -46.474679147192], [-23.5188599865579, -46.5524633138329], [-23.547598391, -46.401971488], [-23.581809232, -46.5936585549999], [-23.581809232, -46.5936585549999], [-23.581809232, -46.5936585549999], [-23.675337054837, -46.6573940608493], [-23.531260632, -46.3998791087307], [-23.480108525, -46.4254156175999], [-23.5805386234852, -46.4153407556381], [-23.6985963658523, -46.6370324314813], [-23.6985963658523, -46.6370324314813], [-23.5979778418654, -46.7853176650402], [-23.5090511678913, -46.5205945591304], [-23.56672895136, -46.39425952736], [-23.685133755, -46.6467920279999], [-23.65241846, -46.661514349], [-23.65241846, -46.661514349], [-23.5851280028181, -46.8025164295454], [-23.6335271193636, -46.4610109169999], [-23.6335271193636, -46.4610109169999], [-23.6030866522827, -46.7955556736483], [-23.5727905254191, -46.6024494128817], [-23.5483268069372, -46.4231568331949], [-23.5289149029999, -46.489044045], [-23.6525124876153, -46.7897074942307], [-23.6525124876153, -46.7897074942307], [-23.5554116994705, -46.3954175344117], [-23.4863791649897, -46.6908428435342], [-23.5203690801371, -46.5673640598147], [-23.5576230208998, -46.4438887446394], [-23.5898244159999, -46.735555846], [-23.589944642762, -46.4846945206051], [-23.4158190380776, -46.7319811779337], [-23.4158190380776, -46.7319811779337], [-23.676431098, -46.657572807], [-23.6650022969999, -46.790222539], [-23.5099073905276, -46.4382734653991], [-23.5099073905276, -46.4382734653991], [-23.5310470193333, -46.4822912427058], [-23.5310470193333, -46.4822912427058], [-23.5755269969999, -46.757912066], [-23.5713174673292, -46.4502086088489], [-23.4903355956255, -46.4893054443174], [-23.5538598522258, -46.6026538577742], [-23.5576366867538, -46.6669265630924], [-23.6008864778973, -46.5012110515179], [-23.6507163905555, -46.6080182501111], [-23.6507163905555, -46.6080182501111], [-23.6419079023446, -46.7615233087538], [-23.7099133906666, -46.7042301363333], [-23.5792356489999, -46.504901074], [-23.6777327116199, -46.7852928215033], [-23.5575246155263, -46.6814852391578], [-23.4626414849999, -46.753379603], [-23.5902104458494, -46.5977150485653], [-23.6234345307295, -46.4706233170773], [-23.6234345307295, -46.4706233170773], [-23.4607231626407, -46.6874293530353], [-23.6508482705333, -46.6340632398666], [-23.507156386, -46.547590253], [-23.644336816, -46.5847172589999], [-23.5514131740638, -46.6297406244893], [-23.6111596489999, -46.4879947489999], [-23.6227067089888, -46.4491643281847], [-23.5842281006365, -46.3972008677298], [-23.65709306, -46.745467517], [-23.4882513699999, -46.448181839], [-23.5636889919298, -46.7437400665263], [-23.5466030866665, -46.6231470943585], [-23.408483813, -46.580717264], [-23.6584260955984, -46.7017236854234], [-23.5953399260357, -46.5199352081608], [-23.6525672077718, -46.6086193064077], [-23.564264226, -46.4134200789999], [-23.5005873682903, -46.3946214694838], [-23.496184415, -46.7509354539999], [-23.646524585, -46.6556264803333], [-23.5330647399999, -46.406333737], [-23.6376192929999, -46.7380174589999], [-23.6376192929999, -46.7380174589999], [-23.6376192929999, -46.7380174589999], [-23.6226876659999, -46.466353404], [-23.5321990922649, -46.4196207649767], [-23.5655067979999, -46.657635329], [-23.695215042062, -46.6411127131708], [-23.695215042062, -46.6411127131708], [-23.4355056890233, -46.731690871846], [-23.5555948814505, -46.461473224304], [-23.6035237706141, -46.7943114984724], [-23.5949794088, -46.6598358092], [-23.5949794088, -46.6598358092], [-23.4600627585263, -46.7154480458947], [-23.529129701377, -46.4465417785901], [-23.6315114914737, -46.4394944005613], [-23.504437948, -46.564563557], [-23.5449050572044, -46.4099081408861], [-23.4654296539119, -46.7122996566172], [-23.6309684018067, -46.775959569747], [-23.5151727589999, -46.54936929], [-23.5410310647845, -46.6953704929545], [-23.5655067979999, -46.657635329], [-23.7022001570855, -46.7723154736801], [-23.5345244443966, -46.465669845781], [-23.595019253, -46.537905984], [-23.619869759, -46.701714098], [-23.5958166219497, -46.4943869340255], [-23.6422216924327, -46.7525613176268], [-23.576583033, -46.409751086], [-23.4895689130115, -46.6710376465203], [-23.5755677786673, -46.7495440989639], [-23.5755677786673, -46.7495440989639], [-23.581973035, -46.49073699], [-23.588527261, -46.7870330649999], [-23.5645838427222, -46.4179234776944], [-23.4830600480304, -46.6786196765139], [-23.5340000049999, -46.6620524649999], [-23.5329150520054, -46.5415243826034], [-23.6359725629999, -46.444608155], [-23.5704606320204, -46.6877427064694], [-23.558574145, -46.4457526579999], [-23.5533690644666, -46.5033120183333], [-23.5533690644666, -46.5033120183333], [-23.60350091, -46.570552085], [-23.5011529473626, -46.5997482061819], [-23.5351810257083, -46.549945865965], [-23.436777905331, -46.7327437416464], [-23.6470303306666, -46.603855866], [-23.6746124167449, -46.7968727291986], [-23.685133755, -46.6467920279999], [-23.6246766715555, -46.6117475866111], [-23.5438617669888, -46.7440835504301], [-23.5199226654483, -46.4775074716952], [-23.4907632429439, -46.7010297912268], [-23.6210149640713, -46.7370485903803], [-23.506697405, -46.5715580729999], [-23.6746530963098, -46.7951975758389], [-23.526091471, -46.439691598], [-23.621043496, -46.4771329829999], [-23.5072964892499, -46.7105679384999], [-23.5149981078081, -46.4765846063072], [-23.58626953, -46.748553363], [-23.5062558740207, -46.6153401311722], [-23.489635560343, -46.3774931167205], [-23.553699158, -46.491629326], [-23.6037101691176, -46.633735854147], [-23.6540074217112, -46.7477558656524], [-23.6139825437354, -46.5937665237231], [-23.6861614961917, -46.7639791060274], [-23.42596495, -46.5887794], [-23.42596495, -46.5887794], [-23.5855777717297, -46.5858787888918], [-23.5665275268644, -46.6062305988368], [-23.4591188323558, -46.689700539635], [-23.5413949788809, -46.5788038108309], [-23.5976946283668, -46.4123333326933], [-23.622488132547, -46.7622586149653], [-23.6103989126, -46.4613399882], [-23.6529944843035, -46.7432551785952], [-23.5298531046516, -46.4259311598695], [-23.473134579, -46.562697542], [-23.4070250729393, -46.7647152759186], [-23.609822687, -46.4401460089999], [-23.5994207101127, -46.5131033776707], [-23.5143082239671, -46.4546096596633], [-23.5984190426741, -46.4434646217283], [-23.5984190426741, -46.4434646217283], [-23.4752458695207, -46.684394218081], [-23.6159683478543, -46.7230603956632], [-23.5741313003817, -46.6305930096847], [-23.7426186553297, -46.6975950181308], [-23.4663771539999, -46.6070673529999], [-23.5041451280988, -46.517325445407], [-23.5877771039999, -46.593197861], [-23.5867932692274, -46.4055162651592], [-23.5867932692274, -46.4055162651592], [-23.6445593190333, -46.7766216652413], [-23.6208125789973, -46.6911502227806], [-23.638334153447, -46.7618539984816], [-23.7740303278182, -46.7056075387272], [-23.5985234519999, -46.580507457], [-23.5985234519999, -46.580507457], [-23.5092837580421, -46.5591372486003], [-23.5692981469314, -46.7593314701107], [-23.6182786862471, -46.7299205908565], [-23.539146779, -46.470784436], [-23.5580936022094, -46.6164545429488], [-23.5678648172762, -46.7582494449492], [-23.6023218404423, -46.5979931701009], [-23.6288553511838, -46.6354399692772], [-23.517042181, -46.6987698309999], [-23.6106025733132, -46.588391340197], [-23.572397413, -46.7040710639999], [-23.680673688, -46.671578425], [-23.680673688, -46.671578425], [-23.680673688, -46.671578425], [-23.680673688, -46.671578425], [-23.5776411883249, -46.7092988018984], [-23.4537966353048, -46.6573394373364], [-23.5835538867102, -46.4946878918687], [-23.5964772469999, -46.507013485], [-23.3839048627406, -46.5686420747421], [-23.4949496593194, -46.5834465888267], [-23.669396395, -46.7597585029999], [-23.577070814, -46.780143251], [-23.5994496366825, -46.7416574010379], [-23.5994496366825, -46.7416574010379], [-23.5627450677089, -46.4653799865816], [-23.6040670432, -46.6340769849333], [-23.46797342, -46.6073622929999], [-23.4857496967456, -46.5014573255623], [-23.836923767313, -46.7313038697977], [-23.836923767313, -46.7313038697977], [-23.836923767313, -46.7313038697977], [-23.836923767313, -46.7313038697977], [-23.5170496504, -46.5676531244], [-23.5170496504, -46.5676531244], [-23.4760782183787, -46.6083427633528], [-23.7497829419692, -46.6984584120549], [-23.7497829419692, -46.6984584120549], [-23.5143518474538, -46.6906108969123], [-23.5645553462222, -46.4181019944444], [-23.6443839658182, -46.6581777620363], [-23.6034802747131, -46.410861887734], [-23.6034802747131, -46.410861887734], [-23.450925335, -46.6841650059999], [-23.5644746863165, -46.6160125460719], [-23.6857540030739, -46.6460793080324], [-23.585473515007, -46.398291348519], [-23.5455813745999, -46.4204302438], [-23.4947247337291, -46.7396531897018], [-23.6300420219999, -46.4748092139999], [-23.5441894639999, -46.7413905619999], [-23.799757405, -46.732958111], [-23.7505069827006, -46.6809246457166], [-23.510921218, -46.5739530779999], [-23.5362305556216, -46.5110669958108], [-23.4888387394568, -46.4514055168896], [-23.5520696519999, -46.636045871], [-23.5678599361694, -46.7466590581702], [-23.432258845, -46.5691699879999], [-23.5626533846973, -46.6108307971413], [-23.6480276726424, -46.6706102370999], [-23.5766201405632, -46.4096833639679], [-23.453256814117, -46.672070204828], [-23.5458702080877, -46.566243446035], [-23.5854577844285, -46.8028279474285], [-23.39485931, -46.572303841], [-23.6047448539999, -46.5942498969999], [-23.7215274946067, -46.6978145433622], [-23.508189725, -46.7380801859999], [-23.526246377, -46.432347652], [-23.554568646, -46.392523468], [-23.509272610547, -46.6610138365529], [-23.4910670807999, -46.4554969004666], [-23.381297708, -46.562853998], [-23.7216288827155, -46.6934518998012], [-23.4705855266072, -46.7104580236335], [-23.4705855266072, -46.7104580236335], [-23.6345063504999, -46.6009625306249], [-23.6198645704181, -46.6031798280545], [-23.7941260045959, -46.7356908362503], [-23.4804792307092, -46.7584151438661], [-23.6213156193913, -46.7551191113913], [-23.60760426, -46.652834022], [-23.6410598919999, -46.781011755], [-23.5913251184285, -46.7962645411428], [-23.7095027360452, -46.6245880467536], [-23.606382824093, -46.7999089436216], [-23.606382824093, -46.7999089436216], [-23.5185815579999, -46.703318302], [-23.6325592422352, -46.6308819143529], [-23.5284948428, -46.4458101308], [-23.549043293, -46.426060358], [-23.5805710349999, -46.770955204], [-23.4572335240174, -46.5737090627256], [-23.7595818605172, -46.699914518862], [-23.5518446879166, -46.6163639053333], [-23.6055166319999, -46.511965243], [-23.6055166319999, -46.511965243], [-23.5135665365202, -46.4821217615113], [-23.5061887279999, -46.722129987], [-23.5542176282255, -46.5175735606809], [-23.5542176282255, -46.5175735606809], [-23.5460345583997, -46.620469606259], [-23.5606771828438, -46.5125072094703], [-23.5872210909999, -46.406488017], [-23.4555565125629, -46.6771517003142], [-23.4569673196736, -46.6566783977283], [-23.609266868, -46.5918246259999], [-23.45539211, -46.59295911], [-23.601638946, -46.6702125269999], [-23.5937273014195, -46.4473766829334], [-23.5028379356428, -46.4053060755667], [-23.5028379356428, -46.4053060755667], [-23.6321832525948, -46.449501680681], [-23.5136411716666, -46.5052694895333], [-23.5145982298546, -46.4560592939154], [-23.4831885404724, -46.4694764915573], [-23.4831885404724, -46.4694764915573], [-23.5439547192649, -46.5814962025408], [-23.524418774951, -46.5604118656486], [-23.524418774951, -46.5604118656486], [-23.6095071793847, -46.5416942098148], [-23.654715434, -46.60254201], [-23.5156530715313, -46.6790180897889], [-23.6108192178888, -46.4447390767777], [-23.6371687378837, -46.6118649531628], [-23.736452277, -46.790110871], [-23.5458546779282, -46.4090712760451], [-23.4558799223421, -46.5849991343645], [-23.4558799223421, -46.5849991343645], [-23.4956121559999, -46.411213404], [-23.4956121559999, -46.411213404], [-23.5092614738465, -46.5593959602436], [-23.4243921332241, -46.7508697312996], [-23.767906826567, -46.6612788641828], [-23.5447348711217, -46.7541821841742], [-23.5408701453846, -46.5444898490769], [-23.7135751197134, -46.6287498821946], [-23.6248453681923, -46.4677584956538], [-23.5096675321174, -46.6207417237822], [-23.4979410945357, -46.6485739943928], [-23.537598873, -46.436453333], [-23.705454823, -46.6272613099999], [-23.6045151, -46.564911356], [-23.6071842745555, -46.7274331828889], [-23.5021044042938, -46.6659581079782], [-23.58509256404, -46.52872525608], [-23.5336360142697, -46.7560091984427], [-23.5495181119999, -46.396787011], [-23.5871516978, -46.5875069910666], [-23.4316499732085, -46.5899375159079], [-23.5121131435433, -46.4007969638458], [-23.5533543236216, -46.7502975452972], [-23.4469320621483, -46.7878890615313], [-23.378217051489, -46.5721410609233], [-23.378217051489, -46.5721410609233], [-23.6076633773049, -46.5191561288696], [-23.4772232485593, -46.560984111285], [-23.6425841393854, -46.7608749651734], [-23.5167736339999, -46.4045895], [-23.5827205114933, -46.4911281130784], [-23.640776181, -46.4575488519999], [-23.5437229995652, -46.6161483324782], [-23.4940071976382, -46.4191038647743], [-23.6139883480807, -46.4287089676644], [-23.631456866, -46.608659395], [-23.733299247551, -46.666697220219], [-23.733299247551, -46.666697220219], [-23.733299247551, -46.666697220219], [-23.6847920677706, -46.6440099814833], [-23.5325703010041, -46.4647122162363], [-23.5456266959999, -46.5921075539999], [-23.5096541094777, -46.6211387680595], [-23.6574053440952, -46.6337376299283], [-23.5650235976458, -46.4443210459042], [-23.5093371249999, -46.5591520099999], [-23.5819712159999, -46.773280922], [-23.5819712159999, -46.773280922], [-23.6635555455253, -46.6352459508069], [-23.5006329072667, -46.5363631457203], [-23.6148688210845, -46.5918335132861], [-23.5928874034605, -46.7761741815315], [-23.5702662861068, -46.4009438720563], [-23.676762233, -46.785144628], [-23.5223631001071, -46.7060532420982], [-23.5223631001071, -46.7060532420982], [-23.5119659790029, -46.5087212992008], [-23.5458250092088, -46.4090219950383], [-23.4898177642905, -46.3914280416218], [-23.6876659901563, -46.6659649657304], [-23.6876659901563, -46.6659649657304], [-23.7562467792272, -46.6712587712115], [-23.5943520677874, -46.4244694331999], [-23.5943520677874, -46.4244694331999], [-23.6513452629391, -46.7796797203062], [-23.6513452629391, -46.7796797203062], [-23.6666918123068, -46.6785392676326], [-23.6351379005836, -46.7370480137643], [-23.6801619230981, -46.6360433308118], [-23.533991330157, -46.4263555996673], [-23.533991330157, -46.4263555996673], [-23.533991330157, -46.4263555996673], [-23.576500933, -46.643336311], [-23.7501785060501, -46.7002189273129], [-23.7501785060501, -46.7002189273129], [-23.5410307727142, -46.6279100793214], [-23.5871310021539, -46.7622526257161], [-23.528749806437, -46.4065982523304], [-23.582343859075, -46.3910925216457], [-23.5350419289999, -46.6223711019999], [-23.5617915469163, -46.7569530967166], [-23.6360547490537, -46.7756954653058], [-23.5558222904285, -46.6290816947142], [-23.6342775105278, -46.763487429504], [-23.5816060229999, -46.4150306609999], [-23.620292664, -46.5031173479999], [-23.620292664, -46.5031173479999], [-23.5024630980333, -46.3686182298333], [-23.4889650318347, -46.6889967915489], [-23.5828799729999, -46.417140123], [-23.5721604045241, -46.6038847383953], [-23.469445989573, -46.7099264864374], [-23.5294712503978, -46.4682714741728], [-23.5294712503978, -46.4682714741728], [-23.5619195687925, -46.7509724508471], [-23.8047524247661, -46.6987257468733], [-23.4695617772189, -46.7092244318361], [-23.485915861, -46.745389098], [-23.5661647164782, -46.7425765081739], [-23.4447606529999, -46.654259263], [-23.5226889813233, -46.5186803356585], [-23.577259853279, -46.4906719676696], [-23.613122655977, -46.410179297708], [-23.5468005640848, -46.4778850459026], [-23.4682728699999, -46.6081468223636], [-23.489194836, -46.710175764], [-23.5179986437399, -46.5595458578173], [-23.5395807234584, -46.6096587841176], [-23.6080246004185, -46.4782257822435], [-23.564600368, -46.415900334], [-23.4921090306229, -46.4207291849975], [-23.5184620816111, -46.4330990815], [-23.5184620816111, -46.4330990815], [-23.5350419289999, -46.6223711019999], [-23.4771237393015, -46.7181064864723], [-23.5968616708549, -46.7210656214282], [-23.5020571539814, -46.5827973594653], [-23.491578545, -46.5694887499999], [-23.5067471676666, -46.7476003474666], [-23.5878167478265, -46.3816434897202], [-23.6676233115582, -46.7495323651633], [-23.6772916023333, -46.792515250606], [-23.5240618829473, -46.4989206463157], [-23.5240618829473, -46.4989206463157], [-23.5023279164594, -46.6810347069999], [-23.6264023613751, -46.7336914040117], [-23.5825584423322, -46.4343772041501], [-23.590271286, -46.7679871569999], [-23.5374299662063, -46.5640764838809], [-23.5263648435285, -46.4104957928903], [-23.4709333093809, -46.5678304586666], [-23.4894873187333, -46.6189789237333], [-23.6039994103834, -46.5966791577862], [-23.4811103651656, -46.7562814254145], [-23.5426923123437, -46.5379260161249], [-23.451355908139, -46.7205720648292], [-23.5711943107576, -46.5377947393552], [-23.6649106814341, -46.6553470879836], [-23.6649106814341, -46.6553470879836], [-23.6461857652777, -46.7090375570555], [-23.4367816167606, -46.7309811376667], [-23.4367816167606, -46.7309811376667], [-23.5496936715738, -46.627537365574], [-23.5224968595751, -46.7353454767456], [-23.6255675283868, -46.7273215242567], [-23.5388336430399, -46.5444167450178], [-23.5388336430399, -46.5444167450178], [-23.6163593218, -46.5074056356], [-23.5427323499999, -46.735625736], [-23.4408905609999, -46.786882582], [-23.5424046237253, -46.4199230051711], [-23.4557470135, -46.7165349527499], [-23.619121013, -46.410750551], [-23.619121013, -46.410750551], [-23.5403844403766, -46.4105443738016], [-23.374154661, -46.5756386749999], [-23.6739523784964, -46.7426666668792], [-23.6300297161637, -46.7358627489242], [-23.4497101829882, -46.6812917974474], [-23.5473325682131, -46.5970228633442], [-23.6171406289999, -46.661301344], [-23.6171406289999, -46.661301344], [-23.6171406289999, -46.661301344], [-23.5647592397036, -46.4183633986296], [-23.5471662708966, -46.6463943460163], [-23.477026613, -46.721317583], [-23.558574145, -46.4457526579999], [-23.6231834567932, -46.7271368922751], [-23.5555072734, -46.6466081307999], [-23.5815414927724, -46.6925446120527], [-23.4946490739999, -46.518576286], [-23.6093425082079, -46.5418788556463], [-23.5169186114294, -46.7435294470608], [-23.5015769289463, -46.3834395826155], [-23.4923015108022, -46.499762763173], [-23.5646860568179, -46.5082014606595], [-23.5051043911811, -46.5685531083159], [-23.62030411, -46.4792532399999], [-23.4511041769999, -46.651720912], [-23.4511041769999, -46.651720912], [-23.6279459387259, -46.737414679583], [-23.6343911179999, -46.5959359559999], [-23.4981296613493, -46.5964227921531], [-23.5085971996111, -46.4876738383333], [-23.45634022, -46.757827049], [-23.5422411561988, -46.4180110382135], [-23.650679633, -46.657346461], [-23.4308003772003, -46.7126901686366], [-23.5364150783333, -46.7192964846666], [-23.640287185, -46.589522087], [-23.640287185, -46.589522087], [-23.4597366192139, -46.6999678642699], [-23.521442153423, -46.4115926826538], [-23.6759568009999, -46.774229158], [-23.5422754636115, -46.7465537249997], [-23.5093371249999, -46.5591520099999], [-23.5083467777419, -46.4101633744838], [-23.6486172021634, -46.7540943066181], [-23.588280165, -46.765609646], [-23.5495954046247, -46.7507128560547], [-23.5200437914169, -46.3840914948692], [-23.7024567092361, -46.7832137063285], [-23.6398232585142, -46.6114346171714], [-23.4700918311351, -46.6871413387838], [-23.6560915892562, -46.6701766266529], [-23.5986592752118, -46.3947730334184], [-23.6668796690618, -46.7229051291687], [-23.4503966429619, -46.7293667904339], [-23.5642453579999, -46.742673703], [-23.5177414739999, -46.549421958], [-23.4395706130624, -46.5818537268753], [-23.5583595067307, -46.3950219767692], [-23.6106190259999, -46.4514534539999], [-23.6106190259999, -46.4514534539999], [-23.5275874843199, -46.5161030840399], [-23.548073093, -46.567745757], [-23.45270817935, -46.7107285070499], [-23.6499964992193, -46.5975089231849], [-23.6428653819375, -46.7860519280624], [-23.660138487454, -46.7714676649972], [-23.5018404022743, -46.4110907317168], [-23.6193330145192, -46.458879714093], [-23.6504984157844, -46.6085712456298], [-23.5242953340916, -46.6253009008026], [-23.4933285914545, -46.4786839939817], [-23.4933285914545, -46.4786839939817], [-23.4933285914545, -46.4786839939817], [-23.623403959, -46.6428402312], [-23.528355796315, -46.430851099418], [-23.5071994361, -46.5314485635], [-23.6257033353893, -46.7244396525551], [-23.542997844, -46.4168356279999], [-23.542997844, -46.4168356279999], [-23.6824109089756, -46.6433652365122], [-23.5283306298319, -46.6127176208061], [-23.5283306298319, -46.6127176208061], [-23.6135420222433, -46.522891651571], [-23.5990025076795, -46.4825256530897], [-23.4538652555542, -46.7123870892558], [-23.5459376499999, -46.5499685406], [-23.6485164084137, -46.7528457017241], [-23.523562281, -46.5580252899999], [-23.6558938943337, -46.7836916024003], [-23.467268536349, -46.6538079270841], [-23.6222898099999, -46.7267338349999], [-23.5884085931159, -46.5948826516748], [-23.6346419609999, -46.7272840749999], [-23.8090936200232, -46.7147033455408], [-23.4289308606862, -46.5777432440369], [-23.5044922525434, -46.5941117204938], [-23.5044922525434, -46.5941117204938], [-23.614680572375, -46.47521374125], [-23.599461038, -46.604870364], [-23.6231612481428, -46.4170122101428], [-23.5490414936538, -46.5745821422307], [-23.5505423921439, -46.4031060282152], [-23.6150670599999, -46.7222300339999], [-23.467256150605, -46.7495934430947], [-23.787301263, -46.6930285559999], [-23.597270206, -46.4446635109999], [-23.5020349593838, -46.7478216595858], [-23.598213868, -46.4498983431999], [-23.7532870209999, -46.672959233], [-23.7273372418081, -46.688571836177], [-23.581973035, -46.49073699], [-23.657062416, -46.731088975], [-23.816865504, -46.705877635], [-23.6266230080491, -46.4694512297487], [-23.432258845, -46.5691699879999], [-23.536966032, -46.649788783], [-23.6464791825714, -46.6555896744761], [-23.5268506453225, -46.5604117720645], [-23.6696737641245, -46.7427937775688], [-23.5524284657997, -46.609176072056], [-23.6548183072537, -46.7473675629104], [-23.607487523, -46.5817008559999], [-23.5929153843943, -46.5254838338873], [-23.5176857333321, -46.4391762029332], [-23.5522917724822, -46.4193465594892], [-23.5347724159347, -46.4712219782258], [-23.6674247122048, -46.7848017050437], [-23.5567018714285, -46.4228862964642], [-23.7309082435424, -46.6698760069564], [-23.4823469408483, -46.673262608659], [-23.622277443, -46.7267013819999], [-23.5718181898618, -46.503984619548], [-23.522202437, -46.558891843], [-23.757285698, -46.675759996], [-23.556026467, -46.666529597], [-23.6962279248108, -46.6576351093783], [-23.5412455516466, -46.7316266586533], [-23.6982336425272, -46.6380875432028], [-23.6982336425272, -46.6380875432028], [-23.533755650926, -46.5660088718375], [-23.513136449686, -46.5737353589883], [-23.5829125712222, -46.7748846713333], [-23.6209226309999, -46.499609354], [-23.6847421761408, -46.7512505202319], [-23.5948445203841, -46.766041021279], [-23.5948445203841, -46.766041021279], [-23.618467134, -46.399916575], [-23.5377133761785, -46.5095605700714], [-23.600080966, -46.5083573759999], [-23.453982487, -46.680802671], [-23.5604317613434, -46.6381232329675], [-23.7033960527106, -46.7122669623842], [-23.5277997406447, -46.470749943523], [-23.529325037889, -46.7339538033259], [-23.6386981632666, -46.67410146], [-23.5776568819999, -46.724986191], [-23.4867647139981, -46.7609491621182], [-23.6175362509999, -46.661600387], [-23.6266409067777, -46.4770565181111], [-23.5234378277825, -46.6192086437288], [-23.623452458, -46.748573542], [-23.6640695157337, -46.7938785168121], [-23.6428944077631, -46.7826800735483], [-23.6428944077631, -46.7826800735483], [-23.4723932748956, -46.6612026451464], [-23.4510863661142, -46.6517257726518], [-23.6083514329999, -46.4667143679999], [-23.6083514329999, -46.4667143679999], [-23.5812553381326, -46.687446623704], [-23.4926944498124, -46.5922881284374], [-23.4926944498124, -46.5922881284374], [-23.5059705001738, -46.385686516], [-23.5206992762951, -46.7207747380813], [-23.5294805120075, -46.4240431021349], [-23.552541775926, -46.5775286234766], [-23.5784277183109, -46.5636316222343], [-23.6076965509999, -46.552499074], [-23.7183967407143, -46.7058115714285], [-23.62944104084, -46.6729331968366], [-23.5383013705882, -46.6482505375294], [-23.6020770665454, -46.6127819897272], [-23.5608112387398, -46.4659110021253], [-23.6008551049999, -46.5962193509999], [-23.5058179392857, -46.6675285119387], [-23.5201418249999, -46.4587903999999], [-23.5249144373809, -46.4702943520476], [-23.4743729386996, -46.6473805141425], [-23.6670255013136, -46.7838535374231], [-23.5459706447419, -46.6816673023548], [-23.6454800441807, -46.7299167337026], [-23.539642376, -46.423232496], [-23.5397982329552, -46.485357371976], [-23.6329810855, -46.7127069954999], [-23.5529452412764, -46.6543819817173], [-23.6182665760357, -46.6107033861428], [-23.5506107539999, -46.725099777], [-23.555179579, -46.517367656], [-23.6580190870194, -46.7080678495875], [-23.4158266352029, -46.7472891521056], [-23.5862357639055, -46.5232831894972], [-23.5375081569999, -46.641650037], [-23.569583496, -46.5082611879999], [-23.5963256782156, -46.6044359455177], [-23.6043701959999, -46.398959227], [-23.5661647164782, -46.7425765081739], [-23.6339705898571, -46.66656124], [-23.5897544119999, -46.68824818], [-23.6182193853736, -46.6470829036256], [-23.604832492, -46.731484079], [-23.6046899, -46.7314539], [-23.6483987874489, -46.6036444757755], [-23.6741951552968, -46.7736834439766], [-23.5020850190555, -46.6794316825555], [-23.6657587491525, -46.6772815719322], [-23.5124038492853, -46.5555137378422], [-23.5410307727142, -46.6279100793214], [-23.67758065924, -46.7763168955999], [-23.4644442059999, -46.6755858889999], [-23.5103873585, -46.5640617394999], [-23.6901934521915, -46.7767238114947], [-23.5062200775362, -46.6237432691153], [-23.4861381171921, -46.4715490081363], [-23.5469918461761, -46.4117798546524], [-23.60202426, -46.783324691], [-23.6080723, -46.7275483], [-23.6683035, -46.7381812], [-23.519286262, -46.392569114], [-23.608211544, -46.4951828879999], [-23.517774973, -46.417203913], [-23.6396453369999, -46.6505241139999], [-23.6644439, -46.6604518], [-23.539883394, -46.6552592739999], [-23.5981843, -46.5359247], [-23.6776522, -46.7557954], [-23.5833299, -46.6052504], [-23.5359341769999, -46.633561958], [-23.568948522, -46.5184924389999], [-23.500802595, -46.390475017], [-23.587196857, -46.4832768209999], [-23.587196857, -46.4832768209999], [-23.5180115059999, -46.6253196119999], [-23.535708982, -46.625513756], [-23.541912692, -46.580414847], [-23.444089888, -46.713594261], [-23.5180717649999, -46.576877005], [-23.5339766, -46.6481375], [-23.5334136, -46.4098262], [-23.6176095929999, -46.72664479], [-23.5916019, -46.7524839], [-23.4836747689999, -46.633399524], [-23.5238899, -46.4935221], [-23.5238899, -46.4935221], [-23.5593011676383, -46.4659102432429], [-23.6749433969999, -46.76116734], [-23.7258482079999, -46.6888091069999], [-23.619746774, -46.611492052], [-23.6399459, -46.7227503], [-23.5337258248918, -46.5038130654864], [-23.5570488712105, -46.6266031289473], [-23.679918577, -46.7831003329999], [-23.679918577, -46.7831003329999], [-23.5710465, -46.6197521], [-23.6182284619999, -46.7379397679999], [-23.4420763479999, -46.726710394], [-23.598728755, -46.711894897], [-23.6466799739999, -46.7698657249999], [-23.6057910919999, -46.5024840039999], [-23.450527087, -46.67919009], [-23.4782110269999, -46.7002734939999], [-23.6843688169999, -46.691778676], [-23.6177811, -46.5920601], [-23.6138477, -46.737702], [-23.5947789849999, -46.7686210809999], [-23.6122772809999, -46.4765284969999], [-23.5748131949999, -46.646253792], [-23.674429232, -46.6699201499999], [-23.636743523, -46.613496255], [-23.6421252604499, -46.7856887986], [-23.52677552549, -46.4668492881671], [-23.694519559, -46.649007019], [-23.646302126, -46.643151357], [-23.4626890819999, -46.6814374099999], [-23.6117256389999, -46.7542652929999], [-23.547844427, -46.641292899], [-23.613402358, -46.496827523], [-23.5472293, -46.7422989], [-23.5898748659999, -46.753172767], [-23.5096028, -46.3754966], [-23.4535107139999, -46.7530977279999], [-23.4548669, -46.6929284999999], [-23.5818023835441, -46.594859907748], [-23.494718448, -46.4196230599999], [-23.5992492199999, -46.650910358], [-23.0223965, -45.5600065], [-23.623240911, -46.6190943756], [-23.5998854979523, -46.5606804799523], [-23.697535064, -46.778767461], [-23.4333351555483, -46.7199080681119], [-23.573971577929, -46.4308452501757], [-23.573971577929, -46.4308452501757], [-23.5665197605442, -46.5089470040178], [-23.580895154, -46.7519264699999], [-23.4790185856896, -46.5713755063448], [-23.539146779, -46.470784436], [-23.6614372962201, -46.6394388387256], [-23.4761479033361, -46.6794073480955], [-23.5877319368918, -46.7267181939189], [-23.4905088537499, -46.705942059], [-23.646959795147, -46.7029824492058], [-23.6771398329398, -46.7944064132932], [-23.6473626718346, -46.7365069417994], [-23.6193658367218, -46.462586200539], [-23.6459513097715, -46.773779984163], [-23.4612409608219, -46.6531737407588], [-23.4833017214999, -46.673665404], [-23.4802787331285, -46.5621991952981], [-23.5392882687656, -46.6050599004218], [-23.6868371018833, -46.689651136994], [-23.6869354912016, -46.7559264695794], [-23.494357091287, -46.403575762069], [-23.6563395732551, -46.7543001856477], [-23.674767087, -46.749111859], [-23.5818809652495, -46.7552269475125], [-23.5818809652495, -46.7552269475125], [-23.5759150917297, -46.6125336925946], [-23.5297136044444, -46.6205174108], [-23.585117457, -46.673226174], [-23.4920790494499, -46.6622643711], [-23.6916358451768, -46.7862280782602], [-23.7333763575799, -46.6597502812348], [-23.5521057199999, -46.442471461], [-23.5847084372631, -46.3845052823684], [-23.6061506164468, -46.6239978086383], [-23.6451192328823, -46.6361142317647], [-23.4949496593194, -46.5834465888267], [-23.5119747095728, -46.6706690865435], [-23.5092200815116, -46.5242170310793], [-23.7694671959401, -46.7149589733527], [-23.729637209, -46.6908146545999], [-23.6114331666666, -46.441827838], [-23.6043959020599, -46.4687438195714], [-23.5352223476003, -46.6361875353959], [-23.5402147784863, -46.718208473641], [-23.6494367208551, -46.7793888514742], [-23.6510558979626, -46.7743140722705], [-23.5076387865791, -46.7038841298439], [-23.5320236897749, -46.4623022276145], [-23.5379474077299, -46.4102851748968], [-23.5844642659999, -46.396090763], [-23.5412565289565, -46.6443870331884], [-23.5119941362357, -46.6953592306341], [-23.5130146788196, -46.6967051611147], [-23.5836161515808, -46.7393127496915], [-23.6758377148793, -46.7846871549889], [-23.5946286785339, -46.446628513223], [-23.601638946, -46.6702125269999], [-23.410487374, -46.7614327749999], [-23.4400312726735, -46.7192927433349], [-23.4973224699823, -46.4401027446151], [-23.5797797179033, -46.5701119019708], [-23.6117952888055, -46.6391209932352], [-23.6494783774086, -46.7745464310738], [-23.6871396331428, -46.7632514952857], [-23.61821, -46.60321], [-23.6877, -46.7911], [-23.5384402903413, -46.5469513530864], [-23.602256841014, -46.4800442976955], [-23.6772916023333, -46.792515250606], [-23.5201699522843, -46.5010276320265], [-23.4118389442865, -46.7408094138397], [-23.5728730832826, -46.7344256506374], [-23.5528044628888, -46.5412592708889], [-23.8575866306899, -46.7746439931114], [-23.6677292902542, -46.7855774620938], [-23.4920218315069, -46.4019364820807], [-23.52814816215, -46.5284374926], [-23.6438729942274, -46.7838310173568], [-23.5154607, -46.4642131], [-23.5385154109012, -46.5764059258271], [-23.6032494746774, -46.5341696457419], [-23.6048774999999, -46.6111405739999], [-23.608430420846, -46.6974744681159], [-23.6483233414657, -46.7318997546684], [-23.7422335566125, -46.6895533815014], [-23.541743555, -46.648889126], [-23.826711682054, -46.7258043374594], [-23.683319367, -46.791475729], [-23.6538054783434, -46.7360295343516], [-23.5357506038461, -46.4382111910769], [-23.4888417180976, -46.3752377099927], [-23.491006240664, -46.4529988384621], [-23.693454055, -46.785157774], [-23.6614321619212, -46.7256796445309], [-23.5414927499794, -46.6454904659741], [-23.5119941362357, -46.6953592306341], [-23.6419603669999, -46.7586406025555], [-23.6761684042547, -46.6856018044752], [-23.6911570263, -46.677847499], [-23.544619029923, -46.4338159392692], [-23.544619029923, -46.4338159392692], [-23.5667107848333, -46.7538515486666], [-23.4881413543333, -46.6024218366666], [-23.4601522797484, -46.6872786520548], [-23.621948595, -46.4535914167], [-23.621948595, -46.4535914167], [-23.5995598594851, -46.5194420306744], [-23.5429320592767, -46.467429759912], [-23.5408732617471, -46.6690197136286], [-23.6723438189999, -46.763989173], [-23.5373940079473, -46.6190496146316], [-23.46831929, -46.7233225649999], [-23.4996062802792, -46.7091196692342], [-23.4518496988204, -46.6991455459789], [-23.7030669406217, -46.6311707353689], [-23.457836773152, -46.6950055270769], [-23.5184843489999, -46.5762637289999], [-23.6869244022143, -46.6577672616428], [-23.62349189, -46.477395625], [-23.6031135927547, -46.606538518132], [-23.493370884008, -46.6896571260408], [-23.5619130916825, -46.4018631337321], [-23.6231364929999, -46.475922555], [-23.6231364929999, -46.475922555], [-23.491528471, -46.627187244], [-23.5894924875937, -46.5989701706562], [-23.6220686040256, -46.6878600785384], [-23.583198216, -46.754287894], [-23.5537710899999, -46.753151568], [-23.461823962, -46.681552283], [-23.673266367787, -46.7386428971742], [-23.5966285599999, -46.4355767719999], [-23.5618697479999, -46.48756202], [-23.5738300126784, -46.7194298537362], [-23.4560459059999, -46.681644322], [-23.6450313173854, -46.7383815983225], [-23.519345585397, -46.7050018061911], [-23.6814431652678, -46.7765322654643], [-23.530828597244, -46.418158027691], [-23.6013954733281, -46.5956790659193], [-23.5678981844985, -46.5958255763218], [-23.4755632, -46.5698586], [-23.6309189, -46.6664803], [-23.4677189372857, -46.6522664987142], [-23.4758603099392, -46.6567654241379], [-23.5316050901234, -46.6770388475829], [-23.5100007189999, -46.55057571], [-23.6702020675885, -46.7122932054242], [-23.517813282, -46.4293189402307], [-23.5362737173792, -46.6486964179999], [-23.5448408, -46.6304858299999], [-23.5420012434166, -46.6133130566833], [-23.4833017214999, -46.673665404], [-23.541743555, -46.648889126], [-23.541743555, -46.648889126], [-23.4749150830909, -46.6985326756363], [-23.476784319, -46.6786001856666], [-23.7725082258752, -46.6815616114412], [-23.5565638787608, -46.669589265855], [-23.5126326143354, -46.6262775856068], [-23.555771329, -46.6392872989999], [-23.5213500918293, -46.4720921014993], [-23.6458302883928, -46.6592613246428], [-23.681539669, -46.677507345], [-23.489948587, -46.457447451], [-23.5259381944461, -46.4026888055635], [-23.5912592284817, -46.4019823628588], [-23.63743729, -46.74506585], [-23.617068662, -46.722504569], [-23.6666451283074, -46.6525476550671], [-23.7639982621666, -46.6850861710476], [-23.597770538539, -46.6439977723022], [-23.5003548349999, -46.4717771369999], [-23.5003548349999, -46.4717771369999], [-23.450847593792, -46.697083007358], [-23.5236924972785, -46.5682285804628], [-23.5341711181837, -46.5706461408159], [-23.6768545597635, -46.7805484115532], [-23.5565638787608, -46.669589265855], [-23.4891317939999, -46.4796569599999], [-23.5199226654483, -46.4775074716952], [-23.5337941738947, -46.6431278646315], [-23.6375945548572, -46.4496939290241], [-23.4410479095917, -46.7168792117226], [-23.5303884309999, -46.444404135], [-23.5115556715348, -46.6248022691226], [-23.528355796315, -46.430851099418], [-23.5565638787608, -46.669589265855], [-23.6521192659599, -46.7609655356], [-23.6130384737223, -46.7225329135657], [-23.5565538591445, -46.6239761738322], [-23.485497032378, -46.6288322552766], [-23.5341711181837, -46.5706461408159], [-23.457125816, -46.6853820819999], [-23.424222485, -46.584403156], [-23.6233904, -46.4907892], [-23.5889104, -46.5679023], [-23.4536866879999, -46.734862839], [-23.5672053927207, -46.5107775670936], [-23.5664101, -46.4093565], [-23.543885444, -46.41067945], [-23.678492779, -46.6409438429999], [-23.7197641647314, -46.6747283742179], [-23.504327369, -46.4112998149999], [-23.5427592789999, -46.648906386], [-23.6819480707825, -46.7475179814708], [-23.5437933649999, -46.436400164], [-23.5536672754215, -46.4055348913967], [-23.683680673782, -46.7811905916504], [-23.5295231009453, -46.4338821502968], [-23.5522066203537, -46.4770466887416], [-23.5349302289505, -46.5242438021232], [-23.4956072351348, -46.7251479219675], [-23.4766627139999, -46.7495158789999], [0.0, 0.0], [-23.6896700968181, -46.7432271659999], [-23.6040670432, -46.6340769849333], [-23.6040670432, -46.6340769849333], [-23.4812824838235, -46.571454000647], [-23.6744790731551, -46.7823581282605], [-23.518423474, -46.387896849], [-23.491578545, -46.5694887499999], [-23.8181700914406, -46.7051525655593], [-23.6173107327668, -46.4296298381224], [-23.5382907952261, -46.6015186927911], [-23.5547733752254, -46.4154657575849], [-23.5547733752254, -46.4154657575849], [-23.5353631112542, -46.641940928553], [-23.5350972429915, -46.622370993038], [-23.693703468, -46.6335707599999], [-23.5187913332214, -46.415124641503], [-23.5619642791742, -46.3988580526636], [-23.530261219, -46.664189489], [-23.4794822896874, -46.679010622769], [-23.6297718274149, -46.4520575032913], [-23.498302682, -46.4726385869999], [-23.7315749908853, -46.7765551297226], [-23.6059713229999, -46.72327451], [-23.4688879321923, -46.6926436863653], [-23.465347500037, -46.6736593456296], [-23.5216682215454, -46.5791995905454], [-23.5400193890539, -46.5440264619178], [-23.7390936443584, -46.6668456738627], [-23.5617190077813, -46.6285478005362], [-23.8663797993355, -46.6837828785449], [-23.4743413329771, -46.7149666811733], [-23.6117479339999, -46.5810050429999], [-23.700780117, -46.773835649], [-23.55511494, -46.6042348509999], [-23.7573677, -46.6789221], [-23.4518156849999, -46.7105821009999], [-23.5820889668787, -46.5833353493636], [-23.6175172912222, -46.450838927137], [-23.6114818259999, -46.7279471429999], [-23.6861267135, -46.709649042], [-23.6020406, -46.4840261], [-23.68799188, -46.7854473259999]],\n",
              "                {&quot;blur&quot;: 15, &quot;maxZoom&quot;: 18, &quot;minOpacity&quot;: 0.5, &quot;radius&quot;: 25}\n",
              "            ).addTo(map_97385b9c4490b1fb08afbd423475461e);\n",
              "        \n",
              "&lt;/script&gt;\" style=\"position:absolute;width:100%;height:100%;left:0;top:0;border:none !important;\" allowfullscreen webkitallowfullscreen mozallowfullscreen></iframe></div></div>"
            ],
            "text/plain": [
              "<folium.folium.Map at 0x292c76d60>"
            ]
          },
          "execution_count": 23,
          "metadata": {},
          "output_type": "execute_result"
        }
      ],
      "source": [
        "start_lat_lon=[-23.58633467412642, -46.60418260319519]\n",
        "\n",
        "coordenadas=[]\n",
        "for lat,long in zip(dfClean.LATITUDE,dfClean.LONGITUDE):\n",
        "  try:\n",
        "    lat_float = float(lat)\n",
        "    long_float = float(long)\n",
        "    coordenadas.append([lat_float,long_float])\n",
        "  except:\n",
        "    pass\n",
        "\n",
        "sp=folium.Map(location=[start_lat_lon[0],start_lat_lon[1]],zoom_start=10,tiles='cartodbpositron')\n",
        "sp.add_child(plugins.HeatMap(coordenadas))\n",
        "sp"
      ]
    },
    {
      "cell_type": "code",
      "execution_count": 9,
      "metadata": {
        "id": "iNMVEEwJctcN"
      },
      "outputs": [],
      "source": [
        "crimedata2 = pd.DataFrame(df[\"CRIME\"].value_counts().astype(int))\n",
        "crimedata2.to_json(\"crimeagg.json\")\n",
        "crimedata2 = crimedata2.reset_index()\n",
        "crimedata2.columns = [\"District\", \"Number\"]"
      ]
    },
    {
      "cell_type": "code",
      "execution_count": 120,
      "metadata": {},
      "outputs": [],
      "source": [
        "dfClean.to_csv('data/compiledData/dfCleanMortes.csv')"
      ]
    }
  ],
  "metadata": {
    "colab": {
      "authorship_tag": "ABX9TyOvYto16lgchn06HHE2+nrd",
      "include_colab_link": true,
      "provenance": []
    },
    "kernelspec": {
      "display_name": "Python 3.9.15 64-bit",
      "language": "python",
      "name": "python3"
    },
    "language_info": {
      "codemirror_mode": {
        "name": "ipython",
        "version": 3
      },
      "file_extension": ".py",
      "mimetype": "text/x-python",
      "name": "python",
      "nbconvert_exporter": "python",
      "pygments_lexer": "ipython3",
      "version": "3.9.15"
    },
    "vscode": {
      "interpreter": {
        "hash": "a665b5d41d17b532ea9890333293a1b812fa0b73c9c25c950b3cedf1bebd0438"
      }
    }
  },
  "nbformat": 4,
  "nbformat_minor": 0
}
