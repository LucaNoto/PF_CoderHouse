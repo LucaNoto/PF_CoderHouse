{
  "cells": [
    {
      "cell_type": "markdown",
      "metadata": {
        "colab_type": "text",
        "id": "view-in-github"
      },
      "source": [
        "<a href=\"https://colab.research.google.com/github/LucaNoto/PF_CoderHouse/blob/main/Analise_ausentes_%26_heatmap.ipynb\" target=\"_parent\"><img src=\"https://colab.research.google.com/assets/colab-badge.svg\" alt=\"Open In Colab\"/></a>"
      ]
    },
    {
      "cell_type": "markdown",
      "metadata": {
        "id": "bIcZ0ZnwpwPN"
      },
      "source": [
        "# Mortes ocorridas em São Paulo em 2019 à 2022"
      ]
    },
    {
      "cell_type": "code",
      "execution_count": 2,
      "metadata": {
        "id": "z4f5jUDj-8qI"
      },
      "outputs": [],
      "source": [
        "import pandas as pd\n",
        "import matplotlib.pyplot as plt\n",
        "import seaborn as sns\n",
        "from folium.plugins import HeatMap\n",
        "import folium\n",
        "from folium import plugins\n",
        "\n",
        "\n",
        "from geopy.geocoders import Nominatim\n",
        "from geopy.extra.rate_limiter import RateLimiter\n"
      ]
    },
    {
      "cell_type": "code",
      "execution_count": 3,
      "metadata": {
        "colab": {
          "base_uri": "https://localhost:8080/",
          "height": 386
        },
        "id": "ewPYsV3L_BEj",
        "outputId": "206766b9-b60f-4520-9aea-494d2e9b6df2"
      },
      "outputs": [
        {
          "data": {
            "text/html": [
              "<div>\n",
              "<style scoped>\n",
              "    .dataframe tbody tr th:only-of-type {\n",
              "        vertical-align: middle;\n",
              "    }\n",
              "\n",
              "    .dataframe tbody tr th {\n",
              "        vertical-align: top;\n",
              "    }\n",
              "\n",
              "    .dataframe thead th {\n",
              "        text-align: right;\n",
              "    }\n",
              "</style>\n",
              "<table border=\"1\" class=\"dataframe\">\n",
              "  <thead>\n",
              "    <tr style=\"text-align: right;\">\n",
              "      <th></th>\n",
              "      <th>DEPARTAMENTO_CIRCUNSCRICAO</th>\n",
              "      <th>SECCIONAL_CIRCUNSCRICAO</th>\n",
              "      <th>MUNICIPIO_CIRCUNSCRICAO</th>\n",
              "      <th>DP_CIRCUNSCRICAO</th>\n",
              "      <th>NUM_VITIMA</th>\n",
              "      <th>ID_DELEGACIA</th>\n",
              "      <th>DATAHORA_REGISTRO_BO</th>\n",
              "      <th>NUM_BO</th>\n",
              "      <th>ANO_BO</th>\n",
              "      <th>MUNICIPIO_ELABORACAO</th>\n",
              "      <th>...</th>\n",
              "      <th>COR_PELE</th>\n",
              "      <th>PROFISSAO</th>\n",
              "      <th>NATUREZA_APURADA</th>\n",
              "      <th>CRIME</th>\n",
              "      <th>DESDOBRAMENTO</th>\n",
              "      <th>DESCR_PERIODO</th>\n",
              "      <th>FLAG_VITIMA_FATAL</th>\n",
              "      <th>CONDUTA</th>\n",
              "      <th>COORPORACAO</th>\n",
              "      <th>SITUACAO</th>\n",
              "    </tr>\n",
              "  </thead>\n",
              "  <tbody>\n",
              "    <tr>\n",
              "      <th>0</th>\n",
              "      <td>DECAP</td>\n",
              "      <td>1ª SEC</td>\n",
              "      <td>São Paulo</td>\n",
              "      <td>002 DP - Bom Retiro</td>\n",
              "      <td>1.0</td>\n",
              "      <td>10102</td>\n",
              "      <td>2017-01-21 00:00:00</td>\n",
              "      <td>440</td>\n",
              "      <td>2017</td>\n",
              "      <td>S.PAULO</td>\n",
              "      <td>...</td>\n",
              "      <td>Parda</td>\n",
              "      <td>NaN</td>\n",
              "      <td>HOMICÍDIO DOLOSO</td>\n",
              "      <td>Homicídio Doloso</td>\n",
              "      <td>NaN</td>\n",
              "      <td>NaN</td>\n",
              "      <td>NaN</td>\n",
              "      <td>NaN</td>\n",
              "      <td>NaN</td>\n",
              "      <td>NaN</td>\n",
              "    </tr>\n",
              "    <tr>\n",
              "      <th>1</th>\n",
              "      <td>DECAP</td>\n",
              "      <td>1ª SEC</td>\n",
              "      <td>São Paulo</td>\n",
              "      <td>012 DP - Pari</td>\n",
              "      <td>1.0</td>\n",
              "      <td>10108</td>\n",
              "      <td>2017-01-24 00:00:00</td>\n",
              "      <td>489</td>\n",
              "      <td>2017</td>\n",
              "      <td>S.PAULO</td>\n",
              "      <td>...</td>\n",
              "      <td>Preta</td>\n",
              "      <td>NaN</td>\n",
              "      <td>HOMICÍDIO DOLOSO</td>\n",
              "      <td>Homicídio Doloso</td>\n",
              "      <td>NaN</td>\n",
              "      <td>NaN</td>\n",
              "      <td>NaN</td>\n",
              "      <td>NaN</td>\n",
              "      <td>NaN</td>\n",
              "      <td>NaN</td>\n",
              "    </tr>\n",
              "    <tr>\n",
              "      <th>2</th>\n",
              "      <td>DECAP</td>\n",
              "      <td>2ª SEC</td>\n",
              "      <td>São Paulo</td>\n",
              "      <td>035 DP - Jabaquara</td>\n",
              "      <td>1.0</td>\n",
              "      <td>10216</td>\n",
              "      <td>2017-01-15 00:00:00</td>\n",
              "      <td>470</td>\n",
              "      <td>2017</td>\n",
              "      <td>S.PAULO</td>\n",
              "      <td>...</td>\n",
              "      <td>Parda</td>\n",
              "      <td>DESEMPREGADO</td>\n",
              "      <td>HOMICÍDIO DOLOSO</td>\n",
              "      <td>Homicídio Doloso</td>\n",
              "      <td>NaN</td>\n",
              "      <td>NaN</td>\n",
              "      <td>NaN</td>\n",
              "      <td>NaN</td>\n",
              "      <td>NaN</td>\n",
              "      <td>NaN</td>\n",
              "    </tr>\n",
              "    <tr>\n",
              "      <th>3</th>\n",
              "      <td>DECAP</td>\n",
              "      <td>3ª SEC</td>\n",
              "      <td>São Paulo</td>\n",
              "      <td>034 DP - Vila Sonia</td>\n",
              "      <td>1.0</td>\n",
              "      <td>10356</td>\n",
              "      <td>2017-01-01 00:00:00</td>\n",
              "      <td>2</td>\n",
              "      <td>2017</td>\n",
              "      <td>S.PAULO</td>\n",
              "      <td>...</td>\n",
              "      <td>Parda</td>\n",
              "      <td>SEM PROFISSAO DEFINIDA</td>\n",
              "      <td>HOMICÍDIO DOLOSO</td>\n",
              "      <td>Homicídio Doloso</td>\n",
              "      <td>NaN</td>\n",
              "      <td>NaN</td>\n",
              "      <td>NaN</td>\n",
              "      <td>NaN</td>\n",
              "      <td>NaN</td>\n",
              "      <td>NaN</td>\n",
              "    </tr>\n",
              "    <tr>\n",
              "      <th>4</th>\n",
              "      <td>DECAP</td>\n",
              "      <td>3ª SEC</td>\n",
              "      <td>São Paulo</td>\n",
              "      <td>046 DP - Perus</td>\n",
              "      <td>1.0</td>\n",
              "      <td>10333</td>\n",
              "      <td>2017-01-01 00:00:00</td>\n",
              "      <td>5</td>\n",
              "      <td>2017</td>\n",
              "      <td>S.PAULO</td>\n",
              "      <td>...</td>\n",
              "      <td>Preta</td>\n",
              "      <td>CONFERENTE</td>\n",
              "      <td>HOMICÍDIO DOLOSO</td>\n",
              "      <td>Homicídio Doloso</td>\n",
              "      <td>NaN</td>\n",
              "      <td>NaN</td>\n",
              "      <td>NaN</td>\n",
              "      <td>NaN</td>\n",
              "      <td>NaN</td>\n",
              "      <td>NaN</td>\n",
              "    </tr>\n",
              "  </tbody>\n",
              "</table>\n",
              "<p>5 rows × 34 columns</p>\n",
              "</div>"
            ],
            "text/plain": [
              "  DEPARTAMENTO_CIRCUNSCRICAO SECCIONAL_CIRCUNSCRICAO MUNICIPIO_CIRCUNSCRICAO  \\\n",
              "0                      DECAP                  1ª SEC               São Paulo   \n",
              "1                      DECAP                  1ª SEC               São Paulo   \n",
              "2                      DECAP                  2ª SEC               São Paulo   \n",
              "3                      DECAP                  3ª SEC               São Paulo   \n",
              "4                      DECAP                  3ª SEC               São Paulo   \n",
              "\n",
              "      DP_CIRCUNSCRICAO  NUM_VITIMA ID_DELEGACIA DATAHORA_REGISTRO_BO NUM_BO  \\\n",
              "0  002 DP - Bom Retiro         1.0        10102  2017-01-21 00:00:00    440   \n",
              "1        012 DP - Pari         1.0        10108  2017-01-24 00:00:00    489   \n",
              "2   035 DP - Jabaquara         1.0        10216  2017-01-15 00:00:00    470   \n",
              "3  034 DP - Vila Sonia         1.0        10356  2017-01-01 00:00:00      2   \n",
              "4       046 DP - Perus         1.0        10333  2017-01-01 00:00:00      5   \n",
              "\n",
              "  ANO_BO MUNICIPIO_ELABORACAO  ... COR_PELE               PROFISSAO  \\\n",
              "0   2017              S.PAULO  ...    Parda                     NaN   \n",
              "1   2017              S.PAULO  ...    Preta                     NaN   \n",
              "2   2017              S.PAULO  ...    Parda            DESEMPREGADO   \n",
              "3   2017              S.PAULO  ...    Parda  SEM PROFISSAO DEFINIDA   \n",
              "4   2017              S.PAULO  ...    Preta              CONFERENTE   \n",
              "\n",
              "   NATUREZA_APURADA             CRIME DESDOBRAMENTO DESCR_PERIODO  \\\n",
              "0  HOMICÍDIO DOLOSO  Homicídio Doloso           NaN           NaN   \n",
              "1  HOMICÍDIO DOLOSO  Homicídio Doloso           NaN           NaN   \n",
              "2  HOMICÍDIO DOLOSO  Homicídio Doloso           NaN           NaN   \n",
              "3  HOMICÍDIO DOLOSO  Homicídio Doloso           NaN           NaN   \n",
              "4  HOMICÍDIO DOLOSO  Homicídio Doloso           NaN           NaN   \n",
              "\n",
              "  FLAG_VITIMA_FATAL CONDUTA COORPORACAO SITUACAO  \n",
              "0               NaN     NaN         NaN      NaN  \n",
              "1               NaN     NaN         NaN      NaN  \n",
              "2               NaN     NaN         NaN      NaN  \n",
              "3               NaN     NaN         NaN      NaN  \n",
              "4               NaN     NaN         NaN      NaN  \n",
              "\n",
              "[5 rows x 34 columns]"
            ]
          },
          "execution_count": 3,
          "metadata": {},
          "output_type": "execute_result"
        }
      ],
      "source": [
        "df=pd.read_csv('data/compiledData/dfMortesCompilado_SemFiltroData.csv')\n",
        "df.head()"
      ]
    },
    {
      "cell_type": "markdown",
      "metadata": {
        "id": "PKh7KDienfnN"
      },
      "source": [
        "## Quais são as nossas variáveis?"
      ]
    },
    {
      "cell_type": "code",
      "execution_count": 4,
      "metadata": {
        "colab": {
          "base_uri": "https://localhost:8080/"
        },
        "id": "QpDNnDgunfGo",
        "outputId": "b354e3e9-11bb-4f71-eeda-8c9868e0c348"
      },
      "outputs": [
        {
          "name": "stdout",
          "output_type": "stream",
          "text": [
            "os nomes das variáveis :\n",
            " ['DEPARTAMENTO_CIRCUNSCRICAO', 'SECCIONAL_CIRCUNSCRICAO', 'MUNICIPIO_CIRCUNSCRICAO', 'DP_CIRCUNSCRICAO', 'NUM_VITIMA', 'ID_DELEGACIA', 'DATAHORA_REGISTRO_BO', 'NUM_BO', 'ANO_BO', 'MUNICIPIO_ELABORACAO', 'DP_ELABORACAO', 'SEC_ELABORACAO', 'DEP_ELABORACAO', 'DATA_FATO', 'HORA_FATO', 'DESC_TIPOLOCAL', 'LOGRADOURO', 'NUMERO_LOGRADOURO', 'LATITUDE', 'LONGITUDE', 'TIPO_PESSOA', 'SEXO_PESSOA', 'IDADE_PESSOA', 'DATA_NASCIMENTO_PESSOA', 'COR_PELE', 'PROFISSAO', 'NATUREZA_APURADA', 'CRIME', 'DESDOBRAMENTO', 'DESCR_PERIODO', 'FLAG_VITIMA_FATAL', 'CONDUTA', 'COORPORACAO', 'SITUACAO']\n"
          ]
        }
      ],
      "source": [
        "print(\"os nomes das variáveis :\\n\", list(df.columns))"
      ]
    },
    {
      "cell_type": "code",
      "execution_count": 5,
      "metadata": {
        "colab": {
          "base_uri": "https://localhost:8080/"
        },
        "id": "VNyfq3-Yu8Zz",
        "outputId": "2b9afae7-1dc6-4c15-c4e1-3107c6c4589a"
      },
      "outputs": [
        {
          "name": "stdout",
          "output_type": "stream",
          "text": [
            "<class 'pandas.core.frame.DataFrame'>\n",
            "RangeIndex: 7416 entries, 0 to 7415\n",
            "Data columns (total 34 columns):\n",
            " #   Column                      Non-Null Count  Dtype  \n",
            "---  ------                      --------------  -----  \n",
            " 0   DEPARTAMENTO_CIRCUNSCRICAO  7416 non-null   object \n",
            " 1   SECCIONAL_CIRCUNSCRICAO     7416 non-null   object \n",
            " 2   MUNICIPIO_CIRCUNSCRICAO     7416 non-null   object \n",
            " 3   DP_CIRCUNSCRICAO            7416 non-null   object \n",
            " 4   NUM_VITIMA                  4151 non-null   float64\n",
            " 5   ID_DELEGACIA                7416 non-null   object \n",
            " 6   DATAHORA_REGISTRO_BO        6929 non-null   object \n",
            " 7   NUM_BO                      7416 non-null   object \n",
            " 8   ANO_BO                      7416 non-null   object \n",
            " 9   MUNICIPIO_ELABORACAO        7416 non-null   object \n",
            " 10  DP_ELABORACAO               7416 non-null   object \n",
            " 11  SEC_ELABORACAO              7416 non-null   object \n",
            " 12  DEP_ELABORACAO              7416 non-null   object \n",
            " 13  DATA_FATO                   7416 non-null   object \n",
            " 14  HORA_FATO                   7406 non-null   object \n",
            " 15  DESC_TIPOLOCAL              7415 non-null   object \n",
            " 16  LOGRADOURO                  7416 non-null   object \n",
            " 17  NUMERO_LOGRADOURO           6236 non-null   object \n",
            " 18  LATITUDE                    6069 non-null   object \n",
            " 19  LONGITUDE                   6068 non-null   object \n",
            " 20  TIPO_PESSOA                 7416 non-null   object \n",
            " 21  SEXO_PESSOA                 7416 non-null   object \n",
            " 22  IDADE_PESSOA                6736 non-null   object \n",
            " 23  DATA_NASCIMENTO_PESSOA      6661 non-null   object \n",
            " 24  COR_PELE                    7415 non-null   object \n",
            " 25  PROFISSAO                   5572 non-null   object \n",
            " 26  NATUREZA_APURADA            7416 non-null   object \n",
            " 27  CRIME                       7416 non-null   object \n",
            " 28  DESDOBRAMENTO               2421 non-null   object \n",
            " 29  DESCR_PERIODO               0 non-null      float64\n",
            " 30  FLAG_VITIMA_FATAL           3178 non-null   object \n",
            " 31  CONDUTA                     1658 non-null   object \n",
            " 32  COORPORACAO                 3157 non-null   object \n",
            " 33  SITUACAO                    3157 non-null   object \n",
            "dtypes: float64(2), object(32)\n",
            "memory usage: 1.9+ MB\n"
          ]
        }
      ],
      "source": [
        "df.info()"
      ]
    },
    {
      "cell_type": "markdown",
      "metadata": {
        "id": "IHd5hWnvqW1v"
      },
      "source": [
        "## Lidando com valores ausentes"
      ]
    },
    {
      "cell_type": "code",
      "execution_count": 6,
      "metadata": {
        "colab": {
          "base_uri": "https://localhost:8080/"
        },
        "id": "zBQ0nT3Jqm0e",
        "outputId": "35963ebc-e1d0-4d67-ec18-597252fd36be"
      },
      "outputs": [
        {
          "name": "stdout",
          "output_type": "stream",
          "text": [
            "A base de dados possui:  41843 dados ausentes\n"
          ]
        }
      ],
      "source": [
        "# Quais são os valores totais ausentes no conjunto de dados ?\n",
        "print(\"A base de dados possui: \", df.isna().sum().sum(),'dados ausentes')"
      ]
    },
    {
      "cell_type": "code",
      "execution_count": 7,
      "metadata": {
        "colab": {
          "base_uri": "https://localhost:8080/",
          "height": 179
        },
        "id": "oEH8YaogqmlH",
        "outputId": "03960780-d5f6-4353-97cd-764590c72d6f"
      },
      "outputs": [
        {
          "name": "stdout",
          "output_type": "stream",
          "text": [
            "Number of Missing Values per feature >>\n"
          ]
        },
        {
          "data": {
            "text/html": [
              "<div>\n",
              "<style scoped>\n",
              "    .dataframe tbody tr th:only-of-type {\n",
              "        vertical-align: middle;\n",
              "    }\n",
              "\n",
              "    .dataframe tbody tr th {\n",
              "        vertical-align: top;\n",
              "    }\n",
              "\n",
              "    .dataframe thead th {\n",
              "        text-align: right;\n",
              "    }\n",
              "</style>\n",
              "<table border=\"1\" class=\"dataframe\">\n",
              "  <thead>\n",
              "    <tr style=\"text-align: right;\">\n",
              "      <th></th>\n",
              "      <th>Others</th>\n",
              "      <th>NUM_VITIMA</th>\n",
              "      <th>DATAHORA_REGISTRO_BO</th>\n",
              "      <th>HORA_FATO</th>\n",
              "      <th>DESC_TIPOLOCAL</th>\n",
              "      <th>NUMERO_LOGRADOURO</th>\n",
              "      <th>LATITUDE</th>\n",
              "      <th>LONGITUDE</th>\n",
              "      <th>IDADE_PESSOA</th>\n",
              "      <th>DATA_NASCIMENTO_PESSOA</th>\n",
              "      <th>COR_PELE</th>\n",
              "      <th>PROFISSAO</th>\n",
              "      <th>DESDOBRAMENTO</th>\n",
              "      <th>DESCR_PERIODO</th>\n",
              "      <th>FLAG_VITIMA_FATAL</th>\n",
              "      <th>CONDUTA</th>\n",
              "      <th>COORPORACAO</th>\n",
              "      <th>SITUACAO</th>\n",
              "    </tr>\n",
              "  </thead>\n",
              "  <tbody>\n",
              "    <tr>\n",
              "      <th>Missing Values</th>\n",
              "      <td>0</td>\n",
              "      <td>3265</td>\n",
              "      <td>487</td>\n",
              "      <td>10</td>\n",
              "      <td>1</td>\n",
              "      <td>1180</td>\n",
              "      <td>1347</td>\n",
              "      <td>1348</td>\n",
              "      <td>680</td>\n",
              "      <td>755</td>\n",
              "      <td>1</td>\n",
              "      <td>1844</td>\n",
              "      <td>4995</td>\n",
              "      <td>7416</td>\n",
              "      <td>4238</td>\n",
              "      <td>5758</td>\n",
              "      <td>4259</td>\n",
              "      <td>4259</td>\n",
              "    </tr>\n",
              "  </tbody>\n",
              "</table>\n",
              "</div>"
            ],
            "text/plain": [
              "                Others  NUM_VITIMA  DATAHORA_REGISTRO_BO  HORA_FATO  \\\n",
              "Missing Values       0        3265                   487         10   \n",
              "\n",
              "                DESC_TIPOLOCAL  NUMERO_LOGRADOURO  LATITUDE  LONGITUDE  \\\n",
              "Missing Values               1               1180      1347       1348   \n",
              "\n",
              "                IDADE_PESSOA  DATA_NASCIMENTO_PESSOA  COR_PELE  PROFISSAO  \\\n",
              "Missing Values           680                     755         1       1844   \n",
              "\n",
              "                DESDOBRAMENTO  DESCR_PERIODO  FLAG_VITIMA_FATAL  CONDUTA  \\\n",
              "Missing Values           4995           7416               4238     5758   \n",
              "\n",
              "                COORPORACAO  SITUACAO  \n",
              "Missing Values         4259      4259  "
            ]
          },
          "execution_count": 7,
          "metadata": {},
          "output_type": "execute_result"
        }
      ],
      "source": [
        "# Vamos contar o número de dados ausentes por coluna\n",
        "missing_values = list(df.isna().sum())\n",
        "# valores ausentes é uma lista do número de valores ausentes em cada coluna\n",
        "\n",
        "cols = list(df.columns)\n",
        "col_final = []\n",
        "for i in range(len(cols)):\n",
        "    if (missing_values[i] == 0):\n",
        "        cols[i]=\"Others\"\n",
        "d = dict(zip(cols, missing_values)) # fazendo um dicionário para os valores ausentes\n",
        "\n",
        "print(\"Number of Missing Values per feature >>\")\n",
        "missing_vals = pd.DataFrame(d, index=[\"Missing Values\"]) # Fazendo um dataframe personalizado a partir do dict d\n",
        "missing_vals.head()"
      ]
    },
    {
      "cell_type": "code",
      "execution_count": 8,
      "metadata": {
        "colab": {
          "base_uri": "https://localhost:8080/",
          "height": 418
        },
        "id": "7wRh_kIbwWPj",
        "outputId": "ee2793e7-d179-463c-aea3-db5ca7aa8390"
      },
      "outputs": [
        {
          "data": {
            "image/png": "[encoded data removed]",
            "text/plain": [
              "<Figure size 432x288 with 1 Axes>"
            ]
          },
          "metadata": {
            "needs_background": "light"
          },
          "output_type": "display_data"
        }
      ],
      "source": [
        "# Plotando os valores ausentes\n",
        "x = list(d.keys())\n",
        "y = list(d.values())\n",
        "sns.barplot(x=x, y=y, palette=\"GnBu_d\")\n",
        "plt.xticks(rotation=90)\n",
        "plt.title(\"Valores ausentes na base de dados\", fontdict = {'fontsize': 20})\n",
        "plt.ylabel(\"Contagem de valores ausentes\", fontdict={'fontsize': 15})\n",
        "plt.show()"
      ]
    },
    {
      "cell_type": "markdown",
      "metadata": {
        "id": "vCx1ITuOxRgA"
      },
      "source": [
        "## Por que essa quantidade de valores ausentes ?\n",
        "\n",
        "\n",
        "Ao analisar a base percebe-se que a maioria das informações que aparece como 'NaN' são sobre a situação da ocorrência. Como os dados são de 2019 à 2022 informações como 'desdobramento','Situação', entre outros.Ainda podem ser preenchidas ao fim do processo.<p>\n",
        " A variável 'FLAG_VITIMA_FATAL' só é preenchida quando ocorre flagrante, é um termo jurídico usado para indicar que um criminoso foi pego no momento em que cometia um crime, o que na maioria dos caso não ocorre.\n",
        "Como neste estudo a gente só quer ver onde foi registrado o crime essas variáveis serão deletadas.<p>\n",
        "\n",
        "Ainda temos alguns dados relevantes que também estão ausentes, dados como Latitude, Longitude, idade, etc. Como esses recursos não são valores numéricos diretos, não podemos usar funções estatísticas resumidas para preencher os valores ausentes.\n",
        "Portanto, removeremos esses valores do conjunto de dados.<p>"
      ]
    },
    {
      "cell_type": "code",
      "execution_count": 9,
      "metadata": {
        "id": "8qDdzpHi_Co3"
      },
      "outputs": [],
      "source": [
        "#tirando as variáveis que possuem muitos valores ausentes\n",
        "dfClean =df.drop(columns=['NUM_VITIMA','PROFISSAO','DESDOBRAMENTO','DESCR_PERIODO','FLAG_VITIMA_FATAL','CONDUTA','COORPORACAO','SITUACAO'])"
      ]
    },
    {
      "cell_type": "code",
      "execution_count": 10,
      "metadata": {
        "id": "wYq3GcpFw1VI"
      },
      "outputs": [],
      "source": [
        "dfClean = dfClean.dropna()"
      ]
    },
    {
      "cell_type": "code",
      "execution_count": 11,
      "metadata": {},
      "outputs": [],
      "source": [
        "dfClean['TIPO_PESSOA'] = dfClean['TIPO_PESSOA'].str.strip().str.upper()"
      ]
    },
    {
      "cell_type": "code",
      "execution_count": 12,
      "metadata": {},
      "outputs": [
        {
          "data": {
            "text/plain": [
              "VÍTIMA                  2969\n",
              "AUTOR/VITIMA            1780\n",
              "ADOLESCENTE              105\n",
              "ADOLESCENTE INF/VIT       68\n",
              "INDICIADO                 22\n",
              "ADOLESCENTE INFRATOR      12\n",
              "AUTOR                      3\n",
              "RDO NÃO LOCALIZADO         2\n",
              "ENCONTRO DE CADÁVER        1\n",
              "CRIANÇA                    1\n",
              "Name: TIPO_PESSOA, dtype: int64"
            ]
          },
          "execution_count": 12,
          "metadata": {},
          "output_type": "execute_result"
        }
      ],
      "source": [
        "dfClean['TIPO_PESSOA'].value_counts()"
      ]
    },
    {
      "cell_type": "code",
      "execution_count": 13,
      "metadata": {},
      "outputs": [],
      "source": [
        "dfClean = dfClean[dfClean['TIPO_PESSOA']=='VÍTIMA']"
      ]
    },
    {
      "cell_type": "code",
      "execution_count": 14,
      "metadata": {},
      "outputs": [],
      "source": [
        "dfClean['DATAHORA_REGISTRO_BO'] = pd.to_datetime(dfClean['DATAHORA_REGISTRO_BO'])\n",
        "dfClean['DATA_FATO'] = pd.to_datetime(dfClean['DATA_FATO'])\n",
        "dfClean['HORA_FATO_DT'] = pd.to_datetime(dfClean['HORA_FATO'],errors = 'coerce').dt.strftime('%H')\n",
        "\n",
        "\n",
        "dfClean['ANO_BO'] = dfClean['ANO_BO'].astype(str)\n",
        "dfClean['NUM_BO'] = dfClean['NUM_BO'].astype(str)\n",
        "\n",
        "dfClean['MES_BO'] = dfClean['DATAHORA_REGISTRO_BO'].dt.strftime('%m')\n",
        "dfClean['DIA_BO'] = dfClean['DATAHORA_REGISTRO_BO'].dt.strftime('%d')\n",
        "dfClean['HORA_BO'] = dfClean['DATAHORA_REGISTRO_BO'].dt.strftime('%H')\n",
        "dfClean['DIA_SEMANA_BO'] = dfClean['DATAHORA_REGISTRO_BO'].dt.dayofweek\n",
        "\n",
        "dfClean['ANO_FATO'] = dfClean['DATA_FATO'].dt.strftime('%Y')\n",
        "dfClean['MES_FATO'] = dfClean['DATA_FATO'].dt.strftime('%m')\n",
        "dfClean['DIA_FATO'] = dfClean['DATA_FATO'].dt.strftime('%d')\n",
        "dfClean['DIA_SEMANA_FATO'] = dfClean['DATA_FATO'].dt.dayofweek\n"
      ]
    },
    {
      "cell_type": "code",
      "execution_count": 15,
      "metadata": {
        "colab": {
          "base_uri": "https://localhost:8080/"
        },
        "id": "d1GzkDogvfvO",
        "outputId": "44ab01d0-290e-4103-8e91-048120b8d196"
      },
      "outputs": [
        {
          "name": "stdout",
          "output_type": "stream",
          "text": [
            "<class 'pandas.core.frame.DataFrame'>\n",
            "Int64Index: 2969 entries, 2 to 7413\n",
            "Data columns (total 35 columns):\n",
            " #   Column                      Non-Null Count  Dtype         \n",
            "---  ------                      --------------  -----         \n",
            " 0   DEPARTAMENTO_CIRCUNSCRICAO  2969 non-null   object        \n",
            " 1   SECCIONAL_CIRCUNSCRICAO     2969 non-null   object        \n",
            " 2   MUNICIPIO_CIRCUNSCRICAO     2969 non-null   object        \n",
            " 3   DP_CIRCUNSCRICAO            2969 non-null   object        \n",
            " 4   ID_DELEGACIA                2969 non-null   object        \n",
            " 5   DATAHORA_REGISTRO_BO        2969 non-null   datetime64[ns]\n",
            " 6   NUM_BO                      2969 non-null   object        \n",
            " 7   ANO_BO                      2969 non-null   object        \n",
            " 8   MUNICIPIO_ELABORACAO        2969 non-null   object        \n",
            " 9   DP_ELABORACAO               2969 non-null   object        \n",
            " 10  SEC_ELABORACAO              2969 non-null   object        \n",
            " 11  DEP_ELABORACAO              2969 non-null   object        \n",
            " 12  DATA_FATO                   2969 non-null   datetime64[ns]\n",
            " 13  HORA_FATO                   2969 non-null   object        \n",
            " 14  DESC_TIPOLOCAL              2969 non-null   object        \n",
            " 15  LOGRADOURO                  2969 non-null   object        \n",
            " 16  NUMERO_LOGRADOURO           2969 non-null   object        \n",
            " 17  LATITUDE                    2969 non-null   object        \n",
            " 18  LONGITUDE                   2969 non-null   object        \n",
            " 19  TIPO_PESSOA                 2969 non-null   object        \n",
            " 20  SEXO_PESSOA                 2969 non-null   object        \n",
            " 21  IDADE_PESSOA                2969 non-null   object        \n",
            " 22  DATA_NASCIMENTO_PESSOA      2969 non-null   object        \n",
            " 23  COR_PELE                    2969 non-null   object        \n",
            " 24  NATUREZA_APURADA            2969 non-null   object        \n",
            " 25  CRIME                       2969 non-null   object        \n",
            " 26  HORA_FATO_DT                2901 non-null   object        \n",
            " 27  MES_BO                      2969 non-null   object        \n",
            " 28  DIA_BO                      2969 non-null   object        \n",
            " 29  HORA_BO                     2969 non-null   object        \n",
            " 30  DIA_SEMANA_BO               2969 non-null   int64         \n",
            " 31  ANO_FATO                    2969 non-null   object        \n",
            " 32  MES_FATO                    2969 non-null   object        \n",
            " 33  DIA_FATO                    2969 non-null   object        \n",
            " 34  DIA_SEMANA_FATO             2969 non-null   int64         \n",
            "dtypes: datetime64[ns](2), int64(2), object(31)\n",
            "memory usage: 835.0+ KB\n"
          ]
        }
      ],
      "source": [
        "dfClean.info()"
      ]
    },
    {
      "cell_type": "code",
      "execution_count": 16,
      "metadata": {},
      "outputs": [],
      "source": [
        "# Demora uns 40min pra rodar!!!\n",
        "\n",
        "dfClean[\"LAT_LONG\"] = dfClean[\"LATITUDE\"].astype(str) + ',' + dfClean['LONGITUDE'].astype(str)\n",
        "\n",
        "locator = Nominatim(user_agent=\"myGeocoder\", timeout=10)\n",
        "rgeocode = RateLimiter(locator.reverse, min_delay_seconds=0.5)\n",
        "\n",
        "dfClean['RESPONSE_GEOLOCATOR'] = dfClean[\"LAT_LONG\"].apply(rgeocode)"
      ]
    },
    {
      "cell_type": "code",
      "execution_count": 24,
      "metadata": {},
      "outputs": [],
      "source": [
        "dfClean['GEOLOCATOR_ADDRESS'] = dfClean['RESPONSE_GEOLOCATOR'].apply(lambda loc: loc.raw['address'])\n",
        "dfClean['GEOLOCATOR_NEIGHBORHOOD'] = dfClean['GEOLOCATOR_ADDRESS'].apply(lambda addr: addr.get('suburb', '-')).str.upper()\n",
        "dfClean['GEOLOCATOR_POSTCODE'] = dfClean['GEOLOCATOR_ADDRESS'].apply(lambda addr: addr.get('postcode', '-')).str.upper()\n",
        "\n",
        "\n",
        "mapZonas = {'01':'Centro',\n",
        "            '02':'Zona Norte',\n",
        "            '03':'Zona Leste',\n",
        "            '04':'Zona Sul',\n",
        "            '05':'Zona Oeste',\n",
        "            '06':'-',\n",
        "            '07':'-',\n",
        "            '08':'Zona Leste',\n",
        "            '09':'-',\n",
        "            '38':'-',\n",
        "            '-':'-'}\n",
        "\n",
        "dfClean['ZONE_FROM_POSTCODE'] = dfClean['GEOLOCATOR_POSTCODE'].str[:2].map(mapZonas)"
      ]
    },
    {
      "cell_type": "code",
      "execution_count": 26,
      "metadata": {},
      "outputs": [],
      "source": [
        "dfClean['BO_ANO'] = dfClean[['NUM_BO', 'ANO_BO']].agg('-'.join, axis=1)"
      ]
    },
    {
      "cell_type": "code",
      "execution_count": 27,
      "metadata": {},
      "outputs": [],
      "source": [
        "dfNumDeVitimas = dfClean['BO_ANO'].value_counts().reset_index().rename(columns={'index':'BO_ANO','BO_ANO':'NUM_VITIMAS_CRIME'})"
      ]
    },
    {
      "cell_type": "code",
      "execution_count": 28,
      "metadata": {},
      "outputs": [],
      "source": [
        "dfClean = dfClean.merge(dfNumDeVitimas,how='left',on='BO_ANO')"
      ]
    },
    {
      "cell_type": "code",
      "execution_count": 29,
      "metadata": {},
      "outputs": [
        {
          "data": {
            "text/html": [
              "<div>\n",
              "<style scoped>\n",
              "    .dataframe tbody tr th:only-of-type {\n",
              "        vertical-align: middle;\n",
              "    }\n",
              "\n",
              "    .dataframe tbody tr th {\n",
              "        vertical-align: top;\n",
              "    }\n",
              "\n",
              "    .dataframe thead th {\n",
              "        text-align: right;\n",
              "    }\n",
              "</style>\n",
              "<table border=\"1\" class=\"dataframe\">\n",
              "  <thead>\n",
              "    <tr style=\"text-align: right;\">\n",
              "      <th></th>\n",
              "      <th>DEPARTAMENTO_CIRCUNSCRICAO</th>\n",
              "      <th>SECCIONAL_CIRCUNSCRICAO</th>\n",
              "      <th>MUNICIPIO_CIRCUNSCRICAO</th>\n",
              "      <th>DP_CIRCUNSCRICAO</th>\n",
              "      <th>ID_DELEGACIA</th>\n",
              "      <th>DATAHORA_REGISTRO_BO</th>\n",
              "      <th>NUM_BO</th>\n",
              "      <th>ANO_BO</th>\n",
              "      <th>MUNICIPIO_ELABORACAO</th>\n",
              "      <th>DP_ELABORACAO</th>\n",
              "      <th>...</th>\n",
              "      <th>DIA_SEMANA_FATO</th>\n",
              "      <th>LAT_LONG</th>\n",
              "      <th>RESPONSE_GEOLOCATOR</th>\n",
              "      <th>GEOLOCATOR_ADDRESS</th>\n",
              "      <th>GEOLOCATOR_NEIGHBORHOOD</th>\n",
              "      <th>GEOLOCATOR_POSTCODE</th>\n",
              "      <th>ZONE_FROM_POSTCODE</th>\n",
              "      <th>BO_ANO</th>\n",
              "      <th>NUM_VITIMAS_CRIME_x</th>\n",
              "      <th>NUM_VITIMAS_CRIME_y</th>\n",
              "    </tr>\n",
              "  </thead>\n",
              "  <tbody>\n",
              "    <tr>\n",
              "      <th>0</th>\n",
              "      <td>DECAP</td>\n",
              "      <td>2ª SEC</td>\n",
              "      <td>São Paulo</td>\n",
              "      <td>035 DP - Jabaquara</td>\n",
              "      <td>10216</td>\n",
              "      <td>2017-01-15</td>\n",
              "      <td>470</td>\n",
              "      <td>2017</td>\n",
              "      <td>S.PAULO</td>\n",
              "      <td>16º D.P. VILA CLEMENTINO</td>\n",
              "      <td>...</td>\n",
              "      <td>6</td>\n",
              "      <td>-23.6529740306974,-46.6490254237253</td>\n",
              "      <td>(Rua Jupatis, Jabaquara, São Paulo, Região Ime...</td>\n",
              "      <td>{'road': 'Rua Jupatis', 'suburb': 'Jabaquara',...</td>\n",
              "      <td>JABAQUARA</td>\n",
              "      <td>04349-210</td>\n",
              "      <td>Zona Sul</td>\n",
              "      <td>470-2017</td>\n",
              "      <td>1</td>\n",
              "      <td>1</td>\n",
              "    </tr>\n",
              "    <tr>\n",
              "      <th>1</th>\n",
              "      <td>DECAP</td>\n",
              "      <td>3ª SEC</td>\n",
              "      <td>São Paulo</td>\n",
              "      <td>046 DP - Perus</td>\n",
              "      <td>10333</td>\n",
              "      <td>2017-01-01</td>\n",
              "      <td>5</td>\n",
              "      <td>2017</td>\n",
              "      <td>S.PAULO</td>\n",
              "      <td>33º D.P. PIRITUBA</td>\n",
              "      <td>...</td>\n",
              "      <td>6</td>\n",
              "      <td>-23.4265992495567,-46.7528772318428</td>\n",
              "      <td>(Estrada S. Paulo/jundiaí, Estrada São Paulo J...</td>\n",
              "      <td>{'highway': 'Estrada S. Paulo/jundiaí', 'road'...</td>\n",
              "      <td>-</td>\n",
              "      <td>05185-420</td>\n",
              "      <td>Zona Oeste</td>\n",
              "      <td>5-2017</td>\n",
              "      <td>1</td>\n",
              "      <td>1</td>\n",
              "    </tr>\n",
              "    <tr>\n",
              "      <th>2</th>\n",
              "      <td>DECAP</td>\n",
              "      <td>3ª SEC</td>\n",
              "      <td>São Paulo</td>\n",
              "      <td>046 DP - Perus</td>\n",
              "      <td>10346</td>\n",
              "      <td>2017-01-05</td>\n",
              "      <td>67</td>\n",
              "      <td>2017</td>\n",
              "      <td>S.PAULO</td>\n",
              "      <td>46º D.P. PERUS</td>\n",
              "      <td>...</td>\n",
              "      <td>3</td>\n",
              "      <td>-23.4066690729999,-46.767525892</td>\n",
              "      <td>(Rodovia dos Bandeirantes, Perus, São Paulo, R...</td>\n",
              "      <td>{'road': 'Rodovia dos Bandeirantes', 'city_dis...</td>\n",
              "      <td>-</td>\n",
              "      <td>05208-000</td>\n",
              "      <td>Zona Oeste</td>\n",
              "      <td>67-2017</td>\n",
              "      <td>2</td>\n",
              "      <td>2</td>\n",
              "    </tr>\n",
              "    <tr>\n",
              "      <th>3</th>\n",
              "      <td>DECAP</td>\n",
              "      <td>3ª SEC</td>\n",
              "      <td>São Paulo</td>\n",
              "      <td>046 DP - Perus</td>\n",
              "      <td>10333</td>\n",
              "      <td>2017-01-31</td>\n",
              "      <td>698</td>\n",
              "      <td>2017</td>\n",
              "      <td>S.PAULO</td>\n",
              "      <td>33º D.P. PIRITUBA</td>\n",
              "      <td>...</td>\n",
              "      <td>1</td>\n",
              "      <td>-23.414208227,-46.7505133029999</td>\n",
              "      <td>(Rua Recanto Dos Humildes, 1, Rua Recanto dos ...</td>\n",
              "      <td>{'highway': 'Rua Recanto Dos Humildes, 1', 'ro...</td>\n",
              "      <td>-</td>\n",
              "      <td>05204-110</td>\n",
              "      <td>Zona Oeste</td>\n",
              "      <td>698-2017</td>\n",
              "      <td>2</td>\n",
              "      <td>2</td>\n",
              "    </tr>\n",
              "    <tr>\n",
              "      <th>4</th>\n",
              "      <td>DECAP</td>\n",
              "      <td>3ª SEC</td>\n",
              "      <td>São Paulo</td>\n",
              "      <td>091 DP - Ceagesp</td>\n",
              "      <td>10357</td>\n",
              "      <td>2017-01-14</td>\n",
              "      <td>238</td>\n",
              "      <td>2017</td>\n",
              "      <td>S.PAULO</td>\n",
              "      <td>91º D.P. CEASA</td>\n",
              "      <td>...</td>\n",
              "      <td>5</td>\n",
              "      <td>-23.529099244976,-46.7390268652108</td>\n",
              "      <td>(Viaduto Miguel Mofarrej, Vila Leopoldina, São...</td>\n",
              "      <td>{'road': 'Viaduto Miguel Mofarrej', 'suburb': ...</td>\n",
              "      <td>VILA LEOPOLDINA</td>\n",
              "      <td>05314-000</td>\n",
              "      <td>Zona Oeste</td>\n",
              "      <td>238-2017</td>\n",
              "      <td>2</td>\n",
              "      <td>2</td>\n",
              "    </tr>\n",
              "    <tr>\n",
              "      <th>...</th>\n",
              "      <td>...</td>\n",
              "      <td>...</td>\n",
              "      <td>...</td>\n",
              "      <td>...</td>\n",
              "      <td>...</td>\n",
              "      <td>...</td>\n",
              "      <td>...</td>\n",
              "      <td>...</td>\n",
              "      <td>...</td>\n",
              "      <td>...</td>\n",
              "      <td>...</td>\n",
              "      <td>...</td>\n",
              "      <td>...</td>\n",
              "      <td>...</td>\n",
              "      <td>...</td>\n",
              "      <td>...</td>\n",
              "      <td>...</td>\n",
              "      <td>...</td>\n",
              "      <td>...</td>\n",
              "      <td>...</td>\n",
              "      <td>...</td>\n",
              "    </tr>\n",
              "    <tr>\n",
              "      <th>2964</th>\n",
              "      <td>DECAP</td>\n",
              "      <td>8ª SEC</td>\n",
              "      <td>São Paulo</td>\n",
              "      <td>049 DP - São Mateus</td>\n",
              "      <td>20249</td>\n",
              "      <td>2022-05-02</td>\n",
              "      <td>3278</td>\n",
              "      <td>2022</td>\n",
              "      <td>S.PAULO</td>\n",
              "      <td>49º D.P. SAO MATEUS</td>\n",
              "      <td>...</td>\n",
              "      <td>0</td>\n",
              "      <td>-23.6175172912222,-46.450838927137</td>\n",
              "      <td>(Avenida Nova Conquista, 4454, Rua Peramirim, ...</td>\n",
              "      <td>{'highway': 'Avenida Nova Conquista, 4454', 'r...</td>\n",
              "      <td>SÃO RAFAEL</td>\n",
              "      <td>03989-010</td>\n",
              "      <td>Zona Leste</td>\n",
              "      <td>3278-2022</td>\n",
              "      <td>1</td>\n",
              "      <td>1</td>\n",
              "    </tr>\n",
              "    <tr>\n",
              "      <th>2965</th>\n",
              "      <td>DECAP</td>\n",
              "      <td>3ª SEC</td>\n",
              "      <td>São Paulo</td>\n",
              "      <td>089 DP - Portal do Morumbi</td>\n",
              "      <td>10356</td>\n",
              "      <td>2022-06-28</td>\n",
              "      <td>4146</td>\n",
              "      <td>2022</td>\n",
              "      <td>S.PAULO</td>\n",
              "      <td>89º D.P. JARDIM TABOAO</td>\n",
              "      <td>...</td>\n",
              "      <td>1</td>\n",
              "      <td>-23.6114818259999,-46.7279471429999</td>\n",
              "      <td>(Avenida Giovanni Gronchi, 3478, Avenida Giova...</td>\n",
              "      <td>{'highway': 'Avenida Giovanni Gronchi, 3478', ...</td>\n",
              "      <td>VILA SÔNIA</td>\n",
              "      <td>05663-020</td>\n",
              "      <td>Zona Oeste</td>\n",
              "      <td>4146-2022</td>\n",
              "      <td>1</td>\n",
              "      <td>1</td>\n",
              "    </tr>\n",
              "    <tr>\n",
              "      <th>2966</th>\n",
              "      <td>DECAP</td>\n",
              "      <td>6ª SEC</td>\n",
              "      <td>São Paulo</td>\n",
              "      <td>102 DP - Socorro</td>\n",
              "      <td>10601</td>\n",
              "      <td>2022-07-19</td>\n",
              "      <td>3804</td>\n",
              "      <td>2022</td>\n",
              "      <td>S.PAULO</td>\n",
              "      <td>06ª DDM SANTO AMARO</td>\n",
              "      <td>...</td>\n",
              "      <td>0</td>\n",
              "      <td>-23.6861267135,-46.709649042</td>\n",
              "      <td>(Rua Doutor Frank Martim, Socorro, São Paulo, ...</td>\n",
              "      <td>{'road': 'Rua Doutor Frank Martim', 'suburb': ...</td>\n",
              "      <td>SOCORRO</td>\n",
              "      <td>04784-060</td>\n",
              "      <td>Zona Sul</td>\n",
              "      <td>3804-2022</td>\n",
              "      <td>1</td>\n",
              "      <td>1</td>\n",
              "    </tr>\n",
              "    <tr>\n",
              "      <th>2967</th>\n",
              "      <td>DECAP</td>\n",
              "      <td>8ª SEC</td>\n",
              "      <td>São Paulo</td>\n",
              "      <td>069 DP - Teotônio Vilela</td>\n",
              "      <td>10362</td>\n",
              "      <td>2022-07-14</td>\n",
              "      <td>4490</td>\n",
              "      <td>2022</td>\n",
              "      <td>S.PAULO</td>\n",
              "      <td>69º D.P. TEOTONIO VILELA</td>\n",
              "      <td>...</td>\n",
              "      <td>2</td>\n",
              "      <td>-23.6020406,-46.4840261</td>\n",
              "      <td>(2300, Rua Margarida Cardoso dos Santos, Vila ...</td>\n",
              "      <td>{'house_number': '2300', 'road': 'Rua Margarid...</td>\n",
              "      <td>SÃO MATEUS</td>\n",
              "      <td>03949-200</td>\n",
              "      <td>Zona Leste</td>\n",
              "      <td>4490-2022</td>\n",
              "      <td>1</td>\n",
              "      <td>1</td>\n",
              "    </tr>\n",
              "    <tr>\n",
              "      <th>2968</th>\n",
              "      <td>DECAP</td>\n",
              "      <td>6ª SEC</td>\n",
              "      <td>São Paulo</td>\n",
              "      <td>047 DP - Capão Redondo</td>\n",
              "      <td>10247</td>\n",
              "      <td>2022-08-09</td>\n",
              "      <td>6897</td>\n",
              "      <td>2022</td>\n",
              "      <td>S.PAULO</td>\n",
              "      <td>47º D.P. CAPAO REDONDO</td>\n",
              "      <td>...</td>\n",
              "      <td>1</td>\n",
              "      <td>-23.68799188,-46.7854473259999</td>\n",
              "      <td>(Rua Petras, Parque Independência, Jardim Ânge...</td>\n",
              "      <td>{'road': 'Rua Petras', 'quarter': 'Parque Inde...</td>\n",
              "      <td>JARDIM ÂNGELA</td>\n",
              "      <td>05875-300</td>\n",
              "      <td>Zona Oeste</td>\n",
              "      <td>6897-2022</td>\n",
              "      <td>1</td>\n",
              "      <td>1</td>\n",
              "    </tr>\n",
              "  </tbody>\n",
              "</table>\n",
              "<p>2969 rows × 44 columns</p>\n",
              "</div>"
            ],
            "text/plain": [
              "     DEPARTAMENTO_CIRCUNSCRICAO SECCIONAL_CIRCUNSCRICAO  \\\n",
              "0                         DECAP                  2ª SEC   \n",
              "1                         DECAP                  3ª SEC   \n",
              "2                         DECAP                  3ª SEC   \n",
              "3                         DECAP                  3ª SEC   \n",
              "4                         DECAP                  3ª SEC   \n",
              "...                         ...                     ...   \n",
              "2964                      DECAP                  8ª SEC   \n",
              "2965                      DECAP                  3ª SEC   \n",
              "2966                      DECAP                  6ª SEC   \n",
              "2967                      DECAP                  8ª SEC   \n",
              "2968                      DECAP                  6ª SEC   \n",
              "\n",
              "     MUNICIPIO_CIRCUNSCRICAO            DP_CIRCUNSCRICAO ID_DELEGACIA  \\\n",
              "0                  São Paulo          035 DP - Jabaquara        10216   \n",
              "1                  São Paulo              046 DP - Perus        10333   \n",
              "2                  São Paulo              046 DP - Perus        10346   \n",
              "3                  São Paulo              046 DP - Perus        10333   \n",
              "4                  São Paulo            091 DP - Ceagesp        10357   \n",
              "...                      ...                         ...          ...   \n",
              "2964               São Paulo         049 DP - São Mateus        20249   \n",
              "2965               São Paulo  089 DP - Portal do Morumbi        10356   \n",
              "2966               São Paulo            102 DP - Socorro        10601   \n",
              "2967               São Paulo    069 DP - Teotônio Vilela        10362   \n",
              "2968               São Paulo      047 DP - Capão Redondo        10247   \n",
              "\n",
              "     DATAHORA_REGISTRO_BO NUM_BO ANO_BO MUNICIPIO_ELABORACAO  \\\n",
              "0              2017-01-15    470   2017              S.PAULO   \n",
              "1              2017-01-01      5   2017              S.PAULO   \n",
              "2              2017-01-05     67   2017              S.PAULO   \n",
              "3              2017-01-31    698   2017              S.PAULO   \n",
              "4              2017-01-14    238   2017              S.PAULO   \n",
              "...                   ...    ...    ...                  ...   \n",
              "2964           2022-05-02   3278   2022              S.PAULO   \n",
              "2965           2022-06-28   4146   2022              S.PAULO   \n",
              "2966           2022-07-19   3804   2022              S.PAULO   \n",
              "2967           2022-07-14   4490   2022              S.PAULO   \n",
              "2968           2022-08-09   6897   2022              S.PAULO   \n",
              "\n",
              "                 DP_ELABORACAO  ... DIA_SEMANA_FATO  \\\n",
              "0     16º D.P. VILA CLEMENTINO  ...               6   \n",
              "1            33º D.P. PIRITUBA  ...               6   \n",
              "2               46º D.P. PERUS  ...               3   \n",
              "3            33º D.P. PIRITUBA  ...               1   \n",
              "4               91º D.P. CEASA  ...               5   \n",
              "...                        ...  ...             ...   \n",
              "2964       49º D.P. SAO MATEUS  ...               0   \n",
              "2965    89º D.P. JARDIM TABOAO  ...               1   \n",
              "2966       06ª DDM SANTO AMARO  ...               0   \n",
              "2967  69º D.P. TEOTONIO VILELA  ...               2   \n",
              "2968    47º D.P. CAPAO REDONDO  ...               1   \n",
              "\n",
              "                                 LAT_LONG  \\\n",
              "0     -23.6529740306974,-46.6490254237253   \n",
              "1     -23.4265992495567,-46.7528772318428   \n",
              "2         -23.4066690729999,-46.767525892   \n",
              "3         -23.414208227,-46.7505133029999   \n",
              "4      -23.529099244976,-46.7390268652108   \n",
              "...                                   ...   \n",
              "2964   -23.6175172912222,-46.450838927137   \n",
              "2965  -23.6114818259999,-46.7279471429999   \n",
              "2966         -23.6861267135,-46.709649042   \n",
              "2967              -23.6020406,-46.4840261   \n",
              "2968       -23.68799188,-46.7854473259999   \n",
              "\n",
              "                                    RESPONSE_GEOLOCATOR  \\\n",
              "0     (Rua Jupatis, Jabaquara, São Paulo, Região Ime...   \n",
              "1     (Estrada S. Paulo/jundiaí, Estrada São Paulo J...   \n",
              "2     (Rodovia dos Bandeirantes, Perus, São Paulo, R...   \n",
              "3     (Rua Recanto Dos Humildes, 1, Rua Recanto dos ...   \n",
              "4     (Viaduto Miguel Mofarrej, Vila Leopoldina, São...   \n",
              "...                                                 ...   \n",
              "2964  (Avenida Nova Conquista, 4454, Rua Peramirim, ...   \n",
              "2965  (Avenida Giovanni Gronchi, 3478, Avenida Giova...   \n",
              "2966  (Rua Doutor Frank Martim, Socorro, São Paulo, ...   \n",
              "2967  (2300, Rua Margarida Cardoso dos Santos, Vila ...   \n",
              "2968  (Rua Petras, Parque Independência, Jardim Ânge...   \n",
              "\n",
              "                                     GEOLOCATOR_ADDRESS  \\\n",
              "0     {'road': 'Rua Jupatis', 'suburb': 'Jabaquara',...   \n",
              "1     {'highway': 'Estrada S. Paulo/jundiaí', 'road'...   \n",
              "2     {'road': 'Rodovia dos Bandeirantes', 'city_dis...   \n",
              "3     {'highway': 'Rua Recanto Dos Humildes, 1', 'ro...   \n",
              "4     {'road': 'Viaduto Miguel Mofarrej', 'suburb': ...   \n",
              "...                                                 ...   \n",
              "2964  {'highway': 'Avenida Nova Conquista, 4454', 'r...   \n",
              "2965  {'highway': 'Avenida Giovanni Gronchi, 3478', ...   \n",
              "2966  {'road': 'Rua Doutor Frank Martim', 'suburb': ...   \n",
              "2967  {'house_number': '2300', 'road': 'Rua Margarid...   \n",
              "2968  {'road': 'Rua Petras', 'quarter': 'Parque Inde...   \n",
              "\n",
              "     GEOLOCATOR_NEIGHBORHOOD GEOLOCATOR_POSTCODE ZONE_FROM_POSTCODE  \\\n",
              "0                  JABAQUARA           04349-210           Zona Sul   \n",
              "1                          -           05185-420         Zona Oeste   \n",
              "2                          -           05208-000         Zona Oeste   \n",
              "3                          -           05204-110         Zona Oeste   \n",
              "4            VILA LEOPOLDINA           05314-000         Zona Oeste   \n",
              "...                      ...                 ...                ...   \n",
              "2964              SÃO RAFAEL           03989-010         Zona Leste   \n",
              "2965              VILA SÔNIA           05663-020         Zona Oeste   \n",
              "2966                 SOCORRO           04784-060           Zona Sul   \n",
              "2967              SÃO MATEUS           03949-200         Zona Leste   \n",
              "2968           JARDIM ÂNGELA           05875-300         Zona Oeste   \n",
              "\n",
              "         BO_ANO NUM_VITIMAS_CRIME_x NUM_VITIMAS_CRIME_y  \n",
              "0      470-2017                   1                   1  \n",
              "1        5-2017                   1                   1  \n",
              "2       67-2017                   2                   2  \n",
              "3      698-2017                   2                   2  \n",
              "4      238-2017                   2                   2  \n",
              "...         ...                 ...                 ...  \n",
              "2964  3278-2022                   1                   1  \n",
              "2965  4146-2022                   1                   1  \n",
              "2966  3804-2022                   1                   1  \n",
              "2967  4490-2022                   1                   1  \n",
              "2968  6897-2022                   1                   1  \n",
              "\n",
              "[2969 rows x 44 columns]"
            ]
          },
          "execution_count": 29,
          "metadata": {},
          "output_type": "execute_result"
        }
      ],
      "source": [
        "dfClean"
      ]
    },
    {
      "cell_type": "code",
      "execution_count": 30,
      "metadata": {
        "colab": {
          "base_uri": "https://localhost:8080/"
        },
        "id": "_NxVkHjA_4mG",
        "outputId": "64ae737c-8f92-4d2c-f092-e2b8a44e73c5"
      },
      "outputs": [
        {
          "name": "stdout",
          "output_type": "stream",
          "text": [
            "retidos na base: 40.04%\n"
          ]
        }
      ],
      "source": [
        "#Quantos dados foram retidos após essa remoção\n",
        "print(f'retidos na base: {round(len(dfClean)/len(df)*100,2)}%')"
      ]
    },
    {
      "cell_type": "code",
      "execution_count": 31,
      "metadata": {},
      "outputs": [],
      "source": [
        "dfClean.to_csv('data/compiledData/dfCleanMortes_SemFiltroData2.csv',index=False)"
      ]
    },
    {
      "cell_type": "markdown",
      "metadata": {
        "id": "1ETvwMPhpHkz"
      },
      "source": [
        "## Número de crimes distintos na cidade de São Paulo"
      ]
    },
    {
      "cell_type": "code",
      "execution_count": 32,
      "metadata": {
        "colab": {
          "base_uri": "https://localhost:8080/"
        },
        "id": "ckKKa9OBpCfP",
        "outputId": "8b056f94-ed56-402d-d7f5-515a7f98e21e"
      },
      "outputs": [
        {
          "name": "stdout",
          "output_type": "stream",
          "text": [
            "Tipos de crimes distintos na cidade de São Paulo: 5\n",
            "\n",
            "Os Crimes são:\n",
            " ['Homicídio Doloso' 'Morte Decorrente de Intervenção Policial'\n",
            " 'Latrocínio' 'Lesão Corporal Seguida de Morte' 'Feminicidio']\n"
          ]
        }
      ],
      "source": [
        "tiposCrimes = dfClean['CRIME'].unique()\n",
        "print(\"Tipos de crimes distintos na cidade de São Paulo:\", len(tiposCrimes))\n",
        "print()\n",
        "print(\"Os Crimes são:\\n\", tiposCrimes)"
      ]
    },
    {
      "cell_type": "code",
      "execution_count": 33,
      "metadata": {
        "colab": {
          "base_uri": "https://localhost:8080/",
          "height": 712
        },
        "id": "yMOEEgTb-dB4",
        "outputId": "c04183e2-833b-4fd5-ce32-4b3f9e84bf81"
      },
      "outputs": [
        {
          "data": {
            "text/html": [
              "<div style=\"width:100%;\"><div style=\"position:relative;width:100%;height:0;padding-bottom:60%;\"><span style=\"color:#565656\">Make this Notebook Trusted to load map: File -> Trust Notebook</span><iframe srcdoc=\"&lt;!DOCTYPE html&gt;\n",
              "&lt;head&gt;    \n",
              "    &lt;meta http-equiv=&quot;content-type&quot; content=&quot;text/html; charset=UTF-8&quot; /&gt;\n",
              "    \n",
              "        &lt;script&gt;\n",
              "            L_NO_TOUCH = false;\n",
              "            L_DISABLE_3D = false;\n",
              "        &lt;/script&gt;\n",
              "    \n",
              "    &lt;style&gt;html, body {width: 100%;height: 100%;margin: 0;padding: 0;}&lt;/style&gt;\n",
              "    &lt;style&gt;#map {position:absolute;top:0;bottom:0;right:0;left:0;}&lt;/style&gt;\n",
              "    &lt;script src=&quot;https://cdn.jsdelivr.net/npm/leaflet@1.6.0/dist/leaflet.js&quot;&gt;&lt;/script&gt;\n",
              "    &lt;script src=&quot;https://code.jquery.com/jquery-1.12.4.min.js&quot;&gt;&lt;/script&gt;\n",
              "    &lt;script src=&quot;https://maxcdn.bootstrapcdn.com/bootstrap/3.2.0/js/bootstrap.min.js&quot;&gt;&lt;/script&gt;\n",
              "    &lt;script src=&quot;https://cdnjs.cloudflare.com/ajax/libs/Leaflet.awesome-markers/2.0.2/leaflet.awesome-markers.js&quot;&gt;&lt;/script&gt;\n",
              "    &lt;link rel=&quot;stylesheet&quot; href=&quot;https://cdn.jsdelivr.net/npm/leaflet@1.6.0/dist/leaflet.css&quot;/&gt;\n",
              "    &lt;link rel=&quot;stylesheet&quot; href=&quot;https://maxcdn.bootstrapcdn.com/bootstrap/3.2.0/css/bootstrap.min.css&quot;/&gt;\n",
              "    &lt;link rel=&quot;stylesheet&quot; href=&quot;https://maxcdn.bootstrapcdn.com/bootstrap/3.2.0/css/bootstrap-theme.min.css&quot;/&gt;\n",
              "    &lt;link rel=&quot;stylesheet&quot; href=&quot;https://maxcdn.bootstrapcdn.com/font-awesome/4.6.3/css/font-awesome.min.css&quot;/&gt;\n",
              "    &lt;link rel=&quot;stylesheet&quot; href=&quot;https://cdnjs.cloudflare.com/ajax/libs/Leaflet.awesome-markers/2.0.2/leaflet.awesome-markers.css&quot;/&gt;\n",
              "    &lt;link rel=&quot;stylesheet&quot; href=&quot;https://cdn.jsdelivr.net/gh/python-visualization/folium/folium/templates/leaflet.awesome.rotate.min.css&quot;/&gt;\n",
              "    \n",
              "            &lt;meta name=&quot;viewport&quot; content=&quot;width=device-width,\n",
              "                initial-scale=1.0, maximum-scale=1.0, user-scalable=no&quot; /&gt;\n",
              "            &lt;style&gt;\n",
              "                #map_7046b0c76ee2a1a3613a6cc081dbf60d {\n",
              "                    position: relative;\n",
              "                    width: 100.0%;\n",
              "                    height: 100.0%;\n",
              "                    left: 0.0%;\n",
              "                    top: 0.0%;\n",
              "                }\n",
              "            &lt;/style&gt;\n",
              "        \n",
              "    &lt;script src=&quot;https://cdn.jsdelivr.net/gh/python-visualization/folium@main/folium/templates/leaflet_heat.min.js&quot;&gt;&lt;/script&gt;\n",
              "&lt;/head&gt;\n",
              "&lt;body&gt;    \n",
              "    \n",
              "            &lt;div class=&quot;folium-map&quot; id=&quot;map_7046b0c76ee2a1a3613a6cc081dbf60d&quot; &gt;&lt;/div&gt;\n",
              "        \n",
              "&lt;/body&gt;\n",
              "&lt;script&gt;    \n",
              "    \n",
              "            var map_7046b0c76ee2a1a3613a6cc081dbf60d = L.map(\n",
              "                &quot;map_7046b0c76ee2a1a3613a6cc081dbf60d&quot;,\n",
              "                {\n",
              "                    center: [-23.58633467412642, -46.60418260319519],\n",
              "                    crs: L.CRS.EPSG3857,\n",
              "                    zoom: 10,\n",
              "                    zoomControl: true,\n",
              "                    preferCanvas: false,\n",
              "                }\n",
              "            );\n",
              "\n",
              "            \n",
              "\n",
              "        \n",
              "    \n",
              "            var tile_layer_c1595afc7192eb37ad19e3a4a49a28ed = L.tileLayer(\n",
              "                &quot;https://cartodb-basemaps-{s}.global.ssl.fastly.net/light_all/{z}/{x}/{y}.png&quot;,\n",
              "                {&quot;attribution&quot;: &quot;\\u0026copy; \\u003ca href=\\&quot;http://www.openstreetmap.org/copyright\\&quot;\\u003eOpenStreetMap\\u003c/a\\u003e contributors \\u0026copy; \\u003ca href=\\&quot;http://cartodb.com/attributions\\&quot;\\u003eCartoDB\\u003c/a\\u003e, CartoDB \\u003ca href =\\&quot;http://cartodb.com/attributions\\&quot;\\u003eattributions\\u003c/a\\u003e&quot;, &quot;detectRetina&quot;: false, &quot;maxNativeZoom&quot;: 18, &quot;maxZoom&quot;: 18, &quot;minZoom&quot;: 0, &quot;noWrap&quot;: false, &quot;opacity&quot;: 1, &quot;subdomains&quot;: &quot;abc&quot;, &quot;tms&quot;: false}\n",
              "            ).addTo(map_7046b0c76ee2a1a3613a6cc081dbf60d);\n",
              "        \n",
              "    \n",
              "            var heat_map_b74c60f2a839975a651bd3e4bdd3735c = L.heatLayer(\n",
              "                [[-23.6529740306974, -46.6490254237253], [-23.4265992495567, -46.7528772318428], [-23.4066690729999, -46.767525892], [-23.414208227, -46.7505133029999], [-23.529099244976, -46.7390268652108], [-23.529099244976, -46.7390268652108], [-23.5112668038731, -46.6214397229744], [-23.4637400887823, -46.6917451714717], [-23.4688315561477, -46.6893199449242], [-23.4662257863181, -46.6824127604702], [-23.4589413969999, -46.6873801739999], [-23.408483813, -46.580717264], [-23.4460899711061, -46.7281483673012], [-23.453136092, -46.706100694], [-23.4938367140252, -46.5739488626475], [-23.6482904919149, -46.715284417851], [-23.8214470261176, -46.7278491453529], [-23.6815797436287, -46.7924353089863], [-23.6561460553743, -46.7773993426805], [-23.7571520114813, -46.6772739943239], [-23.6521625983989, -46.7360361434279], [-23.691593125621, -46.7564545054496], [-23.7224493448306, -46.7501689516644], [-23.7224493448306, -46.7501689516644], [-23.5191504646656, -46.4286477318208], [-23.4864493124231, -46.394506918423], [-23.5753931145559, -46.4117180712029], [-23.5732852520072, -46.4933186613321], [-23.6040151100302, -46.5005719653744], [-23.6123051723, -46.536184377567], [-23.5505484430586, -46.6290189422154], [-23.5546657256337, -46.6288392517731], [-23.5545639178402, -46.6554825121943], [-23.525164553, -46.6647390159999], [-23.4727870708037, -46.7398573418443], [-23.508152819, -46.7512723949999], [-23.6481441524935, -46.748421389627], [-23.4777854794718, -46.7185756368876], [-23.6116194402478, -46.741995665638], [-23.471833945151, -46.6971991302106], [-23.5091643001023, -46.559539371274], [-23.5203590563333, -46.5638662153333], [-23.5168393776055, -46.5784067616972], [-23.5141001701111, -46.5205953395555], [-23.5331563273824, -46.5206199930873], [-23.5315615740916, -46.5210106729171], [-23.5477594215926, -46.5606404455185], [-23.653329809, -46.706400765], [-23.653329809, -46.706400765], [-23.6805710789999, -46.7737139509999], [-23.7645982559999, -46.674661128], [-23.6781072933632, -46.7437257784979], [-23.6781072933632, -46.7437257784979], [-23.6668011047674, -46.7435412605198], [-23.6565047136091, -46.7359237892442], [-23.6663985097264, -46.7050465562844], [-23.7226700799039, -46.7728605665877], [-23.686253317227, -46.7377189375679], [-23.7134697563145, -46.7814152123392], [-23.738678448, -46.686879028], [-23.4973224699823, -46.4401027446151], [-23.508151622, -46.4322150419999], [-23.508151622, -46.4322150419999], [-23.5068785334019, -46.3715465869804], [-23.478666734, -46.4231912256], [-23.5204178400514, -46.4078929699251], [-23.538180509408, -46.3958262884698], [-23.614152802, -46.49842913], [-23.6153343952336, -46.5033157584519], [-23.5999405004775, -46.5292078232977], [-23.5466084864623, -46.6363394866515], [-23.5481220495833, -46.6392758088124], [-23.5526595211795, -46.6397536092413], [-23.5614832395961, -46.6181118593461], [-23.5431038633157, -46.6145865532631], [-23.5555212368161, -46.6182892652183], [-23.5809882355611, -46.5984464688664], [-23.6193380003341, -46.6115778073342], [-23.6436882762791, -46.6112650284803], [-23.634552486, -46.747111493], [-23.441627383936, -46.795006592074], [-23.5912724317492, -46.7920346677372], [-23.592926796, -46.7909320189999], [-23.4750466256223, -46.694773838951], [-23.460735255, -46.5711065639999], [-23.4410479095917, -46.7168792117226], [-23.4508596619398, -46.6987780062498], [-23.4613598487741, -46.7110368465656], [-23.5166973395882, -46.5740878779411], [-23.6903060459999, -46.7724485219999], [-23.7656916983979, -46.7068264110987], [-23.669955586, -46.74377429], [-23.6738610576786, -46.6979638543571], [-23.681539669, -46.677507345], [-23.692602715839, -46.7424709457339], [-23.4911574120932, -46.4120846598225], [-23.4828625000697, -46.4909583192731], [-23.5075321274601, -46.4768910722079], [-23.5075321274601, -46.4768910722079], [-23.5286552409259, -46.4602661364814], [-23.6140930748999, -46.4537313968499], [-23.6018538254923, -46.3985539081371], [-23.6132636500565, -46.4229106462972], [-23.5987191423448, -46.4763083746206], [-23.6121179435714, -46.5108141766428], [-23.6140332183897, -46.5079010530272], [-23.5518179014558, -46.6348471235515], [-23.5421436637062, -46.6383706874416], [-23.5630711880724, -46.6504709751159], [-23.5448320364, -46.6153145858], [-23.6342905944577, -46.6605090312815], [-23.6607330508298, -46.6434284146595], [-23.4660664689999, -46.747700884], [-23.6284418774671, -46.7679615590364], [-23.6251020099999, -46.764804118], [-23.6251020099999, -46.764804118], [-23.6251020099999, -46.764804118], [-23.6317308062499, -46.7448570139327], [-23.4070256995472, -46.7607814542], [-23.584895568, -46.738537766], [-23.6340918328361, -46.7370630652633], [-23.495742001282, -46.6860376286923], [-23.491480807127, -46.5925087484943], [-23.4729008367438, -46.7011060864803], [-23.4558038653792, -46.6927152587692], [-23.4565406949082, -46.6709575950186], [-23.4556455264113, -46.5830111585066], [-23.4556455264113, -46.5830111585066], [-23.4556455264113, -46.5830111585066], [-23.4556455264113, -46.5830111585066], [-23.4556455264113, -46.5830111585066], [-23.4556455264113, -46.5830111585066], [-23.4556455264113, -46.5830111585066], [-23.4554942346904, -46.594116238177], [-23.4594576847887, -46.7005235128439], [-23.507967219, -46.570114076], [-23.4876554860294, -46.5673288728777], [-23.4876554860294, -46.5673288728777], [-23.4876554860294, -46.5673288728777], [-23.5055925195888, -46.5327566962029], [-23.5499183642631, -46.5478444595789], [-23.8226992026406, -46.7600385126827], [-23.6473584416026, -46.7903700621332], [-23.6759223651804, -46.7953345941203], [-23.7169851143009, -46.6959647443731], [-23.7443883779425, -46.7069993831965], [-23.6586803543078, -46.7406263472921], [-23.704650925, -46.773254274], [-23.4943977667646, -46.4961537582641], [-23.5098535655624, -46.4469950032504], [-23.541952, -46.471261], [-23.5383490677101, -46.4865121661683], [-23.524526921, -46.3992462369999], [-23.550835044625, -46.4272809808749], [-23.59541897, -46.5091450338571], [-23.5694316804999, -46.4094211285], [-23.6120202929999, -46.45248143], [-23.6032416279215, -46.4769457172156], [-23.5946597975963, -46.4464046387061], [-23.6233469389999, -46.4719147769999], [-23.6138213285077, -46.51356769804], [-23.547376377, -46.631962186], [-23.5423358806819, -46.6377461549782], [-23.5453550170405, -46.6391772541872], [-23.6148654564736, -46.5893673989999], [-23.6481441524935, -46.748421389627], [-23.6154878936906, -46.7283809518537], [-23.546944631, -46.735644618], [-23.5685210908706, -46.7308464862593], [-23.5130920729492, -46.6757243519302], [-23.4954523878225, -46.6734807240014], [-23.4750551750652, -46.6799378415651], [-23.4723303700562, -46.5729808698549], [-23.5179747325208, -46.5575027850926], [-23.8500870089999, -46.707049066], [-23.8976864390447, -46.7292934119225], [-23.687138744, -46.662816262], [-23.7620791082499, -46.71278178425], [-23.6678211417335, -46.7478024392767], [-23.6858792004404, -46.6366438699526], [-23.704455101, -46.62725848], [-23.6772072731913, -46.7600881003124], [-23.7519423656471, -46.6664081876639], [-23.5326497317017, -46.4480707469824], [-23.5083725709999, -46.4579345779999], [-23.6093198631785, -46.4542802967499], [-23.5876172818635, -46.4462886124697], [-23.613933717, -46.415607843], [-23.613933717, -46.415607843], [-23.5920550055721, -46.4165503076223], [-23.5695738189701, -46.586468316985], [-23.5396546968333, -46.6318907994999], [-23.5623711440693, -46.6316008877121], [-23.5339784228723, -46.6216558709574], [-23.652967067, -46.6354036069999], [-23.5364568033214, -46.6833113151071], [-23.6318112685917, -46.7627972630819], [-23.6415012129417, -46.7559596899117], [-23.4415371701313, -46.788802762369], [-23.4787732562129, -46.7088820173378], [-23.4731695370232, -46.6843625420232], [-23.4710098969999, -46.57239415], [-23.4539538768683, -46.5725486501967], [-23.4539538768683, -46.5725486501967], [-23.4410479095917, -46.7168792117226], [-23.541680776, -46.532214403], [-23.537010026, -46.59501550225], [-23.632267170913, -46.7022426694565], [-23.6835993281101, -46.7894597602659], [-23.7209083870238, -46.6759146668499], [-23.7020590123841, -46.6467013198702], [-23.7000417493548, -46.7672755312903], [-23.7424010660433, -46.6551763070775], [-23.7424010660433, -46.6551763070775], [-23.4939012433801, -46.4076585105173], [-23.5130095023544, -46.4695164933038], [-23.5216990999263, -46.4634381096284], [-23.5932110547004, -46.5155628693401], [-23.593609565, -46.4843804645], [-23.5842002333548, -46.3971731007204], [-23.5551354323428, -46.4921902749714], [-23.5608197299999, -46.483136315], [-23.6163701233968, -46.5078769170572], [-23.6022827423994, -46.6005557671217], [-23.5991614820905, -46.6859177835208], [-23.6041399272766, -46.6911784412722], [-23.532096540749, -46.6588948934602], [-23.5907925409999, -46.749468189], [-23.590130474, -46.744104868], [-23.6310792147406, -46.7439265446773], [-23.6340128804953, -46.7632761627453], [-23.6340128804953, -46.7632761627453], [-23.6340128804953, -46.7632761627453], [-23.6340128804953, -46.7632761627453], [-23.5100411204545, -46.6239283143636], [-23.4833017214999, -46.673665404], [-23.4654140584744, -46.6951442954047], [-23.4374626649999, -46.578911841], [-23.4593501431895, -46.7134564353953], [-23.4554287625908, -46.6991596598833], [-23.5503690539999, -46.5252977559999], [-23.5749846759999, -46.541497566], [-23.819235391, -46.7054203719999], [-23.7255496575924, -46.7886915471424], [-23.5366832109687, -46.4677247400937], [-23.5589303733364, -46.4322849306075], [-23.5639134259999, -46.416474588], [-23.6148788359999, -46.5016871999999], [-23.6148788359999, -46.5016871999999], [-23.5294328805997, -46.6359311270269], [-23.5447290254706, -46.612699872647], [-23.6210721358151, -46.6472655193478], [-23.6600455577234, -46.636816471383], [-23.6535008056294, -46.6449106544191], [-23.6030380992717, -46.7834490151592], [-23.6032157509999, -46.780215937], [-23.6032157509999, -46.780215937], [-23.6376154409653, -46.7380374949833], [-23.5218543510203, -46.788075014594], [-23.5634085533639, -46.7546858336601], [-23.464671843, -46.696760592], [-23.4705278233624, -46.6808769190736], [-23.4705278233624, -46.6808769190736], [-23.4807938797499, -46.571719642], [-23.4857554256028, -46.562299759892], [-23.4857554256028, -46.562299759892], [-23.4822097404545, -46.724336042303], [-23.5413156974285, -46.5432754016142], [-23.793140907, -46.688791463], [-23.7050070556486, -46.7006803745468], [-23.6784687338396, -46.743794030952], [-23.7003761621025, -46.6391207706487], [-23.6871922858818, -46.7593763474281], [-23.5108568721041, -46.3874092584121], [-23.5140203474227, -46.4768239117522], [-23.4972247748113, -46.4939543209021], [-23.4980082734628, -46.4628659526438], [-23.526576677, -46.423484978], [-23.5868547978065, -46.5260752996031], [-23.599581006228, -46.4363840831754], [-23.6143601864646, -46.4913948223915], [-23.550556162, -46.634342547], [-23.5666466333617, -46.6390401663649], [-23.540874177537, -46.6404395425185], [-23.5622630383217, -46.6457762306016], [-23.5897627387421, -46.6436579046947], [-23.6361454141381, -46.7779676084251], [-23.4064885041176, -46.7549374928823], [-23.4767382035631, -46.7595436926598], [-23.4801186038194, -46.7005266961485], [-23.4579701449999, -46.660939163], [-23.4909503894634, -46.5969827637073], [-23.4871551665882, -46.6660149127647], [-23.4664935533137, -46.6945560385699], [-23.4700308559999, -46.672424341], [-23.4561897586027, -46.5897223367397], [-23.4861312697049, -46.563043814459], [-23.445256824232, -46.7093456675404], [-23.5861512668509, -46.5893124479131], [-23.6772563422715, -46.7761499215936], [-23.6847022225, -46.6529683754999], [-23.7220984859999, -46.7851635649999], [-23.7036545437722, -46.6299890279284], [-23.7057407864094, -46.7757370902891], [-23.6840331188888, -46.7697813607777], [-23.7490201584051, -46.6853000662817], [-23.4844655753695, -46.4250827205869], [-23.4924207590251, -46.388249638914], [-23.5522826749679, -46.483699017361], [-23.5084882119748, -46.4259225807566], [-23.53517256216, -46.42410311684], [-23.6011795840827, -46.4385684125997], [-23.6203133480753, -46.4956286020847], [-23.6136138537183, -46.5228744793094], [-23.547952387, -46.630855101], [-23.5218229229999, -46.6416114909999], [-23.6458371281466, -46.6080579024875], [-23.5120332660177, -46.6927222479886], [-23.4787650336, -46.7476669399999], [-23.4787650336, -46.7476669399999], [-23.4787650336, -46.7476669399999], [-23.4368917699999, -46.773525395], [-23.5817557480287, -46.7431829810548], [-23.5690205920642, -46.7649092399006], [-23.4752128033766, -46.7091030813253], [-23.4708945316565, -46.7043206655976], [-23.4569773338182, -46.6734614471818], [-23.453357716, -46.6733114369999], [-23.4605615961522, -46.5822267844174], [-23.4471824813251, -46.6986206757899], [-23.5262909498687, -46.5999113738461], [-23.8648877438771, -46.7524423564745], [-23.8648877438771, -46.7524423564745], [-23.671242654, -46.6635299019999], [-23.6803179779999, -46.76894864], [-23.6850317625714, -46.6474767815714], [-23.7089082216489, -46.6274712779053], [-23.7039662978333, -46.6285475196666], [-23.6672319147704, -46.6898266214754], [-23.6672319147704, -46.6898266214754], [-23.6678807331272, -46.7042902104111], [-23.6842738600967, -46.7587217197096], [-23.6842738600967, -46.7587217197096], [-23.4903072728441, -46.503936543], [-23.513176133962, -46.4184530921115], [-23.5339988610538, -46.4085913328412], [-23.5629163769783, -46.4004930558526], [-23.5393373987948, -46.6427551123076], [-23.5401959079999, -46.6269199509999], [-23.5328343499554, -46.6304715695049], [-23.5413776892373, -46.6499903471371], [-23.58546529464, -46.6140872531599], [-23.5995326154999, -46.59375701375], [-23.5913081002878, -46.6422177752002], [-23.6353868059316, -46.7714810133498], [-23.4821088489473, -46.7102231084717], [-23.6007962689999, -46.735108953], [-23.5457244873858, -46.7580967216569], [-23.453310907233, -46.6067032463504], [-23.453310907233, -46.6067032463504], [-23.453310907233, -46.6067032463504], [-23.462285784, -46.685387491], [-23.4791043275424, -46.7003473037142], [-23.4791043275424, -46.7003473037142], [-23.4351600257509, -46.714550031071], [-23.4569674184167, -46.6927103014572], [-23.6627125699999, -46.77926530725], [-23.7220860092727, -46.6836588104091], [-23.7133198669141, -46.7070023923393], [-23.7061947179999, -46.68696484], [-23.681539669, -46.677507345], [-23.680202138, -46.6780243169999], [-23.7642258195187, -46.7027273963888], [-23.762974363, -46.669935543], [-23.6596016999346, -46.7408652062063], [-23.6532129497931, -46.7375387145862], [-23.6752207333762, -46.7456722413522], [-23.67380544558, -46.7497874744963], [-23.6987635110415, -46.6299281829976], [-23.6863016203295, -46.7416673150264], [-23.7444376394283, -46.6715577146544], [-23.4857957707143, -46.4234488124285], [-23.5003548349999, -46.4717771369999], [-23.5169372445833, -46.4582859134333], [-23.5614021253955, -46.4094361519702], [-23.5457071966976, -46.4351807484571], [-23.5457071966976, -46.4351807484571], [-23.5671083149999, -46.400689569], [-23.6000995266833, -46.4803392097984], [-23.5885425879999, -46.50061256], [-23.6009370308202, -46.5057357034831], [-23.590255021, -46.531947918], [-23.5547268843319, -46.6378692543651], [-23.5453326302237, -46.6128081525602], [-23.5438519155961, -46.6463757889615], [-23.6369113738026, -46.6739203813157], [-23.5234321315564, -46.6864717117956], [-23.5376397218333, -46.6704337805], [-23.658749798, -46.7748676969999], [-23.650658391, -46.760312832], [-23.618644092, -46.7607376089999], [-23.567897945, -46.757406088], [-23.5946536386102, -46.7860561268386], [-23.5208726, -46.6072036899999], [-23.5117610260913, -46.6261189539635], [-23.514437196795, -46.6571413398193], [-23.4780923954638, -46.6250019996925], [-23.4780923954638, -46.6250019996925], [-23.4644601819921, -46.6538659216629], [-23.4926123380833, -46.5960104543749], [-23.4926123380833, -46.5960104543749], [-23.4833017214999, -46.673665404], [-23.4618756161888, -46.6848851712268], [-23.8876884622165, -46.7312951408056], [-23.7740521100909, -46.7061066096363], [-23.8673357268123, -46.661378359111], [-23.8280677069478, -46.7358093078313], [-23.6835942559932, -46.7796254933485], [-23.6708880166921, -46.7604258795248], [-23.7629024629411, -46.6767038610012], [-23.7575722659397, -46.7162894693174], [-23.7317629574074, -46.7854433440555], [-23.7317629574074, -46.7854433440555], [-23.7279885519999, -46.786252963], [-23.7424193749187, -46.6551787515962], [-23.7539977049908, -46.6693752113252], [-23.4951460347007, -46.4347232279492], [-23.5092925387111, -46.4376742241333], [-23.5187941232195, -46.5056223340487], [-23.5190045723339, -46.4963483776758], [-23.4927119312467, -46.3885616279996], [-23.485872054, -46.3951824009999], [-23.5134002039999, -46.4437782439999], [-23.5234563264545, -46.4910831924772], [-23.5268038959999, -46.46465284], [-23.535420546, -46.437252486], [-23.615111107582, -46.4546890622731], [-23.5992330912435, -46.4803631684558], [-23.6091190651607, -46.4131741778249], [-23.626592995, -46.4695019769999], [-23.6168954911028, -46.4771531295122], [-23.6005367698764, -46.5043590982696], [-23.6024188038429, -46.4838103316693], [-23.599806463705, -46.5154744725641], [-23.612884992, -46.510357697], [-23.5538998601755, -46.617413203967], [-23.5731067351493, -46.6022925378033], [-23.5467660771538, -46.6902619640769], [-23.5296768795571, -46.6777504092425], [-23.6481441524935, -46.748421389627], [-23.6491418450677, -46.7738898615549], [-23.6491418450677, -46.7738898615549], [-23.6258773669999, -46.75772911], [-23.5757305512108, -46.7782077882201], [-23.4807942748556, -46.7115112120011], [-23.4807942748556, -46.7115112120011], [-23.4807942748556, -46.7115112120011], [-23.4807942748556, -46.7115112120011], [-23.5098818063699, -46.6507399482576], [-23.4546351060865, -46.5909035361132], [-23.4529425685511, -46.7119018838179], [-23.6496019994769, -46.702430498323], [-23.6478431403731, -46.7083372216119], [-23.829175361, -46.7154952999999], [-23.6451246552608, -46.7825780775652], [-23.6652337764632, -46.7912014229843], [-23.7608127739699, -46.715481646246], [-23.7624972793808, -46.7013150455432], [-23.6527265085813, -46.7441589069536], [-23.675468759093, -46.756202815043], [-23.7016069013111, -46.6305168778666], [-23.6860088942203, -46.6476352745762], [-23.7301194049093, -46.7214901021155], [-23.742260695, -46.657625885], [-23.4951063993864, -46.4050465599712], [-23.4950894389043, -46.4961946675443], [-23.4850492335228, -46.4663201419769], [-23.5234288095087, -46.4193673712735], [-23.5439800525502, -46.4105774521152], [-23.6200481954646, -46.4675794694687], [-23.5596590439999, -46.623199196], [-23.5437026225, -46.6489363894166], [-23.581809232, -46.5936585549999], [-23.5648205745005, -46.6790673944598], [-23.5648205745005, -46.6790673944598], [-23.6232295638091, -46.7645424398495], [-23.6401461460448, -46.7373650921102], [-23.592296361, -46.754240476], [-23.4908248507799, -46.7122040625599], [-23.471812782802, -46.716842485847], [-23.609626184, -46.726728818], [-23.4719980720508, -46.6300087372976], [-23.4758067626539, -46.6821695164847], [-23.4758067626539, -46.6821695164847], [-23.4758067626539, -46.6821695164847], [-23.4564145800048, -46.5874042042829], [-23.4545703059999, -46.732012792], [-23.4560152714522, -46.7361853750818], [-23.4608493516741, -46.6874269194236], [-23.5592951914805, -46.5576642198955], [-23.552879694743, -46.5672319100267], [-23.8976864390447, -46.7292934119225], [-23.6545437699729, -46.7923324764053], [-23.6559746673, -46.6798035441], [-23.681952424, -46.6572046279999], [-23.76750598, -46.71119535], [-23.7602488045294, -46.6706696946078], [-23.7672374387931, -46.706115809], [-23.6800289407244, -46.7527906560268], [-23.719024765, -46.752008777], [-23.5130842244193, -46.4928210584838], [-23.5210581554723, -46.3916568488813], [-23.4927119312467, -46.3885616279996], [-23.5134194729324, -46.4842378832837], [-23.4784688922772, -46.4965135132318], [-23.5107228760975, -46.4493802653414], [-23.515149989535, -46.4079821322842], [-23.5301542216249, -46.4039042194583], [-23.5481302131964, -46.3988199074009], [-23.6218615588081, -46.4958316850821], [-23.6148129081471, -46.5177687075904], [-23.5404170469445, -46.6344694425228], [-23.5556732422171, -46.6483539355851], [-23.541743555, -46.648889126], [-23.6053190575656, -46.6382078147417], [-23.5991764161666, -46.6019710788333], [-23.5991764161666, -46.6019710788333], [-23.5991764161666, -46.6019710788333], [-23.5092771964764, -46.7469257185573], [-23.635110797, -46.775826583], [-23.4055224699999, -46.7351642039999], [-23.4425507584608, -46.7963295298817], [-23.5437609733954, -46.7474258873601], [-23.563811378111, -46.7444730256687], [-23.4973944984016, -46.6889179261968], [-23.4824978186111, -46.6806899602212], [-23.4827203545052, -46.7081596851233], [-23.4640592341044, -46.6978659930343], [-23.459699472436, -46.6890800070565], [-23.4611515712564, -46.6740866627179], [-23.4279315883135, -46.7270528387465], [-23.5966694246999, -46.5482920686999], [-23.5966694246999, -46.5482920686999], [-23.6750388750727, -46.6508190765818], [-23.6878039358383, -46.7827597303187], [-23.6878039358383, -46.7827597303187], [-23.6803664826592, -46.6639741416708], [-23.7659022218107, -46.7171134648952], [-23.6724002029999, -46.753512928], [-23.669533986, -46.764123925], [-23.6507, -46.7341], [-23.684393996, -46.7568722739999], [-23.690829523687, -46.7746760962742], [-23.7370720103175, -46.7102154582736], [-23.5551675596603, -46.4466537965364], [-23.511212567, -46.393649937], [-23.5196553329999, -46.38811406], [-23.5206, -46.4881], [-23.5131946239493, -46.4184520321488], [-23.5382469804194, -46.6271238643008], [-23.5535578763837, -46.6258199158211], [-23.5444371556829, -46.6394041957804], [-23.5536730647368, -46.6170311916315], [-23.5929371934482, -46.6023710878965], [-23.6524427185382, -46.6091833983807], [-23.6524427185382, -46.6091833983807], [-23.6103528473363, -46.5864863007611], [-23.4049165349157, -46.7468201871636], [-23.569935322165, -46.7537009656116], [-23.5858006187618, -46.8004977947139], [-23.4999996820769, -46.641321118], [-23.5023918475786, -46.671151474391], [-23.4886992099367, -46.5686269008751], [-23.4880769017512, -46.5627982412136], [-23.8487101732656, -46.7012626072676], [-23.6645215362111, -46.7922676125615], [-23.6662240784417, -46.7832038313793], [-23.7519087428369, -46.6911982849159], [-23.7588997413408, -46.6660270400536], [-23.6857540030739, -46.6460793080324], [-23.6944304122948, -46.6659650808204], [-23.7049708559999, -46.631517268], [-23.7372735852827, -46.7000483238758], [-23.5522524330356, -46.4578763569642], [-23.4837223480183, -46.408332854589], [-23.4973, -46.4401], [-23.5601478327017, -46.4017870510558], [-23.613247894, -46.452893053], [-23.6334019856363, -46.4618862744545], [-23.6051404942693, -46.5015933088938], [-23.5471594967707, -46.6330823157239], [-23.544409173, -46.634183578], [-23.5406698699999, -46.618275287], [-23.6201296246666, -46.6810841586666], [-23.651768137, -46.640760351], [-23.669164203, -46.635261651], [-23.669164203, -46.635261651], [-23.4700061668381, -46.7461599162775], [-23.5931656211718, -46.7507558705003], [-23.6417294257573, -46.7471739298022], [-23.5779996036169, -46.7488919516759], [-23.4815066334255, -46.6347828334429], [-23.4763289145765, -46.6724475995777], [-23.480721237, -46.702295593], [-23.4745397777856, -46.6998373370769], [-23.4698072926962, -46.6954723212853], [-23.4822811879942, -46.5616587523544], [-23.8502482280769, -46.7081991211538], [-23.655310872, -46.666722291], [-23.6566185223548, -46.6676124502903], [-23.76148581, -46.704869345], [-23.7638561658954, -46.7163885957063], [-23.7715433522009, -46.6795941602188], [-23.7713137446902, -46.6802281532619], [-23.6589209104166, -46.74414180875], [-23.6507249281538, -46.7333754094202], [-23.6986183527112, -46.6469677737613], [-23.4851362919348, -46.4353044224373], [-23.5532544867287, -46.4428233336045], [-23.5966285599999, -46.4355767719999], [-23.6104715079999, -46.4404207009999], [-23.6161258527547, -46.4175782066579], [-23.58060632328, -46.39416907492], [-23.6129650899025, -46.5231556846257], [-23.5371602699687, -46.6284671199844], [-23.5340355854999, -46.6231655527727], [-23.5250804347991, -46.6253251329873], [-23.6075347234928, -46.595687674394], [-23.5153697, -46.757111341], [-23.56534249, -46.6426482059999], [-23.4788450487045, -46.7265171474772], [-23.508839284, -46.615955458], [-23.5030264000882, -46.6257066066203], [-23.5078425021386, -46.6614119864924], [-23.5064084287384, -46.5732207283751], [-23.374154661, -46.5756386749999], [-23.4763, -46.6741], [-23.4814996968857, -46.6508180210285], [-23.4814996968857, -46.6508180210285], [-23.4679151044876, -46.676315076384], [-23.426574409, -46.587290824], [-23.4636189779999, -46.7021610369999], [-23.6465560252894, -46.7123134825179], [-23.6465560252894, -46.7123134825179], [-23.8812870044074, -46.7414281676784], [-23.8404131098959, -46.7331883585997], [-23.6797405305031, -46.770673453471], [-23.6574026936933, -46.7902628089472], [-23.690714369, -46.6573691409999], [-23.7027, -46.7914], [-23.4882586931087, -46.4759199475029], [-23.5107904472646, -46.458148284889], [-23.5134, -46.4438], [-23.5473483974026, -46.501588624236], [-23.5839922849062, -46.3798680035], [-23.564382512706, -46.402804188317], [-23.5423986416149, -46.417233401159], [-23.640776181, -46.4575488519999], [-23.6334587638181, -46.4614891017272], [-23.6032266937573, -46.4913903730232], [-23.5330001295147, -46.6326132854343], [-23.549917885613, -46.6452138116401], [-23.5577638754717, -46.6456933958113], [-23.5229826220391, -46.6265337439437], [-23.603725894, -46.6830804219999], [-23.6770315979999, -46.627841287], [-23.5121839626574, -46.7052069628073], [-23.511382694, -46.7475084599999], [-23.6199902309772, -46.7578604182984], [-23.4383667485915, -46.7929431407601], [-23.5811484260774, -46.7764209362914], [-23.59753602212, -46.73786119928], [-23.6139924779689, -46.7197469538565], [-23.4566296701295, -46.6158031638283], [-23.4804924859999, -46.669954103], [-23.4804924859999, -46.669954103], [-23.4766241697274, -46.6960301988143], [-23.4766241697274, -46.6960301988143], [-23.46582978, -46.694879608], [-23.46582978, -46.694879608], [-23.455539974, -46.5855761729999], [-23.455539974, -46.5855761729999], [-23.455539974, -46.5855761729999], [-23.549089, -46.5719], [-23.5661206870018, -46.5328233944609], [-23.6364389863084, -46.7189602756124], [-23.8259027778919, -46.7228042835], [-23.824218515635, -46.70630361014], [-23.7735609395333, -46.6885303298], [-23.6597041385786, -46.7398178173632], [-23.6686187085148, -46.7266499716282], [-23.657139682, -46.755608394], [-23.7312922718463, -46.7858150321522], [-23.7368325436234, -46.7766198590595], [-23.517792312, -46.429522236], [-23.502233753355, -46.3740575989451], [-23.502233753355, -46.3740575989451], [-23.4842419914069, -46.4568673086978], [-23.5940641323333, -46.5264233573333], [-23.6111656779749, -46.4591656577254], [-23.594337219147, -46.4955885221764], [-23.5568126329633, -46.6465939922017], [-23.6410396967857, -46.7454801897143], [-23.6481441524935, -46.748421389627], [-23.640827872916, -46.7582829240645], [-23.592296361, -46.754240476], [-23.6655961971904, -46.7062790716495], [-23.4535236789999, -46.705585104], [-23.8259945689999, -46.728469676], [-23.8519353303095, -46.7136337839285], [-23.6637331165941, -46.7829870995484], [-23.6615227992473, -46.7601892200496], [-23.7389909571049, -46.7816220848506], [-23.7552313899999, -46.660413262], [-23.5152596615704, -46.4428859622491], [-23.482993837, -46.470050773], [-23.5966285599999, -46.4355767719999], [-23.5966285599999, -46.4355767719999], [-23.5695659469076, -46.4687672899244], [-23.5578597776229, -46.475744044308], [-23.6014668407472, -46.4980993100811], [-23.6100164574602, -46.5084494525581], [-23.6176416806299, -46.5120543907429], [-23.5435770155012, -46.6297187983053], [-23.5494928919999, -46.637221429], [-23.5418090583157, -46.6120102847894], [-23.5301093025975, -46.6148876954551], [-23.6294268063239, -46.7555930766078], [-23.4772427375103, -46.7554089580625], [-23.6040686272857, -46.737388985], [-23.485627854, -46.6647350229999], [-23.374154661, -46.5756386749999], [-23.4566846115819, -46.5874639838966], [-23.4706109047997, -46.5715189737699], [-23.4438033788003, -46.5812918291889], [-23.45449921396, -46.57331878756], [-23.45449921396, -46.57331878756], [-23.45449921396, -46.57331878756], [-23.482128535794, -46.5649639552058], [-23.5190608580921, -46.5768209948925], [-23.5131446713878, -46.5303921143247], [-23.5414472661304, -46.5868721725652], [-23.901885083, -46.755243755], [-23.6825002261428, -46.6492830026904], [-23.6903123322399, -46.7806393884226], [-23.6604308123822, -46.7573696883313], [-23.6795810132273, -46.7570530800254], [-23.5142983205454, -46.3905814629091], [-23.4906191079922, -46.4484717489457], [-23.437383687167, -46.8031465986253], [-23.5627299995826, -46.4004039597991], [-23.5811502319365, -46.4422422948599], [-23.5666118075, -46.493559279], [-23.6169755644068, -46.512442157475], [-23.5511670776036, -46.6249951780715], [-23.6023012436447, -46.5961504159585], [-23.6272839418493, -46.5873012224467], [-23.6481441524935, -46.748421389627], [-23.4213023984173, -46.7853058926579], [-23.448248585443, -46.7556069570183], [-23.5914838017647, -46.7545001862615], [-23.4742548096665, -46.6232815935434], [-23.4742548096665, -46.6232815935434], [-23.4902886862014, -46.6875523854614], [-23.4916170070416, -46.5913112137916], [-23.4743820179916, -46.6901307174683], [-23.4579485423252, -46.5916215661843], [-23.4605615961522, -46.5822267844174], [-23.488551737516, -46.5753138448772], [-23.8587011765714, -46.7043523548928], [-23.8211299702572, -46.7625809843462], [-23.6481441524935, -46.748421389627], [-23.7259970700336, -46.6828446778548], [-23.7680189853725, -46.6906108463542], [-23.7438708629445, -46.6930738853514], [-23.760598514, -46.6686336029999], [-23.6886434628294, -46.6424244832864], [-23.6926207127458, -46.7424669653191], [-23.6709169995, -46.7206836973846], [-23.4905470647333, -46.4617035123248], [-23.5018244423986, -46.471065583292], [-23.5798133349828, -46.3895996544725], [-23.6034175956106, -46.4100802086161], [-23.6335271193636, -46.4610109169999], [-23.616361534, -46.507596405], [-23.6102656245588, -46.4929577381955], [-23.5508110788761, -46.6487165423369], [-23.6396051191904, -46.6514887165628], [-23.6537487593439, -46.6118404500751], [-23.6075347234928, -46.595687674394], [-23.6498127991705, -46.6429691256928], [-23.4358270187899, -46.7335318335104], [-23.6031435386554, -46.7927293481748], [-23.4430687351478, -46.6143037696189], [-23.374154661, -46.5756386749999], [-23.4753669710416, -46.6740145960416], [-23.4768226488188, -46.6909671909786], [-23.4619619416666, -46.578208993954], [-23.6725651006603, -46.6447155389946], [-23.639167385, -46.785025209], [-23.6502747504881, -46.7908418164511], [-23.6728105297414, -46.7447481420096], [-23.6816886144285, -46.6374390962857], [-23.6899764299999, -46.740125142], [-23.6867551505189, -46.7554583151342], [-23.5070901545979, -46.3802399001103], [-23.5070901545979, -46.3802399001103], [-23.5070506556653, -46.3845832114959], [-23.4954815328732, -46.3735164885305], [-23.4908944064436, -46.4964781311575], [-23.5003548349999, -46.4717771369999], [-23.5637800563855, -46.5230445811067], [-23.5710331172638, -46.4699588726573], [-23.5710331172638, -46.4699588726573], [-23.60159755434, -46.5231731075], [-23.53045548024, -46.63438155916], [-23.5448915807253, -46.6213059241493], [-23.568100086, -46.6484426953333], [-23.5212516333366, -46.6991171169189], [-23.585894309, -46.68926228], [-23.6416833289999, -46.7545088209999], [-23.6362846610067, -46.7390174882022], [-23.4502615108504, -46.7966399565395], [-23.473131688, -46.713495759], [-23.5111003560548, -46.6251256892945], [-23.4202970040386, -46.5886366807357], [-23.4757791694212, -46.6122742902022], [-23.4678627788129, -46.703108318664], [-23.4678627788129, -46.703108318664], [-23.4465899157252, -46.5871607630737], [-23.4756531247142, -46.5698035685], [-23.4605615961522, -46.5822267844174], [-23.4552172590906, -46.7011282426598], [-23.4410479095917, -46.7168792117226], [-23.554518564077, -46.5840298145609], [-23.5398498518421, -46.5834435763157], [-23.7993117158723, -46.6466106363926], [-23.6459873355, -46.7806381235], [-23.6696022852, -46.7617914867999], [-23.6696022852, -46.7617914867999], [-23.6557873894225, -46.7610306777854], [-23.7213267284276, -46.7062969861068], [-23.729637209, -46.6908146545999], [-23.7358738536249, -46.7025127233437], [-23.507156386, -46.547590253], [-23.4949346174038, -46.3968779679226], [-23.507171955061, -46.4929467326967], [-23.5453701229999, -46.436110028], [-23.5426588680126, -46.428550935924], [-23.5633004278701, -46.4718773157143], [-23.5587031549254, -46.4668743728325], [-23.5549901806777, -46.4624984263513], [-23.6159660984117, -46.4179119528697], [-23.5882761456389, -46.4089397201608], [-23.590881246, -46.416565826], [-23.6124147982758, -46.534387365362], [-23.5462154481364, -46.631733309032], [-23.5546896292896, -46.6296510483604], [-23.560415289045, -46.6337071030673], [-23.5629637062019, -46.6455014429631], [-23.6075347234928, -46.595687674394], [-23.5214223367374, -46.6986296749332], [-23.6007989559488, -46.7511217197557], [-23.631886677, -46.7466176259999], [-23.445753057479, -46.7435324944982], [-23.5169631525789, -46.6071667853443], [-23.485497032378, -46.6288322552766], [-23.4466623655967, -46.5826096371584], [-23.4605615961522, -46.5822267844174], [-23.4605615961522, -46.5822267844174], [-23.4469368147143, -46.722113058619], [-23.456455056, -46.691760185], [-23.4912266948927, -46.5701182938209], [-23.5168393776055, -46.5784067616972], [-23.5427279940487, -46.6039453425121], [-23.9084206008527, -46.7602932747895], [-23.8098749427649, -46.7387786881804], [-23.6488625929999, -46.7797918289677], [-23.6781361623091, -46.7684190645035], [-23.6575280911209, -46.7806142147482], [-23.7638892859999, -46.668933179], [-23.6784466515487, -46.7358858906976], [-23.690829523687, -46.7746760962742], [-23.6860829089999, -46.746832292], [-23.4993655643718, -46.5221587373553], [-23.5053154960405, -46.4001591824927], [-23.4872047044615, -46.3922058157692], [-23.5158708260357, -46.4750000938571], [-23.523169401, -46.457910319], [-23.5835911517671, -46.4494409964383], [-23.611945595, -46.5094514269999], [-23.5519469904511, -46.6264833031811], [-23.5286481790712, -46.6314475945738], [-23.6205779366631, -46.5930088442461], [-23.5868918482025, -46.7502650814936], [-23.6481441524935, -46.748421389627], [-23.62011715, -46.73054076], [-23.4821856649754, -46.5995030807058], [-23.4713461692756, -46.6971282924969], [-23.4704440133328, -46.5711599362832], [-23.448889509, -46.5901088228434], [-23.477144524923, -46.5774409169231], [-23.5183337669999, -46.575973651], [-23.5817186621942, -46.5962273232855], [-23.5450231261519, -46.6032160489873], [-23.7721116351576, -46.7158487646818], [-23.7037390249999, -46.6413884479999], [-23.5494126712307, -46.448691895], [-23.4906431186721, -46.4017319666507], [-23.5022409871428, -46.4729166046428], [-23.5207328052985, -46.4541478274423], [-23.5268038959999, -46.46465284], [-23.5408374975781, -46.3952484247656], [-23.5414009789999, -46.435526017], [-23.5968008974287, -46.512900899455], [-23.5770590292253, -46.4116455359732], [-23.5736772228478, -46.3987342223579], [-23.5710354982521, -46.4937784924222], [-23.615990401, -46.5151043069999], [-23.5409769672235, -46.6297424063058], [-23.5967442144054, -46.6884649098513], [-23.6573700213333, -46.6402994140444], [-23.6721151405874, -46.6331202267635], [-23.5167269729999, -46.7037879553333], [-23.5662423966842, -46.6896664890701], [-23.5285209370588, -46.6810024071176], [-23.5907925409999, -46.749468189], [-23.6171628010141, -46.75762017906], [-23.6359720825366, -46.7384594326568], [-23.6098465934053, -46.7199930764725], [-23.5020414259999, -46.623574063], [-23.5020414259999, -46.623574063], [-23.4995784311395, -46.5867930018694], [-23.504921712582, -46.7024915195882], [-23.497732968125, -46.5945437564999], [-23.455377524, -46.6939658539999], [-23.455377524, -46.6939658539999], [-23.4816580710513, -46.5723990717435], [-23.5818395809956, -46.5953125247886], [-23.6339546035454, -46.6913337675454], [-23.6542990459999, -46.779966585], [-23.6890064788906, -46.6629326623058], [-23.7661871660927, -46.6882528524771], [-23.6541911258999, -46.7396590124749], [-23.6541911258999, -46.7396590124749], [-23.6791745545265, -46.7472204015097], [-23.6642642451349, -46.7334947363443], [-23.6518221389999, -46.74830345], [-23.7037390249999, -46.6413884479999], [-23.6818634187349, -46.7504483756389], [-23.743952984, -46.7808142439999], [-23.7382097230057, -46.660000670736], [-23.4935176043333, -46.4002988575097], [-23.502397139, -46.45746578], [-23.5469716114909, -46.3900861910363], [-23.539619022, -46.4216658089999], [-23.5359248932121, -46.4193515142337], [-23.545585750501, -46.4045847508142], [-23.5958131258038, -46.4520095388692], [-23.614857044, -46.428916638], [-23.6053078925173, -46.4712369696338], [-23.5698240129439, -46.481929269011], [-23.5747833033734, -46.5035612326628], [-23.6202405305376, -46.4956096190423], [-23.6161928091531, -46.5078402997239], [-23.613649035, -46.5153545539999], [-23.54345177, -46.62959926], [-23.55762482175, -46.644223626975], [-23.5439450209759, -46.6455525083502], [-23.6394064677414, -46.641355642188], [-23.6535033235024, -46.6081562066342], [-23.5271209949152, -46.6962831490678], [-23.522799179, -46.6935003673448], [-23.4995081389999, -46.737833248], [-23.6305182348661, -46.7596164214851], [-23.6481441524935, -46.748421389627], [-23.4465180383576, -46.7479699708407], [-23.3976208937514, -46.7554286191699], [-23.51147373, -46.62806834], [-23.5057870992276, -46.5910849302255], [-23.4257937249266, -46.7254997917732], [-23.5562730230224, -46.5545793600409], [-23.8484428618662, -46.7490794877596], [-23.6731698170191, -46.787781875459], [-23.765748817, -46.67224427], [-23.7642422728211, -46.7089441590444], [-23.7413696375926, -46.7040396558695], [-23.6739545933478, -46.7504765240869], [-23.7070721166084, -46.6232993805119], [-23.739505004, -46.6578751059999], [-23.5272735688908, -46.4671890880703], [-23.5930289196254, -46.4155227953375], [-23.5881894613218, -46.4089728048112], [-23.5511670776036, -46.6249951780715], [-23.5528984328571, -46.6042534248571], [-23.5306007011064, -46.6139846831914], [-23.6216367952838, -46.6474646644162], [-23.6075794841052, -46.6634407670526], [-23.633567841439, -46.6193812054146], [-23.559914895557, -46.6954499476019], [-23.5886077736315, -46.7338729247894], [-23.6253819528021, -46.7641360549448], [-23.4975020623373, -46.709843971012], [-23.477334695, -46.714550532], [-23.4688241102353, -46.6108691040294], [-23.5008211505718, -46.6871298154054], [-23.4787277657174, -46.6855104070628], [-23.4532607950274, -46.6720506355341], [-23.4532607950274, -46.6720506355341], [-23.4532607950274, -46.6720506355341], [-23.4532607950274, -46.6720506355341], [-23.4900708727485, -46.565647956644], [-23.4927020886774, -46.5685228417419], [-23.5506540785413, -46.578190474722], [-23.5417733944285, -46.5739682884285], [-23.8124136698028, -46.7358361816553], [-23.6863965861552, -46.7745430319229], [-23.7031688985517, -46.6912679482069], [-23.7226312729999, -46.7852857239999], [-23.7527421866148, -46.6833945133573], [-23.6658560798752, -46.7138003303552], [-23.5087360311088, -46.5151338837456], [-23.5336706157727, -46.4776944657272], [-23.5386479102032, -46.4735334122601], [-23.519369809074, -46.4462955002777], [-23.619329234, -46.423412544], [-23.6040234575466, -46.4955483127999], [-23.6010562078309, -46.5117792579675], [-23.5474711401249, -46.63110697175], [-23.6549756791733, -46.6055662257125], [-23.6448653794096, -46.7794920915984], [-23.4360556359999, -46.7862191729999], [-23.4964388546429, -46.6977846960139], [-23.4711109556123, -46.7010120475248], [-23.4806436738142, -46.5625418474485], [-23.460250884455, -46.6871604067909], [-23.52218681292, -46.55890231596], [-23.6553638493876, -46.6923984779695], [-23.6944809333174, -46.7947288676291], [-23.6943590619049, -46.7851656989968], [-23.679307763647, -46.779404151647], [-23.7697185914574, -46.7123969626869], [-23.7677551653698, -46.7238947147508], [-23.7451164829999, -46.68091271], [-23.5008569516315, -46.515471156421], [-23.4829018925642, -46.4936922479357], [-23.5107340069024, -46.4495626606585], [-23.5668597017176, -46.452242399577], [-23.5983351849999, -46.391425376], [-23.6267202785, -46.4736958386428], [-23.6271000711707, -46.4622406998292], [-23.5365241167341, -46.6423678966323], [-23.5466604258148, -46.6226170065925], [-23.5392467065039, -46.6527264162786], [-23.561930311, -46.6641786567272], [-23.6392856054013, -46.6050299676974], [-23.5577547034393, -46.6889035829925], [-23.5957026747623, -46.7466489173908], [-23.444481652, -46.79719992], [-23.631375036, -46.7367139209999], [-23.5292183628765, -46.738900075393], [-23.374154661, -46.5756386749999], [-23.4609929989999, -46.6552651489999], [-23.4376605831773, -46.5716630782056], [-23.4487020235445, -46.4952568101282], [-23.4389480789999, -46.5741090459999], [-23.4335266429999, -46.576121835], [-23.4548304348718, -46.6997024595717], [-23.5463926137757, -46.5243916541518], [-23.5405845351184, -46.5572712810789], [-23.6865018675671, -46.793093100315], [-23.665269967, -46.791004076], [-23.7761680399657, -46.6594003045885], [-23.6614058882132, -46.7491960395938], [-23.6816101010715, -46.7468475492317], [-23.6668524091119, -46.7379171849001], [-23.6626106091999, -46.7542193778], [-23.7124804360479, -46.6293430591133], [-23.7005744474288, -46.7620656224251], [-23.7005744474288, -46.7620656224251], [-23.73266921, -46.66005289], [-23.4904153314382, -46.4707921390329], [-23.5208878757083, -46.4705826864775], [-23.5383516429999, -46.456104443], [-23.5792600861692, -46.5354876955538], [-23.5712051687031, -46.4155626342066], [-23.5844687835267, -46.4089210143357], [-23.6329878100666, -46.4499777006], [-23.6138771563912, -46.4915512999261], [-23.5351057519999, -46.640398703], [-23.543358821, -46.637821878], [-23.5561317221017, -46.6437775957016], [-23.5254624883825, -46.6118903836875], [-23.5254624883825, -46.6118903836875], [-23.6258882066839, -46.5945809054892], [-23.5436603249965, -46.6743555816934], [-23.6538485759741, -46.7761043354481], [-23.6128128624733, -46.7549440669358], [-23.5743733501748, -46.7769890363291], [-23.5136822684948, -46.6030468408866], [-23.494331691, -46.669923452], [-23.4717193101249, -46.6888226951249], [-23.4754662903043, -46.5640334146074], [-23.4569808990359, -46.694857587992], [-23.5254886331437, -46.571467910938], [-23.821195026523, -46.7282922983231], [-23.8587011765714, -46.7043523548928], [-23.666070073, -46.7939701399999], [-23.7614466082857, -46.6999313794285], [-23.6533257120269, -46.7523609290681], [-23.6533257120269, -46.7523609290681], [-23.6869103459999, -46.7466313049999], [-23.4887983505961, -46.3967009016346], [-23.5434747806624, -46.4700697602979], [-23.5392496269428, -46.4207263677714], [-23.6194145109999, -46.4949600109999], [-23.5428147658486, -46.6251081322231], [-23.645150529374, -46.6412257732895], [-23.6666084, -46.6327824599999], [-23.5384474158265, -46.6953169320457], [-23.414208227, -46.7505133029999], [-23.4408905609999, -46.786882582], [-23.4881887698085, -46.6869262985911], [-23.4663239449999, -46.693840935], [-23.4537279956145, -46.6739648903754], [-23.4537279956145, -46.6739648903754], [-23.4531854084722, -46.5736502113023], [-23.4531854084722, -46.5736502113023], [-23.4498666589502, -46.5895942035686], [-23.4498666589502, -46.5895942035686], [-23.4605615961522, -46.5822267844174], [-23.516035142, -46.5691921205], [-23.5703916822842, -46.5374716716127], [-23.8310428812751, -46.7092021483895], [-23.6838037043368, -46.7734762410833], [-23.6838037043368, -46.7734762410833], [-23.6946923759499, -46.7814531072395], [-23.6409333370988, -46.7860554045003], [-23.6629883524047, -46.792624382269], [-23.7697388722806, -46.6766295659863], [-23.689157393, -46.6568806569999], [-23.7226136187255, -46.7853421410968], [-23.7326423893317, -46.6933688518033], [-23.5020261863333, -46.5239668529999], [-23.4884324442511, -46.3849675074476], [-23.503661232983, -46.4703851666619], [-23.5957472699999, -46.458565474], [-23.5917803133999, -46.4072700345333], [-23.5869123831875, -46.3906843144375], [-23.6360003583226, -46.4629094952674], [-23.5972715462871, -46.5002493806266], [-23.6102507581144, -46.5194454040446], [-23.5662661363256, -46.6266438567551], [-23.6523413249498, -46.5969531748037], [-23.628072797, -46.767432342], [-23.623122034296, -46.7634282017779], [-23.6161754352355, -46.7208642951382], [-23.6127521376807, -46.7200022828954], [-23.5044006546134, -46.6550674818394], [-23.4729838978393, -46.5849225638552], [-23.4729838978393, -46.5849225638552], [-23.4461509944835, -46.5919432443482], [-23.4497251279517, -46.5893848109166], [-23.4763918534939, -46.5725158800917], [-23.442797297, -46.5927858749999], [-23.4555062605882, -46.7167317681764], [-23.4410479095917, -46.7168792117226], [-23.5427323819341, -46.5435470901578], [-23.6498441519062, -46.7090776559843], [-23.7136237353213, -46.7037443257222], [-23.6842566032092, -46.7392334761983], [-23.6749412879474, -46.7422092893308], [-23.6524339093571, -46.7496615057142], [-23.6524339093571, -46.7496615057142], [-23.6574184781415, -46.7470149590344], [-23.6732341762231, -46.6775464799799], [-23.692284362, -46.777423497], [-23.7027621149999, -46.79013859], [-23.5128985397575, -46.4054189818787], [-23.5838713965961, -46.4242763844498], [-23.5989801417143, -46.4158428492857], [-23.629880359, -46.449265321], [-23.5628225609434, -46.492345116586], [-23.588483561341, -46.5053599753649], [-23.6163701233968, -46.5078769170572], [-23.6163701233968, -46.5078769170572], [-23.6163701233968, -46.5078769170572], [-23.602413499, -46.518278255], [-23.545555318, -46.626501493], [-23.5466035909293, -46.6325810452057], [-23.625740208, -46.599192569], [-23.6339137788453, -46.6067032674262], [-23.5568046521974, -46.710201147868], [-23.6325097933679, -46.7642015556977], [-23.6460034565333, -46.7518172457333], [-23.454673161, -46.766571733], [-23.4430441841809, -46.8046873629359], [-23.5978602003849, -46.7660209594163], [-23.6159683478543, -46.7230603956632], [-23.4885043317526, -46.6515557002794], [-23.4865316714419, -46.6879335553433], [-23.5049860432202, -46.6913632211494], [-23.4562009159999, -46.6803144149999], [-23.4571654981216, -46.670746195914], [-23.4543102942697, -46.6742590078063], [-23.4568607700221, -46.5728204616298], [-23.5215173337586, -46.5617772996551], [-23.5182206229999, -46.5679508119999], [-23.8285113304663, -46.7373028676576], [-23.6652301574095, -46.7912211576827], [-23.6908198023515, -46.6388840214708], [-23.7063470921122, -46.6265673186311], [-23.6860015114516, -46.6414437268387], [-23.509355622037, -46.4341746211481], [-23.5152732638444, -46.5055513169999], [-23.512619550682, -46.4363953401001], [-23.5295893669439, -46.3946679973964], [-23.5297055933358, -46.426321274129], [-23.583169332, -46.417199535], [-23.5964314797056, -46.4204664298786], [-23.6336968859714, -46.4598338529714], [-23.5581934054653, -46.4994880395034], [-23.5341342831738, -46.5702477465869], [-23.5994884545582, -46.5130355187149], [-23.6114566686375, -46.6234140629742], [-23.608382505, -46.581162503], [-23.6445048310212, -46.6534656937872], [-23.6133478868503, -46.5929130273182], [-23.5144938552786, -46.6964327460655], [-23.5250873268235, -46.7101834822353], [-23.541743555, -46.648889126], [-23.4766104947485, -46.7566788444699], [-23.6097782179444, -46.7257114496666], [-23.45404224, -46.657107287], [-23.4807526499999, -46.663781699], [-23.4717851227645, -46.6826678364434], [-23.4410479095917, -46.7168792117226], [-23.4863329839999, -46.566677269], [-23.5369749847272, -46.5505937525454], [-23.6055414957246, -46.5610185107536], [-23.85674976, -46.7744267909999], [-23.6812302875019, -46.6460728000475], [-23.6695840412265, -46.7385867786469], [-23.6696853165701, -46.739841242284], [-23.668983170455, -46.6858598020269], [-23.7220984859999, -46.7851635649999], [-23.491656825, -46.4300057949999], [-23.4881940717368, -46.4293508882807], [-23.509466655, -46.4114789389999], [-23.5002903973686, -46.4622118615739], [-23.4915432532941, -46.4615995664313], [-23.5025587640406, -46.4586501562994], [-23.538975632818, -46.4693923514578], [-23.5398941328222, -46.4350325030667], [-23.590606282, -46.487486248], [-23.564600368, -46.415900334], [-23.640776181, -46.4575488519999], [-23.6116872812792, -46.5107727048985], [-23.6148475522601, -46.5179636985795], [-23.540300198, -46.6294659869999], [-23.5440701121298, -46.6301745389392], [-23.548669238621, -46.6304891568567], [-23.5410307727142, -46.6279100793214], [-23.5718699615631, -46.6627680115057], [-23.5770556275, -46.7078042349166], [-23.6481441524935, -46.748421389627], [-23.5022161328542, -46.7118463123643], [-23.4822097404545, -46.724336042303], [-23.620246617, -46.723562092], [-23.5049412493017, -46.5879972288954], [-23.4703321413513, -46.5665225951892], [-23.4562423238229, -46.7162157609486], [-23.5682770396124, -46.5954206769124], [-23.5410921867115, -46.5050414368077], [-23.5392915556271, -46.5677658593389], [-23.669456029918, -46.6656994391311], [-23.6610072925882, -46.7914653923529], [-23.6658936029747, -46.7944007519664], [-23.6687136303839, -46.7338231227127], [-23.659103264, -46.75846061], [-23.659103264, -46.75846061], [-23.659103264, -46.75846061], [-23.7039518007916, -46.6285345545833], [-23.7017460797547, -46.7725207993773], [-23.686570155, -46.755081482], [-23.6943371462308, -46.7796060767229], [-23.73101544, -46.785814107], [-23.6838440529537, -46.7608909428441], [-23.7468161519379, -46.684494313177], [-23.7391805189999, -46.666813813], [-23.4973224699823, -46.4401027446151], [-23.5065204379999, -46.497083457], [-23.5039484078571, -46.4612605584285], [-23.5857134775483, -46.3953701174516], [-23.5947456077472, -46.4945327351696], [-23.5247904291627, -46.6495268244883], [-23.539187233028, -46.6406008602308], [-23.5475334218976, -46.624768340445], [-23.4078726757174, -46.7445007254999], [-23.5719335653903, -46.7047311031794], [-23.6161589689705, -46.7243688693932], [-23.4748590643092, -46.6702986730766], [-23.4565534239999, -46.6858714059999], [-23.5243552009696, -46.5812700539447], [-23.5209911743333, -46.5758321744444], [-23.5209911743333, -46.5758321744444], [-23.5329007549999, -46.518361932995], [-23.5638512741485, -46.5382489365135], [-23.6381571106828, -46.7174667161803], [-23.6381571106828, -46.7174667161803], [-23.9022841239999, -46.787485126], [-23.672452039, -46.78302789], [-23.769058306, -46.712783612], [-23.769058306, -46.712783612], [-23.6940955706777, -46.66658987559], [-23.7222830288857, -46.7657635677773], [-23.7532271861978, -46.6729163120677], [-23.5403323724285, -46.4534454968571], [-23.4978780623131, -46.3976762078917], [-23.4954891711147, -46.4772370487541], [-23.4821494696014, -46.4928018954325], [-23.4904447693255, -46.447634508279], [-23.534953747, -46.472528008], [-23.5346952904815, -46.4836974808888], [-23.5523929828392, -46.4818255133505], [-23.5383157914541, -46.4201920756434], [-23.5614021253955, -46.4094361519702], [-23.610558871463, -46.4556603966375], [-23.5830600805073, -46.4908027802509], [-23.5357887191621, -46.6285777214594], [-23.6073681731511, -46.5926214388005], [-23.6104776391706, -46.5864465914432], [-23.5965446245617, -46.6762220283117], [-23.640204575017, -46.7774074822109], [-23.6259124720826, -46.7575738025907], [-23.4794598531821, -46.7586279313214], [-23.4794598531821, -46.7586279313214], [-23.411063409186, -46.7426044446279], [-23.4170066991118, -46.8197575011679], [-23.4138557016249, -46.75029943575], [-23.5764431958659, -46.7624597337527], [-23.6222898099999, -46.7267338349999], [-23.6227312739999, -46.72608593], [-23.489942883359, -46.610074694641], [-23.4720333500199, -46.6841870974047], [-23.4512899314744, -46.6888542573922], [-23.4564170269999, -46.700890697], [-23.502889883, -46.5363734979999], [-23.5397978899259, -46.5362659496666], [-23.6685291503368, -46.726658417092], [-23.6897781830967, -46.7716379634838], [-23.7019990699999, -46.772176434], [-23.5303884309999, -46.444404135], [-23.5376006482881, -46.463612701661], [-23.5486427821466, -46.4806044401865], [-23.5241685234, -46.4152610704666], [-23.5102594866663, -46.4169264713143], [-23.56904609927, -46.3984092473312], [-23.546409863, -46.4233019218889], [-23.6191841446691, -46.4166953983471], [-23.58702411912, -46.40166229444], [-23.58702411912, -46.40166229444], [-23.6063058938882, -46.4025557152062], [-23.640776181, -46.4575488519999], [-23.607690932, -46.505394816], [-23.5991189234838, -46.533883805258], [-23.612977588, -46.5040773329999], [-23.539107599, -46.6270469419999], [-23.5478856054368, -46.6025835211825], [-23.6473742501329, -46.6093912333261], [-23.6657644780791, -46.6378351126421], [-23.4790337450963, -46.7595107196336], [-23.438302171502, -46.7402885441999], [-23.511811956, -46.624905967], [-23.5052045796879, -46.5800983282589], [-23.374154661, -46.5756386749999], [-23.4658049114999, -46.6595160610833], [-23.4940649313401, -46.5898074868114], [-23.4863704709999, -46.5781763639999], [-23.4656117158636, -46.689172156], [-23.4712960282307, -46.6812746140769], [-23.4571160276811, -46.6750888782433], [-23.5216348767601, -46.5784948497204], [-23.5222673235604, -46.5714181161457], [-23.6829388558813, -46.650325392644], [-23.7701340149999, -46.681547586], [-23.6827771339127, -46.7457684850927], [-23.5147750215862, -46.398237866862], [-23.5536001547833, -46.480212040114], [-23.5882588087755, -46.4089463370909], [-23.6302685407828, -46.4475958965803], [-23.630966283, -46.468765054], [-23.541743555, -46.648889126], [-23.6175835723189, -46.7044997147392], [-23.4033525867728, -46.7482276881674], [-23.6153024779999, -46.719729561], [-23.452955028487, -46.6066084622614], [-23.4959891406576, -46.669581407235], [-23.4474042269845, -46.7321905321132], [-23.5124275936818, -46.5632701232727], [-23.5202754749015, -46.5760161488335], [-23.548210273021, -46.5235156516072], [-23.591861862, -46.534752784], [-23.5341342831738, -46.5702477465869], [-23.6730387302061, -46.7858079959389], [-23.6723122414849, -46.7854725005256], [-23.6699484157329, -46.7013622197471], [-23.5039752995793, -46.5175199981207], [-23.6029385826612, -46.431176123258], [-23.5909395559756, -46.5035607954972], [-23.6124840130468, -46.5224246963774], [-23.6112801935862, -46.535633749], [-23.5454165649188, -46.6311553989209], [-23.5322655515294, -46.6234984515882], [-23.658514887, -46.6609903149999], [-23.6106699264749, -46.5939761447098], [-23.6430195342732, -46.7723205839617], [-23.6315614563079, -46.7434984358287], [-23.4912295142003, -46.756443920637], [-23.4676142084789, -46.6674362746273], [-23.470331315869, -46.68076291747], [-23.4670816198432, -46.5905689752872], [-23.4557012785704, -46.7182305812868], [-23.4903291729454, -46.5675454537257], [-23.5417436729999, -46.5797003279999], [-23.7701340149999, -46.681547586], [-23.7145035652594, -46.652801172646], [-23.7145035652594, -46.652801172646], [-23.7006864631076, -46.7790716421396], [-23.5038121257101, -46.3686557126304], [-23.4887071200649, -46.4085199981428], [-23.5117902332042, -46.482864721938], [-23.5115198722238, -46.4770869481226], [-23.5115198722238, -46.4770869481226], [-23.5115198722238, -46.4770869481226], [-23.5115198722238, -46.4770869481226], [-23.5446691591898, -46.4101016445863], [-23.5506031724285, -46.3972127640919], [-23.5596701873424, -46.4054805845205], [-23.5814844574062, -46.4149186769432], [-23.5552273422, -46.4921662804], [-23.5997138128816, -46.51409650676], [-23.5904526741703, -46.6302495354873], [-23.5421020203333, -46.6249800696666], [-23.5333835179999, -46.6421545874474], [-23.6741553307622, -46.6366341079164], [-23.6317397285921, -46.7627793567884], [-23.6464915449999, -46.772565986], [-23.6338319257026, -46.747954837779], [-23.6338319257026, -46.747954837779], [-23.6338319257026, -46.747954837779], [-23.4460687245, -46.7480749619999], [-23.4469193919999, -46.7877706949999], [-23.6481441524935, -46.748421389627], [-23.5038494727122, -46.6248986779704], [-23.455343774, -46.5945150489999], [-23.458824057732, -46.6928997540996], [-23.5019524684758, -46.5341121392563], [-23.6598243368675, -46.7735694677947], [-23.6775361017021, -46.6631577144255], [-23.6984013411381, -46.635323037687], [-23.7320861342592, -46.7850856454444], [-23.6906403959999, -46.768176312], [-23.6878506079385, -46.7702538252691], [-23.7312289449999, -46.746149923], [-23.701551003, -46.791970174], [-23.4973224699823, -46.4401027446151], [-23.607073154, -46.472322413], [-23.5473455411111, -46.6318888183333], [-23.64389232375, -46.6073155943125], [-23.661432192, -46.635467838], [-23.6568896961915, -46.7762606855854], [-23.618547187701, -46.7266344642312], [-23.480425679, -46.603553577], [-23.4542407347123, -46.6742335212435], [-23.451035933057, -46.6907471993431], [-23.4867023485, -46.5728166449999], [-23.5243144620597, -46.5714858032776], [-23.5399185545, -46.6047735552499], [-23.701465586987, -46.7911937956842], [-23.6597743459999, -46.7804943039999], [-23.7121108294871, -46.7007503512759], [-23.686547758, -46.661929974], [-23.7796791705577, -46.6846123319684], [-23.7712749249999, -46.6803160979999], [-23.661618882, -46.740096369], [-23.663458771, -46.7461353269999], [-23.7003958342857, -46.6416416974286], [-23.7033058961079, -46.6442494319099], [-23.6849058868067, -46.7669269659014], [-23.7167562383033, -46.765864855216], [-23.74167341, -46.778938045], [-23.74167341, -46.778938045], [-23.522917252, -46.469646667], [-23.528828709, -46.4129709524999], [-23.5437747002631, -46.3963783151579], [-23.5549901806777, -46.4624984263513], [-23.6107221517743, -46.4840292157795], [-23.5587469628477, -46.6249894347414], [-23.5952855390877, -46.5984643466315], [-23.5002608525834, -46.7391375398456], [-23.6046562112758, -46.7876078840344], [-23.5244775629999, -46.736896789], [-23.481412238, -46.670078577], [-23.4570769925327, -46.6684214692201], [-23.4415756849473, -46.5810663891052], [-23.4410479095917, -46.7168792117226], [-23.5038546058405, -46.5242022779565], [-23.7932101083922, -46.688813097429], [-23.6562496862674, -46.7836268105475], [-23.6709933597134, -46.7631389882334], [-23.6908554084858, -46.638928350436], [-23.7248964405649, -46.7856609207738], [-23.6994878649373, -46.7801956563973], [-23.7043394760699, -46.7428711508689], [-23.4977074105879, -46.4448386044493], [-23.5386479102032, -46.4735334122601], [-23.6112645228965, -46.4758606043673], [-23.565122304485, -46.4719149166448], [-23.6089534964343, -46.5176141041167], [-23.6071427418626, -46.5161698136323], [-23.6140354139999, -46.530734907], [-23.615939027, -46.5114593069999], [-23.553662994732, -46.6296191478605], [-23.527339194125, -46.6479531252499], [-23.5394528396808, -46.6415681652978], [-23.5507638239999, -46.6425808239999], [-23.5453490005224, -46.6149307554776], [-23.5391777856975, -46.6077234422115], [-23.6641131121233, -46.6595287605696], [-23.6641131121233, -46.6595287605696], [-23.6740051238807, -46.6326408274273], [-23.5001882391257, -46.7418932065138], [-23.5666466333617, -46.6390401663649], [-23.644700628771, -46.7795114456686], [-23.6418620993781, -46.7742358491917], [-23.4360069297692, -46.7866726010769], [-23.5862956669999, -46.758848068], [-23.491480807127, -46.5925087484943], [-23.4584792861475, -46.6760924422294], [-23.4595387020111, -46.6664196658889], [-23.4465639590095, -46.5772963053032], [-23.4580280830622, -46.698822331572], [-23.7929207467334, -46.7391967051677], [-23.69085232513, -46.7823665175473], [-23.6725902663375, -46.7876148442799], [-23.778591471, -46.676454307], [-23.7483658966075, -46.7006250025716], [-23.7025205568525, -46.6356842071514], [-23.5172400821764, -46.5159468479367], [-23.505932387, -46.459667585], [-23.5678506508051, -46.4102762350492], [-23.6110218489999, -46.501342181], [-23.547376377, -46.631962186], [-23.542167525, -46.609705745], [-23.5448064311132, -46.6224468972159], [-23.5355279794549, -46.6444435599327], [-23.5609763389999, -46.6920880942592], [-23.5174293269069, -46.6747171003023], [-23.4098231327611, -46.7348030066416], [-23.6222898099999, -46.7267338349999], [-23.6092635728731, -46.725647432208], [-23.5245506866815, -46.7369834112892], [-23.4811561484937, -46.6499926646205], [-23.4710464084471, -46.6807150706338], [-23.4532369095653, -46.6721680512975], [-23.4389480789999, -46.5741090459999], [-23.438979102, -46.587074264], [-23.4478051444615, -46.7386403067435], [-23.4410479095917, -46.7168792117226], [-23.8347306021739, -46.7293273661304], [-23.874258147, -46.649174757], [-23.874258147, -46.649174757], [-23.6804856886629, -46.6454822010364], [-23.6878035371545, -46.6476733328802], [-23.6666708451892, -46.7049235335067], [-23.7574016080846, -46.6813280323376], [-23.4847502659999, -46.5049703889999], [-23.5134002039999, -46.4437782439999], [-23.6029054484953, -46.4042246826588], [-23.6035711805271, -46.3990433851706], [-23.5998431908301, -46.4023574102349], [-23.6123853018734, -46.5308257662278], [-23.5496427266786, -46.6339022003012], [-23.5402694116051, -46.612168549894], [-23.5703305957924, -46.6589147281698], [-23.6049308741238, -46.7305683578527], [-23.6239336673353, -46.7558951561605], [-23.4371982396971, -46.8065782101566], [-23.5759511704836, -46.7485107224816], [-23.5750037117857, -46.7526482146428], [-23.6030635159476, -46.7814869757779], [-23.4535565259999, -46.601868323], [-23.4700749166873, -46.6540484007116], [-23.480011035, -46.655858625], [-23.497360581192, -46.592036997664], [-23.4578221195943, -46.678817610155], [-23.4481606916666, -46.5683874423333], [-23.4557003851917, -46.5894852557808], [-23.4352035244032, -46.5669685719255], [-23.4560200176544, -46.6980476265327], [-23.4940277511861, -46.5708458151519], [-23.5779382949692, -46.5697896513022], [-23.5769630075346, -46.5492149995841], [-23.8631895328795, -46.7029849080565], [-23.664042991, -46.7821143109999], [-23.6970825345745, -46.7829852645453], [-23.6536340796889, -46.7908452134444], [-23.6470664123226, -46.7345739936451], [-23.5045822803749, -46.378399337875], [-23.5062460648513, -46.3877931078518], [-23.512616581, -46.382579178], [-23.4906500277105, -46.4183007990789], [-23.5003548349999, -46.4717771369999], [-23.5432998848256, -46.4766487551759], [-23.5353333760645, -46.4017505669677], [-23.5916141245555, -46.5087315337777], [-23.5879579329999, -46.381696178], [-23.5991194371379, -46.453449988023], [-23.6130509000476, -46.4579664431052], [-23.6155285743676, -46.5179161427551], [-23.6155285743676, -46.5179161427551], [-23.5935820872, -46.5989796918], [-23.6076476841745, -46.5817381474759], [-23.6376035773, -46.6084186146], [-23.4978378141998, -46.7495395281525], [-23.6481441524935, -46.748421389627], [-23.4561865846666, -46.6549617493333], [-23.4946711227855, -46.5916393583978], [-23.4421667943207, -46.5783852564865], [-23.4394098482871, -46.7193764179308], [-23.4286331015034, -46.7266214814021], [-23.5215173337586, -46.5617772996551], [-23.899783225, -46.726935098], [-23.8013715209003, -46.7280690748004], [-23.652997677, -46.781631623], [-23.76850478316, -46.68530642968], [-23.667504255, -46.752911344], [-23.7224507204898, -46.7498500611354], [-23.7489418389999, -46.6649511059999], [-23.5081039751219, -46.3765751792352], [-23.4816851386, -46.4190187021999], [-23.4935838076363, -46.4786404188545], [-23.5368694157294, -46.463370785939], [-23.5689520176739, -46.5206393209782], [-23.5729851105824, -46.5333901696309], [-23.6061386365624, -46.4014524868237], [-23.5877041887179, -46.4019659931794], [-23.5502984710069, -46.4979284321714], [-23.5960774119451, -46.4992867724222], [-23.6140354139999, -46.530734907], [-23.5453318774026, -46.631593900352], [-23.5488988179999, -46.6019178019999], [-23.6027102447217, -46.5956504980107], [-23.4717976201096, -46.711401809388], [-23.5456504409166, -46.5032003134166], [-23.5929848990638, -46.5580540101701], [-23.8249111599251, -46.6721468177408], [-23.6692637318648, -46.6495726824865], [-23.6760128763703, -46.6628215323889], [-23.7637169079999, -46.6961909954285], [-23.6570104625294, -46.7547338088235], [-23.5219575602259, -46.4433490561569], [-23.54098499675, -46.6083740071999], [-23.6434108525365, -46.6334141678536], [-23.6080979406153, -46.7063250093846], [-23.4186478872658, -46.8053281180088], [-23.5754935109999, -46.7802827049999], [-23.5884034933266, -46.7802132990788], [-23.495973506711, -46.6078464215312], [-23.4551854013069, -46.6573429658804], [-23.4914719100718, -46.6849080840211], [-23.5255339052191, -46.5567844336809], [-23.8124879306118, -46.7127489233352], [-23.8766837492653, -46.6580214713804], [-23.67171093, -46.779585588], [-23.7474366572069, -46.7788636377586], [-23.6668369109703, -46.7521702067019], [-23.6670761433701, -46.7478917629429], [-23.7296942445315, -46.7879497432554], [-23.5971841815508, -46.4400861266738], [-23.619469522021, -46.4197511922176], [-23.616201860215, -46.4228363185001], [-23.616201860215, -46.4228363185001], [-23.6320989786076, -46.4386680932152], [-23.6361056721394, -46.4390505408047], [-23.5935723329796, -46.4946781875958], [-23.6143242849112, -46.5139500311085], [-23.5513927069999, -46.633217069], [-23.571157921, -46.6310797529999], [-23.532294747909, -46.6240533340909], [-23.541743555, -46.648889126], [-23.6678739606237, -46.6493770713969], [-23.6481441524935, -46.748421389627], [-23.6339569088252, -46.7760944736367], [-23.4771811924451, -46.7561918850615], [-23.5698819083421, -46.7629133743947], [-23.5230086660151, -46.6014137135218], [-23.5163212141447, -46.6258756729493], [-23.4821273693695, -46.6673952698043], [-23.4675501639999, -46.6810090719999], [-23.4725059106895, -46.6847884780923], [-23.4563949028018, -46.5775066078848], [-23.4563949028018, -46.5775066078848], [-23.408483813, -46.580717264], [-23.4403979118333, -46.5772414141965], [-23.4496629071564, -46.7093233755997], [-23.4496629071564, -46.7093233755997], [-23.4517105822727, -46.7000710497272], [-23.6019982558095, -46.5647121068095], [-23.8286427731972, -46.6654664681213], [-23.6579762924266, -46.7898852861033], [-23.6511514070222, -46.7909694415751], [-23.6872555971017, -46.792501517365], [-23.742334768, -46.703864161], [-23.7489986139082, -46.7092954696306], [-23.7104147411944, -46.6621693610839], [-23.7490101989999, -46.669773188], [-23.4927119312467, -46.3885616279996], [-23.6113103879999, -46.441874131], [-23.5767683445057, -46.4547030235402], [-23.5859220899999, -46.435621206], [-23.6072343108577, -46.5269407298895], [-23.6072343108577, -46.5269407298895], [-23.5388812539999, -46.6205018489999], [-23.6399356477823, -46.6127917044828], [-23.5802736503829, -46.7211568534971], [-23.4374942497219, -46.7404815435186], [-23.4847468834537, -46.7652624858647], [-23.4533014593186, -46.6079575756061], [-23.4609397255862, -46.6710574975517], [-23.453232928655, -46.6721876205914], [-23.4530409389999, -46.6942357569999], [-23.450082481, -46.56974121], [-23.450082481, -46.56974121], [-23.4420202306464, -46.7270593398898], [-23.5107085669999, -46.542042618], [-23.607827174766, -46.5546689986676], [-23.5329247643141, -46.5564042644246], [-23.8540945931517, -46.7078812096239], [-23.8876884622165, -46.7312951408056], [-23.8751396914147, -46.6493775713346], [-23.67497278828, -46.7971518468235], [-23.662911015, -46.79419904], [-23.6884704719545, -46.7848939227436], [-23.741818157, -46.7823175519999], [-23.741818157, -46.7823175519999], [-23.691291763, -46.744400012], [-23.5234183042068, -46.4146852192186], [-23.5722280716842, -46.5219360668684], [-23.5554308930592, -46.6277593804848], [-23.5429316, -46.6167617], [-23.53213156, -46.626015319], [-23.6360898982104, -46.7583946357969], [-23.6409951346963, -46.76754316683], [-23.6476276899655, -46.7779777747241], [-23.6401503824284, -46.7609195717598], [-23.4442223541135, -46.7960539353497], [-23.432908676142, -46.7870730763104], [-23.4822097404545, -46.724336042303], [-23.4881656699999, -46.653681466], [-23.4761572269999, -46.663361731], [-23.4584495445103, -46.6869770410244], [-23.4694311013846, -46.6704640365384], [-23.42596495, -46.5887794], [-23.4419018187186, -46.7351765675344], [-23.5114469019999, -46.5463600529999], [-23.8883048742165, -46.7311542178131], [-23.848404659, -46.7576759639999], [-23.6428944077631, -46.7826800735483], [-23.6547082063483, -46.7908633931883], [-23.660758626, -46.7680242399999], [-23.6703561896538, -46.7885184456923], [-23.77011512293, -46.7656126130645], [-23.77011512293, -46.7656126130645], [-23.6657615178868, -46.7488679329531], [-23.7036659529999, -46.736935853], [-23.73072529, -46.750233592], [-23.7563315604516, -46.6689077314838], [-23.4980747756011, -46.5249684934055], [-23.5126282353554, -46.4733309839524], [-23.5159341616551, -46.4757981313448], [-23.5427435764035, -46.3924217307189], [-23.595189690984, -46.4398895518715], [-23.5849045169999, -46.442184931], [-23.5440819799999, -46.636178515], [-23.5262889004347, -46.6216417054768], [-23.6188118957972, -46.5925231933736], [-23.6046150125762, -46.6038091431525], [-23.6515572, -46.6460757], [-23.566129154, -46.6955283469999], [-23.6496224288163, -46.7595037758163], [-23.6481441524935, -46.748421389627], [-23.4526747959637, -46.7908066162578], [-23.4139046402499, -46.7503244625], [-23.5919682, -46.7834951], [-23.540116929, -46.73290198], [-23.509560151, -46.623918078], [-23.4612671808135, -46.6523689429186], [-23.4708100299999, -46.650276338], [-23.5450297269812, -46.5067707085078], [-23.564664234, -46.564399318], [-23.7697922, -46.6488679], [-23.8557901, -46.7149508], [-23.6703079918342, -46.7860677986174], [-23.6797194333333, -46.6608151796666], [-23.6896942002421, -46.7518772777584], [-23.5429127741759, -46.4669137604542], [-23.5076307162, -46.4215288044], [-23.5402735598749, -46.395637554625], [-23.5842887826032, -46.4088753539395], [-23.5881894613218, -46.4089728048112], [-23.6102656245588, -46.4929577381955], [-23.5227136324214, -46.6499185635266], [-23.5401851264653, -46.640960482377], [-23.6483348928289, -46.658150089118], [-23.5789575365714, -46.6803953914693], [-23.6425500383907, -46.7797510230261], [-23.619272823093, -46.7581302765116], [-23.6388372129999, -46.74535191], [-23.5339453414076, -46.729371612949], [-23.4876186499999, -46.621523977], [-23.4821967979642, -46.5735139621785], [-23.5820003174026, -46.5912426528484], [-23.7765100502029, -46.7060656086521], [-23.8806369489999, -46.7415861869999], [-23.6543276032821, -46.7907250957243], [-23.673562478, -46.796807857], [-23.7220513067625, -46.6942205273518], [-23.7162242131297, -46.7837703517242], [-23.75547504, -46.659550087], [-23.7560547209999, -46.6806849869999], [-23.7613631369099, -46.6560375390216], [-23.4837093453613, -46.4741379242367], [-23.5152171786613, -46.4726855915476], [-23.5274712465781, -46.4647978990034], [-23.532334273317, -46.4804279504878], [-23.5352120657039, -46.4071919038438], [-23.5615775818701, -46.4083901083469], [-23.5864846969999, -46.3831119009999], [-23.6021402, -46.4134788], [-23.6137832389999, -46.5302082709999], [-23.5392455325609, -46.6428256039024], [-23.643710173804, -46.6576752946896], [-23.643710173804, -46.6576752946896], [-23.643710173804, -46.6576752946896], [-23.6408602469999, -46.60860268], [-23.6373553640473, -46.7580794429432], [-23.635881342358, -46.7467111437133], [-23.529099244976, -46.7390268652108], [-23.50892, -46.624813], [-23.5008688017931, -46.6223559586896], [-23.4777856488823, -46.6786959498823], [-23.4696788044999, -46.659210727], [-23.4690992499296, -46.6801799063943], [-23.4690992499296, -46.6801799063943], [-23.4699868, -46.680569], [-23.460548892, -46.684317118], [-23.4605807934467, -46.689458069278], [-23.811381604, -46.7143817959999], [-23.669596046, -46.657081551], [-23.6770349091315, -46.7648347836842], [-23.6991374225969, -46.7864652808801], [-23.6638841552421, -46.7371618759702], [-23.654946534194, -46.7473499003432], [-23.67534978, -46.7523155969999], [-23.67534978, -46.7523155969999], [-23.7183847685588, -46.6356060928374], [-23.7183847685588, -46.6356060928374], [-23.742513956, -46.661732566], [-23.4833539808222, -46.4243863270512], [-23.5184555172223, -46.3921124601653], [-23.4899664575893, -46.4764668804473], [-23.5696350609999, -46.406461249], [-23.5924085856814, -46.4015277570607], [-23.6087149, -46.4919173], [-23.5384756255303, -46.6451771571686], [-23.5554292348888, -46.6205635375555], [-23.5533279455325, -46.6251937023068], [-23.54081714925, -46.6077948432], [-23.54081714925, -46.6077948432], [-23.5252982175497, -46.6292101378144], [-23.53913028405, -46.615855505725], [-23.5565638787608, -46.669589265855], [-23.6156158424515, -46.6806275956835], [-23.6297061957963, -46.75243197557], [-23.4151327270088, -46.7508566374766], [-23.4735689075799, -46.7098729665264], [-23.4692633222951, -46.6598631603574], [-23.4601067547051, -46.6784191493205], [-23.522320141, -46.569777189], [-23.8253462829381, -46.7206322109231], [-23.649227068923, -46.7887610945384], [-23.68410609769, -46.7816433932477], [-23.6810264523054, -46.7981574791122], [-23.7651701192208, -46.731163643431], [-23.6898172328818, -46.6381527099124], [-23.731652604, -46.697690478], [-23.4919406648181, -46.4065983995818], [-23.5003548349999, -46.4717771369999], [-23.54596339738, -46.4090612425294], [-23.589247977, -46.488773231], [-23.5849045169999, -46.442184931], [-23.5559235548928, -46.6291324773214], [-23.5420183805172, -46.6128833207931], [-23.568361352, -46.655579608], [-23.5569500209563, -46.6686886737354], [-23.6231725513606, -46.7636243941679], [-23.4371138928598, -46.7510704877228], [-23.4851637, -46.6915215], [-23.4556532619999, -46.6717504], [-23.467928507, -46.6776420419999], [-23.4567515109999, -46.5984643269999], [-23.4810909, -46.701627], [-23.6913295653353, -46.7963852148578], [-23.697246542, -46.779308933], [-23.7162242131297, -46.7837703517242], [-23.750257937, -46.666962976], [-23.7001579925, -46.5138513816666], [-23.4927119312467, -46.3885616279996], [-23.5249144373809, -46.4702943520476], [-23.540511, -46.4372746], [-23.5867092359999, -46.523355538], [-23.5637829, -46.4622942], [-23.6092202036207, -46.3979919330344], [-23.6306321554823, -46.4502963245821], [-23.6161607, -46.5181472], [-23.6161607, -46.5181472], [-23.6161607, -46.5181472], [-23.5476406989999, -46.63602736], [-23.5414063160767, -46.6184371663782], [-23.5881694, -46.6001365], [-23.4408905609999, -46.786882582], [-23.575980573, -46.7376585869999], [-23.6073447881966, -46.7453138452606], [-23.474244991, -46.650514974], [-23.467928507, -46.6776420419999], [-23.4403923849999, -46.582533137], [-23.573629137, -46.565532407], [-23.5540993715946, -46.5679514078378], [-23.5540993715946, -46.5679514078378], [-23.65464897, -46.70310226], [-23.6521044359999, -46.707851467], [-23.6606104, -46.7681513], [-23.6770729914011, -46.766705724865], [-23.6765102489999, -46.6648821969999], [-23.763696959, -46.690986282], [-23.6615476, -46.7496276], [-23.6579216971216, -46.7575837460537], [-23.516286142, -46.389523857], [-23.553772891962, -46.4164564940517], [-23.553772891962, -46.4164564940517], [-23.5875871, -46.4025799], [-23.550234533, -46.639254567], [-23.525989324, -46.6348518039999], [-23.528915969, -46.633914106], [-23.5416872, -46.6096777], [-23.535708982, -46.625513756], [-23.526682, -46.6214163], [-23.5164017703782, -46.6748341696209], [-23.6397339490805, -46.7496980395614], [-23.6397339490805, -46.7496980395614], [-23.6436544389999, -46.751768447], [-23.6428829279999, -46.736475801], [-23.4470491227743, -46.788252734157], [-23.5400856642329, -46.7464238988135], [-23.5013309, -46.7023452], [-23.470082689, -46.68712386], [-23.5052408299999, -46.587845326], [-23.509732992, -46.570979312], [-23.529971947, -46.52767252], [-23.5502992783333, -46.5355997223333], [-23.5269155619999, -46.563159071], [-23.5406448050425, -46.6048190097446], [-23.674956353, -46.78545338], [-23.6593638824145, -46.7304468561701], [-23.4939472, -46.3873018], [-23.5405885, -46.4163552], [-23.551176, -46.4365682], [-23.6133693, -46.4441787], [-23.605631129, -46.4131261599999], [-23.530113628, -46.6766767239999], [-23.6350707, -46.7396258], [-23.6578865019999, -46.7671581549999], [-23.4172142641883, -46.7312526190162], [-23.5897754074482, -46.7802134354138], [-23.5180115059999, -46.6253196119999], [-23.502358831, -46.5897403979999], [-23.455524558, -46.684426028], [-23.6783674086666, -46.792102793303], [-23.6871608541269, -46.6569687706395], [-23.7589909673703, -46.6843378194886], [-23.747495132, -46.7768020469999], [-23.747495132, -46.7768020469999], [-23.6917752546842, -46.769034666421], [-23.6872029, -46.748794], [-23.5319495991454, -46.4469271631636], [-23.5553838769999, -46.472131807], [-23.6018941505028, -46.4977404664098], [-23.613324619, -46.532299908], [-23.547376377, -46.631962186], [-23.5400203530812, -46.6360836336822], [-23.5453759, -46.6489592], [-23.5972503747715, -46.5994984325759], [-23.6041069, -46.6626166], [-23.6402064083409, -46.6540182776245], [-23.557577996, -46.701282496], [-23.6408525, -46.7537916], [-23.636287024, -46.755259794], [-23.5862956669999, -46.758848068], [-23.4822097404545, -46.724336042303], [-23.5010390278707, -46.6166685252338], [-23.4780194369999, -46.677406971], [-23.4663368, -46.6861456], [-23.6732733703098, -46.767197674637], [-23.716714434, -46.6759660769999], [-23.701990623, -46.646165058], [-23.7112597999999, -46.6288299879999], [-23.739257192, -46.6806648909999], [-23.7452709423518, -46.6571048575762], [-23.4749384746428, -46.426506819119], [-23.4917059238518, -46.3933347441481], [-23.517326752, -46.467713906], [-23.5614021253955, -46.4094361519702], [-23.6069704179999, -46.4827921139999], [-23.542073527, -46.6424529499999], [-23.556619476, -46.624578265], [-23.5405759874787, -46.6102003001383], [-23.5327689, -46.6438443], [-23.5919403249999, -46.6069017519999], [-23.5838886249999, -46.636850608], [-23.492164064, -46.5732157309999], [-23.5377566890425, -46.5027495060851], [-23.5485744969361, -46.5104795670212], [-23.5355957749999, -46.582626733], [-23.8874593, -46.6893722], [-23.6535419471764, -46.782130450647], [-23.6886245090171, -46.7931259757218], [-23.6410883175926, -46.787127409403], [-23.7162427, -46.687683], [-23.6807412, -46.6784915], [-23.758901756621, -46.665924876524], [-23.74029115, -46.7821071889999], [-23.7459801439999, -46.6565809219999], [-23.740396254, -46.6614352199999], [-23.7332197899511, -46.666538757248], [-23.7426709139003, -46.6553436230073], [-23.503043815102, -46.449470433029], [-23.5131136211377, -46.4511318260229], [-23.5810990677827, -46.4420924416598], [-23.5658149, -46.4719678], [-23.5665686249999, -46.451713], [-23.5665686249999, -46.451713], [-23.5673566, -46.4805785], [-23.55513586, -46.5169251519999], [-23.5530818582677, -46.6283495936159], [-23.5472198, -46.6316082], [-23.5424976259999, -46.6380153659999], [-23.5411624289999, -46.6402222359999], [-23.5389539, -46.6066786], [-23.5434471, -46.6264109], [-23.6416407229872, -46.5919778470297], [-23.522759182, -46.6555001629999], [-23.6392413396599, -46.7576085425117], [-23.642916821, -46.75634338], [-23.642916821, -46.75634338], [-23.6539510730706, -46.7638460930556], [-23.6539510730706, -46.7638460930556], [-23.6424589379999, -46.747289238], [-23.6424589379999, -46.747289238], [-23.5758956359984, -46.7776536037095], [-23.7804593, -46.69102], [-23.75073266, -46.6994276529999], [-23.700988, -46.6396747], [-23.7425959, -46.6622756], [-23.6115391319871, -46.4517359386208], [-23.592121, -46.4779558], [-23.597448963, -46.4591388599999], [-23.597448963, -46.4591388599999], [-23.5947990949999, -46.4441670109999], [-23.6295312253844, -46.4451739622412], [-23.5378214, -46.6447759], [-23.6451755, -46.7515869], [-23.4536368, -46.5880286], [-23.7715103323129, -46.7127617824595], [-23.8551733, -46.7169181], [-23.917236111, -46.636492527], [-23.658694258, -46.781525566], [-23.7102095944456, -46.6894870603387], [-23.7475993859999, -46.71066515], [-23.6585392256251, -46.7427365728071], [-23.6741985859999, -46.734298403], [-23.7296570518918, -46.6935969289105], [-23.7300705659999, -46.689113945], [-23.7459801439999, -46.6565809219999], [-23.489593542, -46.5090555049999], [-23.496862477, -46.393710239], [-23.5308767586956, -46.4526064656521], [-23.5260008762198, -46.4526634697633], [-23.549043293, -46.426060358], [-23.559472, -46.3941474], [-23.573317506, -46.4458478569999], [-23.5853631, -46.3969203], [-23.5424395, -46.6067364], [-23.533499325, -46.650979277], [-23.634099292, -46.643014008], [-23.515216216395, -46.7466372656833], [-23.641483066, -46.747747374], [-23.6236490940359, -46.747299815766], [-23.6358242874196, -46.7471831457442], [-23.6424589379999, -46.747289238], [-23.631379388, -46.7473237029999], [-23.6438369697628, -46.7540956747713], [-23.583841341, -46.73804438], [-23.4791552876747, -46.693490216504], [-23.5889104, -46.5679023], [-23.8551733, -46.7169181], [-23.6631, -46.7922], [-23.679918577, -46.7831003329999], [-23.659042814, -46.7509153199999], [-23.6939197, -46.6569799869999], [-23.73266921, -46.66005289], [-23.517028578, -46.5079105359999], [-23.5068378289999, -46.401445786], [-23.481557, -46.4846379], [-23.5074917969999, -46.4251673959999], [-23.5501638709999, -46.626634281], [-23.5501249238697, -46.6202678298925], [-23.5332831869999, -46.616956966], [-23.608004007, -46.652550957], [-23.6181154559999, -46.611621859], [-23.599656833, -46.6748225759999], [-23.5671822, -46.7023303], [-23.6290510990645, -46.755581402258], [-23.4390061349999, -46.7577491919999], [-23.6113644389999, -46.7218533569999], [-23.410251049, -46.581660761], [-23.4656400559999, -46.698163118], [-23.4563123469999, -46.685510623], [-23.4719532, -46.5642811], [-23.44618402, -46.577318142], [-23.449436813, -46.674017017], [-23.665269967, -46.791004076], [-23.665269967, -46.791004076], [-23.687230824, -46.666010312], [-23.687230824, -46.666010312], [-23.6525189659999, -46.744507739], [-23.697195758, -46.6333684539999], [-23.7037210157957, -46.7837709575852], [-23.7523423399999, -46.776713547], [-23.545349469, -46.4624092029999], [-23.5669887569999, -46.395315813], [-23.6215331879999, -46.449636385], [-23.597448963, -46.4591388599999], [-23.601833584, -46.53865755], [-23.6236915964926, -46.5079900935042], [-23.6651764964674, -46.6782976736332], [-23.6262914019857, -46.6489538678486], [-23.5952738291806, -46.430581902687], [-23.5952738291806, -46.430581902687], [-23.7815056438869, -46.7258036560512], [-23.4741657223272, -46.7046524251984], [-23.5247483459209, -46.6017795409354], [-23.5833471623235, -46.7152319047731], [-23.5859789868493, -46.5130855235517], [-23.6516889441678, -46.7555433425618], [-23.6515149163999, -46.6350735749335], [-23.4172112284002, -46.8011097302084], [-23.4922907496935, -46.379281152207], [-23.5462177035437, -46.4455844416155], [-23.5102600493842, -46.400410140062], [-23.4172112284002, -46.8011097302084], [-23.533736629502, -46.7493676626181], [-23.4805186494925, -46.6064495651773], [-23.5310168710302, -46.5183192247647], [-23.6975560667269, -46.6622080455428], [-23.4351257766421, -46.7173549176362], [-23.5697779990856, -46.7063874475017], [-23.5500777052671, -46.436317978013], [-23.6077619192942, -46.7221102192979], [-23.5989941996387, -46.5170185375604], [-23.5989941996387, -46.5170185375604], [-23.5077522762468, -46.3915477537664], [-23.5344673358776, -46.4918269246215], [-23.541510010945, -46.5455205729921], [-23.541510010945, -46.5455205729921], [-23.5042224911422, -46.5831877418911], [-23.5084671686536, -46.5643824000887], [-23.5903387050411, -46.4975034079316], [-23.7215005571239, -46.6887863240974], [-23.465375657583, -46.5841937732256], [-23.5653039344796, -46.6221365939418], [-23.5813594849181, -46.6789842573882], [-23.6536966586977, -46.6622115477044], [-23.6536966586977, -46.6622115477044], [-23.5859740641162, -46.5891452702181], [-23.5433971579387, -46.416615748319], [-23.6439091960271, -46.5882224031668], [-23.7028585843124, -46.6283693441014], [-23.4987597945419, -46.3792853648776], [-23.6763527730682, -46.6283874355023], [-23.7765694995286, -46.7054942783332], [-23.6090398075674, -46.4921747814616], [-23.5085487035563, -46.7343986880449], [-23.5873678606538, -46.4825333988665], [-23.4905850620544, -46.3956524169577], [-23.6075466447954, -46.4943889354574], [-23.5201359579451, -46.5378997041955], [-23.6618144736748, -46.6629400179657], [-23.6667000540338, -46.7219402039046], [-23.6509366192836, -46.6700725960197], [-23.4515324487392, -46.5703749921733], [-23.6725657640279, -46.6309924933939], [-23.577264760141, -46.6408826382441], [-23.5024356941087, -46.4281025224433], [-23.5195554195743, -46.5716131292087], [-23.6593454726981, -46.6712762662753], [-23.643519886866, -46.747653900585], [-23.7123463426362, -46.7023959726499], [-23.7123463426362, -46.7023959726499], [-23.5343765754012, -46.4294401238738], [-23.676521987604, -46.6799133873927], [-23.4856886950425, -46.7249073783147], [-23.702236331947, -46.6369588258912], [0.0, 0.0], [-23.5625061196001, -46.5965403513702], [-23.5928247098047, -46.806625479983], [-23.5438581687997, -46.5624568292376], [-23.5036548019513, -46.458524883739], [-23.6070240111167, -46.5374284268111], [-23.5551111819757, -46.4441158591913], [-23.5524885467935, -46.5523193595682], [-23.6903989949035, -46.6752325758608], [-23.5515545916502, -46.4626568261667], [-23.5399470289917, -46.455445795533], [-23.5288567836867, -46.4505690729027], [0.0, 0.0], [-23.5949466717508, -46.5349891166103], [-23.5101984942367, -46.3831422064903], [-23.7128611471652, -46.7818677077013], [-23.481248390103, -46.411493545247], [-23.5506704308328, -46.4684915095358], [-23.4782346793232, -46.4239854538078], [-23.5433666129858, -46.4450192873195], [-23.6435388026617, -46.7709519705191], [-23.5873678606538, -46.4825333988665], [-23.5873678606538, -46.4825333988665], [-23.5888792024669, -46.5541505955761], [-23.6018185635269, -46.5376863855577], [-23.7355835696046, -46.781180758811], [-23.4846812857034, -46.4780847330893], [-23.4573823383927, -46.6819722321299], [-23.4573823383927, -46.6819722321299], [-23.6403709851477, -46.6589787695174], [-23.5811815836504, -46.6486489290757], [-23.5987911737487, -46.7906407308499], [-23.5454246085607, -46.430618133029], [-23.5860355471291, -46.5383289649122], [-23.545677844873, -46.4099594883732], [0.0, 0.0], [0.0, 0.0], [-23.5880416782898, -46.5207432451725], [-23.6512151403475, -46.6784126559831], [0.0, 0.0], [0.0, 0.0], [0.0, 0.0], [-23.5356164072439, -46.4438385894283], [-23.5285722497707, -46.7372798271488], [0.0, 0.0], [0.0, 0.0], [0.0, 0.0], [0.0, 0.0], [0.0, 0.0], [0.0, 0.0], [-23.5318435500594, -46.5573327593922], [0.0, 0.0], [0.0, 0.0], [0.0, 0.0], [0.0, 0.0], [0.0, 0.0], [0.0, 0.0], [0.0, 0.0], [0.0, 0.0], [0.0, 0.0], [0.0, 0.0], [0.0, 0.0], [0.0, 0.0], [0.0, 0.0], [0.0, 0.0], [0.0, 0.0], [0.0, 0.0], [-23.6769775034392, -46.6447786065095], [-23.6268073706783, -46.7097775064239], [-23.4867186624923, -46.4663636008853], [0.0, 0.0], [0.0, 0.0], [-23.5213729329861, -46.7322883070777], [-23.5396213282657, -46.5090860645359], [-23.5396213282657, -46.5090860645359], [-23.4520535641242, -46.5688484068842], [-23.4520535641242, -46.5688484068842], [-23.4818027617062, -46.6760402628934], [-23.4818027617062, -46.6760402628934], [-23.474646041493, -46.6707679646592], [0.0, 0.0], [-23.5303884313042, -46.4444041354266], [-23.5172501553853, -46.5616304276009], [-23.6174712209669, -46.4836453276221], [-23.5988901061832, -46.51741721043], [-23.5778336841961, -46.7148767996301], [-23.7851555502597, -46.6845523331956], [-23.5796614182003, -46.5005620869962], [-23.5796614182003, -46.5005620869962], [-23.5047838736033, -46.4983064959597], [-23.5751808849937, -46.6882598894529], [-23.5968267819557, -46.456613962382], [-23.4659975231785, -46.7476730759072], [-23.5381402566032, -46.4696735543238], [-23.5487347131976, -46.4604781968437], [-23.4587264356377, -46.7012088108385], [-23.5030876090049, -46.6424482244108], [0.0, 0.0], [-23.6294572955621, -46.4604187170498], [-23.5795034244058, -46.6621515240038], [-23.6784641951956, -46.776685708066], [-23.4850122023994, -46.4585582387674], [-23.4850122023994, -46.4585582387674], [-23.4866848394325, -46.7373681991099], [-23.6068435475, -46.4890779414676], [-23.583898392532, -46.5346022782553], [-23.583898392532, -46.5346022782553], [-23.5120034103956, -46.5168661084637], [-23.4997095197317, -46.4465733375077], [0.0, 0.0], [0.0, 0.0], [-23.5662233586523, -46.7425286476735], [-23.5979039632678, -46.4586801418053], [-23.5548416113609, -46.450498683324], [-23.4934901174188, -46.4106874461942], [-23.6214858680486, -46.4570261184492], [-23.7406419992579, -46.7069844912023], [-23.4900881378635, -46.4721081486988], [-23.6009848940246, -46.4914076275972], [-23.6344701536521, -46.5858389212694], [-23.5790339906541, -46.6471703901537], [-23.6550665818402, -46.6388479300173], [-23.6550665818402, -46.6388479300173], [-23.6000364823043, -46.7332992810934], [-23.5141856068177, -46.418831654159], [-23.5388766336686, -46.4581034483537], [-23.5388766336686, -46.4581034483537], [-23.53817592336, -46.4689521252054], [-23.4783756441308, -46.6957970321659], [-23.4428807191408, -46.7203071183938], [-23.5988474731431, -46.4356198407414], [-23.5293661465484, -46.4975544394632], [-23.5293661465484, -46.4975544394632], [-23.5376175766423, -46.424816255419], [-23.5376175766423, -46.424816255419], [-23.5670522811211, -46.4890885071147], [-23.5670522811211, -46.4890885071147], [-23.4686975557727, -46.7032342226398], [-23.6292891637262, -46.4642147431045], [-23.6615338881176, -46.7815219620793], [-23.6249157994484, -46.5919332997489], [-23.6249157994484, -46.5919332997489], [-23.5050002460856, -46.3798261527441], [-23.6126770977808, -46.5226919306388], [-23.4708382768495, -46.6401285399117], [-23.6688258882341, -46.6810959067515], [-23.6688258882341, -46.6810959067515], [0.0, 0.0], [-23.467707621977, -46.6308008801354], [-23.5330771826055, -46.6184806713405], [-23.5282429710427, -46.45718547134], [-23.5282429710427, -46.45718547134], [-23.475483844817, -46.6741195176478], [-23.4888723299051, -46.3843435590562], [0.0, 0.0], [-23.43164575, -46.58991791], [-23.54221376, -46.41337552], [-23.60449205, -46.69621479], [-23.58885005, -46.75402627], [-23.63188208, -46.75463298], [-23.43461626, -46.57730196], [-23.5334032, -46.4521515], [-23.61961266, -46.43070096], [-23.55728347, -46.44465795], [-23.60365569, -46.45935449], [-23.45701311, -46.67443687], [-23.58340487, -46.78371651], [-23.56544699, -46.57675113], [-23.6594395, -46.74695154], [-23.52220244, -46.55889184], [-23.46286759, -46.70133564], [-23.51224025, -46.38446006], [-23.65740534, -46.63373763], [-23.46047674, -46.71128946], [-23.61378197, -46.71523721], [-23.55752766, -46.61882575], [-23.46732349, -46.66495432], [-23.46724952, -46.57212426], [-23.74383254, -46.7015908], [-23.6455615230609, -46.7808123902977], [-23.4522817970524, -46.7150154699787], [-23.604856592, -46.699922994], [-23.722049704, -46.693848289], [-23.5765219372345, -46.7221199518929], [0.0, 0.0], [-23.6593671698853, -46.6571512734663], [-23.742347641, -46.655188056], [-23.5955818140056, -46.5002481999065], [0.0, 0.0], [-23.4941736338749, -46.3929358397083], [-23.5272510629999, -46.5835681029999], [-23.6786278129999, -46.6348349589999], [-23.513923828, -46.438371627], [-23.431278655, -46.7263556849999], [-23.6137448369069, -46.5207334732917], [-23.6220039824878, -46.4719334942364], [-23.6252504186779, -46.696427740966], [-23.5821976301206, -46.7414278635693], [-23.6594206132105, -46.6794855721754], [-23.6594206132105, -46.6794855721754], [-23.6231938420645, -46.4756045624838], [-23.619806121, -46.45562695], [-23.4881464769999, -46.5878066339999], [-23.6129768410942, -46.4890824142453], [-23.513740132, -46.5521455689999], [-23.492157536, -46.3817576879999], [-23.769242811177, -46.7129112458323], [-23.5767620447272, -46.5428026345454], [0.0, 0.0], [-23.5339776029387, -46.420261116551], [-23.692035564, -46.7878556969999], [-23.692035564, -46.7878556969999], [-23.692035564, -46.7878556969999], [-23.6357412437647, -46.6175676122941], [-23.5862541555551, -46.5232812934912], [-23.5073467029999, -46.423258077], [-23.6141602030319, -46.5196997238331], [-23.4476509408732, -46.702824109004], [-23.5079947839999, -46.735951045], [-23.5079947839999, -46.735951045], [-23.5907925409999, -46.749468189], [-23.6324824946815, -46.7387594622601], [-23.6144507153846, -46.5066664564505], [-23.5698735281892, -46.7013193021819], [-23.7707298759296, -46.7165427557453], [-23.5993875732953, -46.4694934708695], [-23.591113730151, -46.7537760195413], [-23.5176092749999, -46.5815186089999], [-23.4518297767346, -46.6909929380388], [-23.4631442144581, -46.701312936671], [-23.4631442144581, -46.701312936671], [-23.5217684505714, -46.4989572654285], [-23.578931193, -46.487146009], [-23.590250454, -46.5052784205517], [-23.5115413303717, -46.6830047134468], [-23.551872536, -46.445143617], [-23.550707002, -46.758442397], [-23.4976702349999, -46.706825803], [-23.4380673962827, -46.5922533642966], [-23.581269603, -46.7527528749999], [-23.7330907604894, -46.6594748855463], [-23.5004151838261, -46.3987293970434], [-23.729637209, -46.6908146545999], [-23.6106489480611, -46.4750399883688], [-23.4785414754761, -46.5889640028571], [-23.6410708148666, -46.7834029936666], [-23.5549901806777, -46.4624984263513], [-23.520739912, -46.470118214], [-23.4991285739999, -46.5608945119999], [-23.6850042569999, -46.777172229], [-23.5925703939999, -46.7077842259999], [-23.6071914739724, -46.5309023129764], [-23.5477840243513, -46.6315725695135], [-23.516891335551, -46.3899954917407], [-23.6425882595763, -46.422722319776], [-23.5251348199999, -46.5570249419999], [-23.5251348199999, -46.5570249419999], [-23.5899801676, -46.5436904859149], [-23.5899801676, -46.5436904859149], [-23.5880638579999, -46.492966629], [-23.449437096407, -46.7009204782553], [-23.5156414025915, -46.4434471063569], [-23.5451353901778, -46.6150890622444], [-23.4844408339999, -46.7027207089999], [-23.5671878461636, -46.4265895053504], [-23.5621009330545, -46.7433128049454], [-23.56672617, -46.4170586178], [-23.690829523687, -46.7746760962742], [-23.5451170656469, -46.6434761404916], [-23.7220632474233, -46.691731313619], [-23.4872015989999, -46.460993478], [-23.4925110636125, -46.6799059494248], [-23.640525118, -46.447664914], [-23.505063482, -46.4566040359999], [-23.666370811671, -46.7191722192331], [-23.4711845879172, -46.7085503894888], [-23.555496015, -46.6631524749999], [-23.5177141704811, -46.5619087093537], [-23.5177141704811, -46.5619087093537], [-23.5257067996443, -46.3899727805233], [-23.5257067996443, -46.3899727805233], [-23.5714125955034, -46.4055514315136], [-23.5941624213627, -46.6507723221825], [-23.5310787120815, -46.4036352260433], [-23.623578726897, -46.641924163888], [-23.455836871, -46.7165082456666], [-23.6411107569391, -46.7045670112072], [-23.6014654873333, -46.5249770861111], [-23.6226627345, -46.4467358519999], [-23.6746091823849, -46.7478277196136], [-23.548673015081, -46.4181242171081], [-23.6155896986107, -46.5994019044375], [-23.6289265174827, -46.6775908515862], [-23.454673161, -46.766571733], [-23.6566971332, -46.6797561608], [-23.5008841905, -46.402570875], [-23.8561089229714, -46.7762163698857], [-23.8561089229714, -46.7762163698857], [-23.4907577249, -46.4300765708142], [-23.6347517704925, -46.4449152685074], [-23.5804741929999, -46.382602616], [-23.583774728, -46.6110337549999], [-23.7632207491774, -46.7056313662653], [-23.685133755, -46.6467920279999], [-23.6129768410942, -46.4890824142453], [-23.4605615961522, -46.5822267844174], [-23.5641314606683, -46.404411132825], [-23.6030866522827, -46.7955556736483], [-23.6525124876153, -46.7897074942307], [-23.6525124876153, -46.7897074942307], [-23.589944642762, -46.4846945206051], [-23.5792356489999, -46.504901074], [-23.6777327116199, -46.7852928215033], [-23.5902104458494, -46.5977150485653], [-23.6111596489999, -46.4879947489999], [-23.6227067089888, -46.4491643281847], [-23.5842281006365, -46.3972008677298], [-23.65709306, -46.745467517], [-23.4882513699999, -46.448181839], [-23.5466030866665, -46.6231470943585], [-23.6226876659999, -46.466353404], [-23.6315114914737, -46.4394944005613], [-23.6422216924327, -46.7525613176268], [-23.6746124167449, -46.7968727291986], [-23.5438617669888, -46.7440835504301], [-23.58626953, -46.748553363], [-23.553699158, -46.491629326], [-23.4591188323558, -46.689700539635], [-23.5994207101127, -46.5131033776707], [-23.5143082239671, -46.4546096596633], [-23.5644746863165, -46.6160125460719], [-23.5441894639999, -46.7413905619999], [-23.508189725, -46.7380801859999], [-23.549043293, -46.426060358], [-23.5518446879166, -46.6163639053333], [-23.609266868, -46.5918246259999], [-23.45539211, -46.59295911], [-23.5028379356428, -46.4053060755667], [-23.5028379356428, -46.4053060755667], [-23.6321832525948, -46.449501680681], [-23.4831885404724, -46.4694764915573], [-23.4831885404724, -46.4694764915573], [-23.5439547192649, -46.5814962025408], [-23.5156530715313, -46.6790180897889], [-23.6108192178888, -46.4447390767777], [-23.5871516978, -46.5875069910666], [-23.4316499732085, -46.5899375159079], [-23.5533543236216, -46.7502975452972], [-23.6425841393854, -46.7608749651734], [-23.5827205114933, -46.4911281130784], [-23.631456866, -46.608659395], [-23.5006329072667, -46.5363631457203], [-23.6148688210845, -46.5918335132861], [-23.5928874034605, -46.7761741815315], [-23.5702662861068, -46.4009438720563], [-23.7562467792272, -46.6712587712115], [-23.6513452629391, -46.7796797203062], [-23.6513452629391, -46.7796797203062], [-23.533991330157, -46.4263555996673], [-23.533991330157, -46.4263555996673], [-23.533991330157, -46.4263555996673], [-23.5350419289999, -46.6223711019999], [-23.6360547490537, -46.7756954653058], [-23.8047524247661, -46.6987257468733], [-23.5226889813233, -46.5186803356585], [-23.5020571539814, -46.5827973594653], [-23.5023279164594, -46.6810347069999], [-23.5374299662063, -46.5640764838809], [-23.619121013, -46.410750551], [-23.619121013, -46.410750551], [-23.5647592397036, -46.4183633986296], [-23.6093425082079, -46.5418788556463], [-23.45634022, -46.757827049], [-23.5986592752118, -46.3947730334184], [-23.6504984157844, -46.6085712456298], [-23.6231612481428, -46.4170122101428], [-23.600080966, -46.5083573759999], [-23.6386981632666, -46.67410146], [-23.6266409067777, -46.4770565181111], [-23.5201418249999, -46.4587903999999], [-23.6046899, -46.7314539], [-23.5570488712105, -46.6266031289473], [-23.52677552549, -46.4668492881671], [-23.5472293, -46.7422989], [-23.5624347323979, -46.6450477073293], [-23.6247149608944, -46.7578913910925], [-23.6604569955489, -46.7587691369645], [-23.631997595, -46.4659422848823], [-23.6005684707143, -46.7953613081428], [-23.5867110523035, -46.7626542469414], [-23.4728067947872, -46.6618857465471], [-23.6600082475769, -46.7499667235384], [-23.5608464465441, -46.6588679098235], [-23.5958988562752, -46.7349684822317], [-23.4443317933753, -46.7171116809972], [-23.6694039917779, -46.6333556491617], [-23.4683776864615, -46.5973757652307], [-23.7677317931091, -46.7168285874243], [-23.6537865181092, -46.7890250004955], [-23.6576086929999, -46.741771418], [-23.5208325848723, -46.4234603844787], [-23.5886, -46.7694], [-23.613390576, -46.742579775], [-23.5348773957622, -46.4715472891203], [-23.5565638787608, -46.669589265855], [-23.386770655, -46.568579679], [-23.489387096, -46.567847286], [-23.7109503441153, -46.7082816412249], [-23.556566426, -46.396860077], [-23.5555082797588, -46.6560627956078], [-23.6452266074545, -46.65254523], [-23.4701312596606, -46.662719481579], [-23.6773980282418, -46.7609805182015], [-23.5115583891829, -46.4706845403536], [-23.4799016081511, -46.6900597696679], [-23.5049360923046, -46.6946489413233], [-23.5318708735454, -46.4210812343181], [-23.6148104516517, -46.4768046941263], [-23.5824009572807, -46.627332742818], [-23.6480404829999, -46.6547402479999], [-23.6346480308279, -46.6157366171737], [-23.6377381674, -46.7753315836], [-23.4950652667919, -46.678738338024], [-23.4831479929913, -46.4692628699707], [-23.6220349118195, -46.4738779855889], [-23.610561165, -46.485990047], [-23.6190877183373, -46.6348350840808], [-23.5997817439754, -46.6986143388298], [-23.5821043612478, -46.7760690797807], [-23.6379954872449, -46.7372474123811], [-23.6484707994, -46.7850680725777], [-23.5113565562123, -46.4046025780375], [-23.5113565562123, -46.4046025780375], [-23.6071960680248, -46.527740092918], [-23.5962585793571, -46.5995789772142], [-23.5038843419999, -46.7622398899999], [-23.729637209, -46.6908146545999], [-23.5031847354152, -46.4106760443245], [-23.5183847565438, -46.456305654837], [-23.5224114349099, -46.4081066258475], [-23.5528287599032, -46.6253360415923], [-23.5565638787608, -46.669589265855], [-23.6450961477986, -46.7296753257287], [-23.623240911, -46.6190943756], [-23.5998854979523, -46.5606804799523], [-23.697535064, -46.778767461], [-23.4333351555483, -46.7199080681119], [-23.573971577929, -46.4308452501757], [-23.573971577929, -46.4308452501757], [-23.5665197605442, -46.5089470040178], [-23.580895154, -46.7519264699999], [-23.4790185856896, -46.5713755063448], [-23.539146779, -46.470784436], [-23.6614372962201, -46.6394388387256], [-23.4761479033361, -46.6794073480955], [-23.5877319368918, -46.7267181939189], [-23.4905088537499, -46.705942059], [-23.646959795147, -46.7029824492058], [-23.6771398329398, -46.7944064132932], [-23.6473626718346, -46.7365069417994], [-23.6193658367218, -46.462586200539], [-23.6459513097715, -46.773779984163], [-23.4612409608219, -46.6531737407588], [-23.4833017214999, -46.673665404], [-23.4802787331285, -46.5621991952981], [-23.5392882687656, -46.6050599004218], [-23.6868371018833, -46.689651136994], [-23.6869354912016, -46.7559264695794], [-23.494357091287, -46.403575762069], [-23.6563395732551, -46.7543001856477], [-23.674767087, -46.749111859], [-23.5818809652495, -46.7552269475125], [-23.5818809652495, -46.7552269475125], [-23.5759150917297, -46.6125336925946], [-23.5297136044444, -46.6205174108], [-23.585117457, -46.673226174], [-23.4920790494499, -46.6622643711], [-23.6916358451768, -46.7862280782602], [-23.7333763575799, -46.6597502812348], [-23.5521057199999, -46.442471461], [-23.5847084372631, -46.3845052823684], [-23.6061506164468, -46.6239978086383], [-23.6451192328823, -46.6361142317647], [-23.4949496593194, -46.5834465888267], [-23.5119747095728, -46.6706690865435], [-23.5092200815116, -46.5242170310793], [-23.7694671959401, -46.7149589733527], [-23.729637209, -46.6908146545999], [-23.6114331666666, -46.441827838], [-23.6043959020599, -46.4687438195714], [-23.5352223476003, -46.6361875353959], [-23.5402147784863, -46.718208473641], [-23.6494367208551, -46.7793888514742], [-23.6510558979626, -46.7743140722705], [-23.5076387865791, -46.7038841298439], [-23.5320236897749, -46.4623022276145], [-23.5379474077299, -46.4102851748968], [-23.5844642659999, -46.396090763], [-23.5412565289565, -46.6443870331884], [-23.5119941362357, -46.6953592306341], [-23.5130146788196, -46.6967051611147], [-23.5836161515808, -46.7393127496915], [-23.6758377148793, -46.7846871549889], [-23.5946286785339, -46.446628513223], [-23.601638946, -46.6702125269999], [-23.410487374, -46.7614327749999], [-23.4400312726735, -46.7192927433349], [-23.4973224699823, -46.4401027446151], [-23.5797797179033, -46.5701119019708], [-23.6117952888055, -46.6391209932352], [-23.6494783774086, -46.7745464310738], [-23.6871396331428, -46.7632514952857], [-23.61821, -46.60321], [-23.6877, -46.7911], [-23.5384402903413, -46.5469513530864], [-23.602256841014, -46.4800442976955], [-23.6772916023333, -46.792515250606], [-23.5201699522843, -46.5010276320265], [-23.4118389442865, -46.7408094138397], [-23.5728730832826, -46.7344256506374], [-23.5528044628888, -46.5412592708889], [-23.8575866306899, -46.7746439931114], [-23.6677292902542, -46.7855774620938], [-23.4920218315069, -46.4019364820807], [-23.52814816215, -46.5284374926], [-23.6438729942274, -46.7838310173568], [-23.5154607, -46.4642131], [-23.5385154109012, -46.5764059258271], [-23.6032494746774, -46.5341696457419], [-23.6048774999999, -46.6111405739999], [-23.608430420846, -46.6974744681159], [-23.6483233414657, -46.7318997546684], [-23.7422335566125, -46.6895533815014], [-23.541743555, -46.648889126], [-23.826711682054, -46.7258043374594], [-23.683319367, -46.791475729], [-23.6538054783434, -46.7360295343516], [-23.5357506038461, -46.4382111910769], [-23.4888417180976, -46.3752377099927], [-23.491006240664, -46.4529988384621], [-23.693454055, -46.785157774], [-23.6614321619212, -46.7256796445309], [-23.5414927499794, -46.6454904659741], [-23.5119941362357, -46.6953592306341], [-23.6419603669999, -46.7586406025555], [-23.6761684042547, -46.6856018044752], [-23.6911570263, -46.677847499], [-23.544619029923, -46.4338159392692], [-23.544619029923, -46.4338159392692], [-23.5667107848333, -46.7538515486666], [-23.4881413543333, -46.6024218366666], [-23.4601522797484, -46.6872786520548], [-23.621948595, -46.4535914167], [-23.621948595, -46.4535914167], [-23.5995598594851, -46.5194420306744], [-23.5429320592767, -46.467429759912], [-23.5408732617471, -46.6690197136286], [-23.6723438189999, -46.763989173], [-23.5373940079473, -46.6190496146316], [-23.46831929, -46.7233225649999], [-23.4996062802792, -46.7091196692342], [-23.4518496988204, -46.6991455459789], [-23.7030669406217, -46.6311707353689], [-23.457836773152, -46.6950055270769], [-23.5184843489999, -46.5762637289999], [-23.6869244022143, -46.6577672616428], [-23.62349189, -46.477395625], [-23.6031135927547, -46.606538518132], [-23.493370884008, -46.6896571260408], [-23.5619130916825, -46.4018631337321], [-23.6231364929999, -46.475922555], [-23.6231364929999, -46.475922555], [-23.491528471, -46.627187244], [-23.5894924875937, -46.5989701706562], [-23.6220686040256, -46.6878600785384], [-23.5537710899999, -46.753151568], [-23.461823962, -46.681552283], [-23.673266367787, -46.7386428971742], [-23.5966285599999, -46.4355767719999], [-23.5618697479999, -46.48756202], [-23.5738300126784, -46.7194298537362], [-23.4560459059999, -46.681644322], [-23.6450313173854, -46.7383815983225], [-23.519345585397, -46.7050018061911], [-23.6814431652678, -46.7765322654643], [-23.530828597244, -46.418158027691], [-23.6013954733281, -46.5956790659193], [-23.5678981844985, -46.5958255763218], [-23.4755632, -46.5698586], [-23.6309189, -46.6664803], [-23.4677189372857, -46.6522664987142], [-23.4758603099392, -46.6567654241379], [-23.5316050901234, -46.6770388475829], [-23.5100007189999, -46.55057571], [-23.541743555, -46.648889126], [-23.6481441524935, -46.748421389627], [-23.5215446564888, -46.4694376779329], [-23.4502113637647, -46.7887818049411], [-23.5656, 46.61166], [-23.6481, -46.7484], [-23.6481441524935, -46.748421389627], [-23.6481441524935, -46.748421389627], [-23.532187445, -46.437415562], [-23.529099244976, -46.7390268652108], [-23.485497032378, -46.6288322552766], [-23.61712793, -46.702423], [-23.5418359063693, -46.6488899064943], [-23.5541112908571, -46.6405214605714], [-23.541743555, -46.648889126], [-23.6702020675885, -46.7122932054242], [-23.517813282, -46.4293189402307], [-23.5362737173792, -46.6486964179999], [-23.5448408, -46.6304858299999], [-23.5420012434166, -46.6133130566833], [-23.4833017214999, -46.673665404], [-23.541743555, -46.648889126], [-23.541743555, -46.648889126], [-23.4749150830909, -46.6985326756363], [-23.476784319, -46.6786001856666], [-23.7725082258752, -46.6815616114412], [-23.5565638787608, -46.669589265855], [-23.5126326143354, -46.6262775856068], [-23.555771329, -46.6392872989999], [-23.5213500918293, -46.4720921014993], [-23.6458302883928, -46.6592613246428], [-23.681539669, -46.677507345], [-23.489948587, -46.457447451], [-23.5259381944461, -46.4026888055635], [-23.5912592284817, -46.4019823628588], [-23.63743729, -46.74506585], [-23.617068662, -46.722504569], [-23.6666451283074, -46.6525476550671], [-23.7639982621666, -46.6850861710476], [-23.597770538539, -46.6439977723022], [-23.5003548349999, -46.4717771369999], [-23.5003548349999, -46.4717771369999], [-23.450847593792, -46.697083007358], [-23.5236924972785, -46.5682285804628], [-23.5341711181837, -46.5706461408159], [-23.6768545597635, -46.7805484115532], [-23.5565638787608, -46.669589265855], [-23.4891317939999, -46.4796569599999], [-23.5199226654483, -46.4775074716952], [-23.5337941738947, -46.6431278646315], [-23.6375945548572, -46.4496939290241], [-23.4410479095917, -46.7168792117226], [-23.5303884309999, -46.444404135], [-23.5115556715348, -46.6248022691226], [-23.528355796315, -46.430851099418], [-23.5565638787608, -46.669589265855], [-23.6521192659599, -46.7609655356], [-23.6130384737223, -46.7225329135657], [-23.5565538591445, -46.6239761738322], [-23.485497032378, -46.6288322552766], [-23.5341711181837, -46.5706461408159], [-23.457125816, -46.6853820819999], [-23.424222485, -46.584403156], [-23.6233904, -46.4907892], [-23.5889104, -46.5679023], [-23.5672053927207, -46.5107775670936], [-23.5664101, -46.4093565], [-23.543885444, -46.41067945], [-23.678492779, -46.6409438429999], [-23.7197641647314, -46.6747283742179], [-23.504327369, -46.4112998149999], [-23.5427592789999, -46.648906386], [-23.6819480707825, -46.7475179814708], [-23.5437933649999, -46.436400164], [-23.5536672754215, -46.4055348913967], [-23.4931301546153, -46.5797554043076], [-23.5893014914504, -46.5551989786918], [-23.5845006816236, -46.4021344738282], [-23.5845006816236, -46.4021344738282], [-23.550234533, -46.639254567], [-23.4644918364377, -46.6892657453423], [-23.6485571845731, -46.7498136922798], [-23.4867275251941, -46.5621329637311], [-23.520380324, -46.556459735], [-23.5154325425926, -46.4515655679629], [-23.4590746471872, -46.5857733027396], [-23.6026037419999, -46.6148704999999], [-23.4368900167419, -46.7286105185806], [-23.5881894613218, -46.4089728048112], [-23.5906227025757, -46.5001681167879], [-23.5072346059907, -46.4835886747574], [-23.5425892700419, -46.6351822517461], [-23.5218893565789, -46.6393216626315], [-23.649500996125, -46.597479296], [-23.6142769734717, -46.5018218800652], [-23.538568316625, -46.6455102455416], [-23.554882092, -46.673080431], [-23.5847964223184, -46.7284063474019], [-23.570220083616, -46.627581493624], [-23.6344480431618, -46.7498816568488], [-23.42914388, -46.74525426], [-23.6183697543673, -46.5127785812653], [-23.683680673782, -46.7811905916504], [-23.5295231009453, -46.4338821502968], [-23.5522066203537, -46.4770466887416], [-23.5349302289505, -46.5242438021232], [-23.4956072351348, -46.7251479219675], [-23.4766627139999, -46.7495158789999], [0.0, 0.0], [-23.6896700968181, -46.7432271659999], [-23.6040670432, -46.6340769849333], [-23.6040670432, -46.6340769849333], [-23.4812824838235, -46.571454000647], [-23.6744790731551, -46.7823581282605], [-23.518423474, -46.387896849], [-23.491578545, -46.5694887499999], [-23.8181700914406, -46.7051525655593], [-23.6173107327668, -46.4296298381224], [-23.5382907952261, -46.6015186927911], [-23.5547733752254, -46.4154657575849], [-23.5547733752254, -46.4154657575849], [-23.5353631112542, -46.641940928553], [-23.5350972429915, -46.622370993038], [-23.693703468, -46.6335707599999], [-23.5187913332214, -46.415124641503], [-23.5619642791742, -46.3988580526636], [-23.530261219, -46.664189489], [-23.4794822896874, -46.679010622769], [-23.6297718274149, -46.4520575032913], [-23.498302682, -46.4726385869999], [-23.7315749908853, -46.7765551297226], [-23.6059713229999, -46.72327451], [-23.4688879321923, -46.6926436863653], [-23.465347500037, -46.6736593456296], [-23.5216682215454, -46.5791995905454], [-23.5400193890539, -46.5440264619178], [-23.7390936443584, -46.6668456738627], [-23.5617190077813, -46.6285478005362], [-23.8663797993355, -46.6837828785449], [-23.4743413329771, -46.7149666811733], [-23.6117479339999, -46.5810050429999], [-23.700780117, -46.773835649], [-23.55511494, -46.6042348509999], [-23.7573677, -46.6789221], [-23.4518156849999, -46.7105821009999], [-23.5820889668787, -46.5833353493636], [-23.6175172912222, -46.450838927137], [-23.6114818259999, -46.7279471429999], [-23.6861267135, -46.709649042], [-23.6020406, -46.4840261], [-23.68799188, -46.7854473259999]],\n",
              "                {&quot;blur&quot;: 15, &quot;maxZoom&quot;: 18, &quot;minOpacity&quot;: 0.5, &quot;radius&quot;: 25}\n",
              "            ).addTo(map_7046b0c76ee2a1a3613a6cc081dbf60d);\n",
              "        \n",
              "&lt;/script&gt;\" style=\"position:absolute;width:100%;height:100%;left:0;top:0;border:none !important;\" allowfullscreen webkitallowfullscreen mozallowfullscreen></iframe></div></div>"
            ],
            "text/plain": [
              "<folium.folium.Map at 0x287498910>"
            ]
          },
          "execution_count": 33,
          "metadata": {},
          "output_type": "execute_result"
        }
      ],
      "source": [
        "start_lat_lon=[-23.58633467412642, -46.60418260319519]\n",
        "\n",
        "coordenadas=[]\n",
        "for lat,long in zip(dfClean.LATITUDE,dfClean.LONGITUDE):\n",
        "  try:\n",
        "    lat_float = float(lat)\n",
        "    long_float = float(long)\n",
        "    coordenadas.append([lat_float,long_float])\n",
        "  except:\n",
        "    pass\n",
        "\n",
        "sp=folium.Map(location=[start_lat_lon[0],start_lat_lon[1]],zoom_start=10,tiles='cartodbpositron')\n",
        "sp.add_child(plugins.HeatMap(coordenadas))\n",
        "sp"
      ]
    },
    {
      "cell_type": "code",
      "execution_count": 9,
      "metadata": {
        "id": "iNMVEEwJctcN"
      },
      "outputs": [],
      "source": [
        "crimedata2 = pd.DataFrame(df[\"CRIME\"].value_counts().astype(int))\n",
        "crimedata2.to_json(\"crimeagg.json\")\n",
        "crimedata2 = crimedata2.reset_index()\n",
        "crimedata2.columns = [\"District\", \"Number\"]"
      ]
    },
    {
      "cell_type": "code",
      "execution_count": 37,
      "metadata": {},
      "outputs": [
        {
          "data": {
            "text/plain": [
              "Zona Leste    953\n",
              "Zona Sul      618\n",
              "Zona Oeste    570\n",
              "Zona Norte    539\n",
              "Centro        173\n",
              "-             116\n",
              "Name: ZONE_FROM_POSTCODE, dtype: int64"
            ]
          },
          "execution_count": 37,
          "metadata": {},
          "output_type": "execute_result"
        }
      ],
      "source": [
        "dfClean.ZONE_FROM_POSTCODE.value_counts()"
      ]
    },
    {
      "cell_type": "code",
      "execution_count": null,
      "metadata": {},
      "outputs": [],
      "source": []
    }
  ],
  "metadata": {
    "colab": {
      "authorship_tag": "ABX9TyOvYto16lgchn06HHE2+nrd",
      "include_colab_link": true,
      "provenance": []
    },
    "kernelspec": {
      "display_name": "Python 3.9.15 64-bit",
      "language": "python",
      "name": "python3"
    },
    "language_info": {
      "codemirror_mode": {
        "name": "ipython",
        "version": 3
      },
      "file_extension": ".py",
      "mimetype": "text/x-python",
      "name": "python",
      "nbconvert_exporter": "python",
      "pygments_lexer": "ipython3",
      "version": "3.9.15"
    },
    "vscode": {
      "interpreter": {
        "hash": "a665b5d41d17b532ea9890333293a1b812fa0b73c9c25c950b3cedf1bebd0438"
      }
    }
  },
  "nbformat": 4,
  "nbformat_minor": 0
}
