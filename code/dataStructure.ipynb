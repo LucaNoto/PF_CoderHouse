{
 "cells": [
  {
   "cell_type": "code",
   "execution_count": 1,
   "metadata": {},
   "outputs": [],
   "source": [
    "import os\n",
    "import pandas as pd"
   ]
  },
  {
   "cell_type": "markdown",
   "metadata": {},
   "source": [
    "### Como linkar os dados das diferentes tabelas?"
   ]
  },
  {
   "cell_type": "markdown",
   "metadata": {},
   "source": [
    "<img src=\"../equiColunas.png\" alt=\"Alternative text\" />"
   ]
  },
  {
   "cell_type": "code",
   "execution_count": null,
   "metadata": {},
   "outputs": [],
   "source": [
    "# Não usar a base de Registros de obitos do IML pq não necessariamente carcateriza moetes violentas/crimes\n",
    "# Base de feminicídios é um subset da base de homicídios (Feminicídio é o assassinato de uma mulher pelo simples fato de ser mulher)\n",
    "# enriquecer a base de homicídios com a de feminicídios\n",
    "# latrocionio não é excludente, pode consolidar junto\n",
    "# LCSM tbb\n"
   ]
  },
  {
   "cell_type": "code",
   "execution_count": 1,
   "metadata": {},
   "outputs": [],
   "source": [
    "import pandas as pd"
   ]
  },
  {
   "cell_type": "code",
   "execution_count": 68,
   "metadata": {},
   "outputs": [
    {
     "name": "stderr",
     "output_type": "stream",
     "text": [
      "/opt/homebrew/lib/python3.9/site-packages/IPython/core/interactiveshell.py:3251: DtypeWarning: Columns (11,21,26,32) have mixed types.Specify dtype option on import or set low_memory=False.\n",
      "  exec(code_obj, self.user_global_ns, self.user_ns)\n"
     ]
    }
   ],
   "source": [
    "dfHD = pd.read_csv(os.getcwd()+f\"/../data/compiledData/fullDf_Homicidio_2017a2022.csv\",sep=\"|\")\n",
    "dfMS = pd.read_csv(os.getcwd()+f\"/../data/compiledData/fullDf_MorteSuspeita_2013a2022.csv\",sep=\"|\")\n",
    "dfMDIP = pd.read_csv(os.getcwd()+f\"/../data/compiledData/fullDf_MDIP_2013a2022.csv\",sep=\"|\")\n",
    "dfLatro = pd.read_csv(os.getcwd()+f\"/../data/compiledData/fullDf_Latrocinio_2018a2022.csv\",sep=\"|\")\n",
    "dfLCSM = pd.read_csv(os.getcwd()+f\"/../data/compiledData/fullDf_LCSM_2016a2022.csv\",sep=\"|\")\n",
    "dfFem = pd.read_csv(os.getcwd()+f\"/../data/compiledData/fullDf_Feminicidio_2015a2022.csv\",sep=\"|\")\n"
   ]
  },
  {
   "cell_type": "code",
   "execution_count": 69,
   "metadata": {},
   "outputs": [],
   "source": [
    "dfHD = dfHD[(dfHD['DEPARTAMENTO_CIRC']=='DECAP') & (dfHD['ANO_BO']>=2019)]\n",
    "dfHD['uniqueKey'] = dfHD['DP - CIRCUNSCRICAO '].astype(str)+dfHD['NUM_BO'].astype(str)+dfHD['ANO_BO'].astype(str)\n",
    "\n",
    "dfMS = dfMS[(dfMS['DEP_CIRCUNSCRICAO']=='DECAP') & (dfMS['ANO_REGISTRO_BO']>=2019)]\n",
    "dfMS['uniqueKey'] = dfMS['DP_CIRCUNSCRICAO'].astype(str)+dfMS['NUM_BO'].astype(str)+dfMS['ANO_BO'].astype(str)\n",
    "\n",
    "dfMDIP = dfMDIP[(dfMDIP['DEPARTAMENTO_\\nCIRC']=='DECAP') & (dfMDIP['ano'].astype(int)>=2019)]\n",
    "dfMDIP['uniqueKey'] = dfMDIP['CIRCUNSCRIÇÃO'].astype(str)+dfMDIP['NUM_BO'].astype(str)+dfMDIP['ano'].astype(str)\n",
    "\n",
    "dfLatro = dfLatro[(dfLatro['DEPARTAMENTO_CIRC']=='DECAP') & (dfLatro['ANO_BO']>=2019)]\n",
    "dfLatro['uniqueKey'] = dfLatro['DP - CIRCUNSCRICAO '].astype(str)+dfLatro['NUM_BO'].astype(str)+dfLatro['ANO_BO'].astype(str)\n",
    "\n",
    "dfLCSM = dfLCSM[(dfLCSM['DEPARTAMENTO_CIRCUNSCRICAO']=='DECAP') & (dfLCSM['ANO ESTATISTICA'].astype(int)>=2019)]\n",
    "dfLCSM['uniqueKey'] = dfLCSM['DP_CIRCUNSCRICAO'].astype(str)+dfLCSM['NUM_BO'].astype(str)+dfLCSM['ANO_BO'].astype(str)\n",
    "\n",
    "dfFem = dfFem[(dfFem['DEPARTAMENTO_CIRCUNSCRICAO']=='DECAP') & (dfFem['ANO ESTATISTICA'].astype(int)>=2019)]\n",
    "dfFem['uniqueKey'] = dfFem['DP_CIRCUNSCRICAO '].astype(str)+dfFem['NUM_BO'].astype(str)+dfFem['ANO_BO'].astype(str)"
   ]
  },
  {
   "cell_type": "code",
   "execution_count": null,
   "metadata": {},
   "outputs": [],
   "source": [
    "for i in list(dfFem['uniqueKey']):\n",
    "    if i in list(dfHD['uniqueKey']):\n",
    "        print(i)\n",
    "\n",
    "\n",
    "###### Results #########\n",
    "\n",
    "# dfMS: 0 overlap\n",
    "# dfMDIP 0 overlap\n",
    "# dfLatro 0 overlap\n",
    "# dfLCSM: 1 overlap\n",
    "# dfFem: 138 overlaps\n"
   ]
  },
  {
   "cell_type": "code",
   "execution_count": 75,
   "metadata": {},
   "outputs": [
    {
     "name": "stdout",
     "output_type": "stream",
     "text": [
      "3604\n"
     ]
    }
   ],
   "source": [
    "print(len(dfHD)+len(dfMS)+len(dfMDIP)+len(dfLatro)+len(dfLCSM))"
   ]
  },
  {
   "cell_type": "markdown",
   "metadata": {},
   "source": [
    "# Descrevendo as variáveis de cada tabela\n",
    "\n",
    "### <ins>Furto de Celulares, Roubo de Celulares, Furto de Veículos e roubo de veículos</ins>\n",
    "\n",
    "\n",
    "| COLUNA                   | TIPO | DESCRICAO |\n",
    "|--------------------------|------|-----------|\n",
    "| ANO_BO                   | teste     |           |\n",
    "| NUM_BO                   |      |           |\n",
    "| NUMERO_BOLETIM           |      |           |\n",
    "| BO_INICIADO              |      |           |\n",
    "| BO_EMITIDO               |      |           |\n",
    "| DATAOCORRENCIA           |      |           |\n",
    "| HORAOCORRENCIA           |      |           |\n",
    "| PERIDOOCORRENCIA         |      |           |\n",
    "| DATACOMUNICACAO          |      |           |\n",
    "| DATAELABORACAO           |      |           |\n",
    "| BO_AUTORIA               |      |           |\n",
    "| FLAGRANTE                |      |           |\n",
    "| NUMERO_BOLETIM_PRINCIPAL |      |           |\n",
    "| LOGRADOURO               |      |           |\n",
    "| NUMERO                   |      |           |\n",
    "| BAIRRO                   |      |           |\n",
    "| CIDADE                   |      |           |\n",
    "| UF                       |      |           |\n",
    "| LATITUDE                 |      |           |\n",
    "| LONGITUDE                |      |           |\n",
    "| DESCRICAOLOCAL           |      |           |\n",
    "| EXAME                    |      |           |\n",
    "| SOLUCAO                  |      |           |\n",
    "| DELEGACIA_NOME           |      |           |\n",
    "| DELEGACIA_CIRCUNSCRICAO  |      |           |\n",
    "| ESPECIE                  |      |           |\n",
    "| RUBRICA                  |      |           |\n",
    "| DESDOBRAMENTO            |      |           |\n",
    "| STATUS                   |      |           |\n",
    "| TIPOPESSOA               |      |           |\n",
    "| VITIMAFATAL              |      |           |\n",
    "| NATURALIDADE             |      |           |\n",
    "| NACIONALIDADE            |      |           |\n",
    "| SEXO                     |      |           |\n",
    "| DATANASCIMENTO           |      |           |\n",
    "| IDADE                    |      |           |\n",
    "| ESTADOCIVIL              |      |           |\n",
    "| PROFISSAO                |      |           |\n",
    "| GRAUINSTRUCAO            |      |           |\n",
    "| CORCUTIS                 |      |           |\n",
    "| NATUREZAVINCULADA        |      |           |\n",
    "| TIPOVINCULO              |      |           |\n",
    "| RELACIONAMENTO           |      |           |\n",
    "| PARENTESCO               |      |           |\n",
    "| PLACA_VEICULO            |      |           |\n",
    "| UF_VEICULO               |      |           |\n",
    "| CIDADE_VEICULO           |      |           |\n",
    "| DESCR_COR_VEICULO        |      |           |\n",
    "| DESCR_MARCA_VEICULO      |      |           |\n",
    "| ANO_FABRICACAO           |      |           |\n",
    "| ANO_MODELO               |      |           |\n",
    "| DESCR_TIPO_VEICULO       |      |           |\n",
    "| QUANT_CELULAR            |      |           |\n",
    "| MARCA_CELULAR            |      |           |"
   ]
  }
 ],
 "metadata": {
  "kernelspec": {
   "display_name": "Python 3.9.13 64-bit",
   "language": "python",
   "name": "python3"
  },
  "language_info": {
   "codemirror_mode": {
    "name": "ipython",
    "version": 3
   },
   "file_extension": ".py",
   "mimetype": "text/x-python",
   "name": "python",
   "nbconvert_exporter": "python",
   "pygments_lexer": "ipython3",
   "version": "3.9.13"
  },
  "orig_nbformat": 4,
  "vscode": {
   "interpreter": {
    "hash": "b0fa6594d8f4cbf19f97940f81e996739fb7646882a419484c72d19e05852a7e"
   }
  }
 },
 "nbformat": 4,
 "nbformat_minor": 2
}
