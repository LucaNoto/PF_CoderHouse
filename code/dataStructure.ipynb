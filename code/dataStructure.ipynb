{
 "cells": [
  {
   "cell_type": "code",
   "execution_count": 1,
   "metadata": {},
   "outputs": [],
   "source": [
    "import os\n",
    "import pandas as pd"
   ]
  },
  {
   "cell_type": "markdown",
   "metadata": {},
   "source": [
    "### Como linkar os dados das diferentes tabelas?"
   ]
  },
  {
   "cell_type": "markdown",
   "metadata": {},
   "source": [
    "<img src=\"../equiColunas.png\" alt=\"Alternative text\" />"
   ]
  },
  {
   "cell_type": "code",
   "execution_count": 2,
   "metadata": {},
   "outputs": [],
   "source": [
    "# Não usar a base de Registros de obitos do IML pq não necessariamente carcateriza moetes violentas/crimes\n",
    "# Base de feminicídios é um subset da base de homicídios (Feminicídio é o assassinato de uma mulher pelo simples fato de ser mulher)\n",
    "# enriquecer a base de homicídios com a de feminicídios\n",
    "# latrocionio não é excludente, pode consolidar junto\n",
    "# LCSM tbb\n"
   ]
  },
  {
   "cell_type": "code",
   "execution_count": 3,
   "metadata": {},
   "outputs": [
    {
     "name": "stderr",
     "output_type": "stream",
     "text": [
      "/var/folders/7t/z5pm4kzs2633wr81yfqjlcj80000gn/T/ipykernel_47772/2876896918.py:1: DtypeWarning: Columns (11,21,26) have mixed types. Specify dtype option on import or set low_memory=False.\n",
      "  dfHD = pd.read_csv(os.getcwd()+f\"/../data/compiledData/fullDf_Homicidio_2017a2022.csv\",sep=\"|\")\n"
     ]
    }
   ],
   "source": [
    "dfHD = pd.read_csv(os.getcwd()+f\"/../data/compiledData/fullDf_Homicidio_2017a2022.csv\",sep=\"|\")\n",
    "dfMS = pd.read_csv(os.getcwd()+f\"/../data/compiledData/fullDf_MorteSuspeita_2013a2022.csv\",sep=\"|\")\n",
    "dfMDIP = pd.read_csv(os.getcwd()+f\"/../data/compiledData/fullDf_MDIP_2013a2022.csv\",sep=\"|\")\n",
    "dfLatro = pd.read_csv(os.getcwd()+f\"/../data/compiledData/fullDf_Latrocinio_2018a2022.csv\",sep=\"|\")\n",
    "dfLCSM = pd.read_csv(os.getcwd()+f\"/../data/compiledData/fullDf_LCSM_2016a2022.csv\",sep=\"|\")\n",
    "dfFem = pd.read_csv(os.getcwd()+f\"/../data/compiledData/fullDf_Feminicidio_2015a2022.csv\",sep=\"|\")\n"
   ]
  },
  {
   "cell_type": "code",
   "execution_count": 4,
   "metadata": {},
   "outputs": [],
   "source": [
    "dfHD = dfHD[(dfHD['DEPARTAMENTO_CIRC']=='DECAP')]\n",
    "dfHD['uniqueKey'] = dfHD['DP - CIRCUNSCRICAO '].astype(str)+dfHD['NUM_BO'].astype(str)+dfHD['ANO_BO'].astype(str)\n",
    "dfHD['crime'] = 'Homicídio Doloso'\n",
    "\n",
    "dfMS = dfMS[(dfMS['DEP_CIRCUNSCRICAO']=='DECAP')]\n",
    "dfMS['uniqueKey'] = dfMS['DP_CIRCUNSCRICAO'].astype(str)+dfMS['NUM_BO'].astype(str)+dfMS['ANO_BO'].astype(str)\n",
    "dfMS['crime'] = 'Morte Suspeita'\n",
    "\n",
    "dfMDIP = dfMDIP[(dfMDIP['DEPARTAMENTO_\\nCIRC']=='DECAP')]\n",
    "dfMDIP['uniqueKey'] = dfMDIP['CIRCUNSCRIÇÃO'].astype(str)+dfMDIP['NUM_BO'].astype(str)+dfMDIP['ano'].astype(str)\n",
    "dfMDIP['crime'] = 'Morte Decorrente de Intervenção Policial'\n",
    "\n",
    "dfLatro = dfLatro[(dfLatro['DEPARTAMENTO_CIRC']=='DECAP')]\n",
    "dfLatro['uniqueKey'] = dfLatro['DP - CIRCUNSCRICAO '].astype(str)+dfLatro['NUM_BO'].astype(str)+dfLatro['ANO_BO'].astype(str)\n",
    "dfLatro['crime'] = 'Latrocínio'\n",
    "\n",
    "dfLCSM = dfLCSM[(dfLCSM['DEPARTAMENTO_CIRCUNSCRICAO']=='DECAP')]\n",
    "dfLCSM['uniqueKey'] = dfLCSM['DP_CIRCUNSCRICAO'].astype(str)+dfLCSM['NUM_BO'].astype(str)+dfLCSM['ANO_BO'].astype(str)\n",
    "dfLCSM['crime'] = 'Lesão Corporal Seguida de Morte'\n",
    "\n",
    "dfFem = dfFem[(dfFem['DEPARTAMENTO_CIRCUNSCRICAO']=='DECAP')]\n",
    "dfFem['uniqueKey'] = dfFem['DP_CIRCUNSCRICAO '].astype(str)+dfFem['NUM_BO'].astype(str)+dfFem['ANO_BO'].astype(str)\n",
    "dfFem['crime'] = 'Feminicidio'"
   ]
  },
  {
   "cell_type": "code",
   "execution_count": null,
   "metadata": {},
   "outputs": [],
   "source": []
  },
  {
   "cell_type": "code",
   "execution_count": 6,
   "metadata": {},
   "outputs": [
    {
     "data": {
      "text/plain": [
       "3653"
      ]
     },
     "execution_count": 6,
     "metadata": {},
     "output_type": "execute_result"
    }
   ],
   "source": [
    "uniqueHD = [i for i in list(dfHD['uniqueKey']) if i not in list(dfFem['uniqueKey'])]\n",
    "dfHDUnique = dfHD[dfHD['uniqueKey'].isin(uniqueHD)]\n",
    "        \n",
    "len(dfHDUnique)\n",
    "\n",
    "###### Results #########\n",
    "\n",
    "# dfMS: 0 overlap\n",
    "# dfMDIP 0 overlap\n",
    "# dfLatro 0 overlap\n",
    "# dfLCSM: 1 overlap\n",
    "# dfFem: 138 overlaps\n"
   ]
  },
  {
   "cell_type": "code",
   "execution_count": 7,
   "metadata": {},
   "outputs": [
    {
     "name": "stdout",
     "output_type": "stream",
     "text": [
      "7416\n"
     ]
    }
   ],
   "source": [
    "print(len(dfHDUnique)+len(dfMS)+len(dfMDIP)+len(dfLatro)+len(dfLCSM)+len(dfFem))"
   ]
  },
  {
   "cell_type": "markdown",
   "metadata": {},
   "source": [
    "## Renomeando colunas\n"
   ]
  },
  {
   "cell_type": "code",
   "execution_count": 8,
   "metadata": {},
   "outputs": [],
   "source": [
    "dfColunas= pd.read_excel(os.getcwd()+f\"/../data/colunasFinal.xlsx\")"
   ]
  },
  {
   "cell_type": "code",
   "execution_count": 9,
   "metadata": {},
   "outputs": [],
   "source": [
    "dictFem = dfColunas[['Feminicídio','FinalTable']].dropna().set_index('Feminicídio').to_dict()['FinalTable']\n",
    "dictHD = dfColunas[['Homicidio','FinalTable']].dropna().set_index('Homicidio').to_dict()['FinalTable']\n",
    "dictLatro = dfColunas[['Latrocinio','FinalTable']].dropna().set_index('Latrocinio').to_dict()['FinalTable']\n",
    "dictLCSM = dfColunas[['Lesão Corporal seguida de morte','FinalTable']].dropna().set_index('Lesão Corporal seguida de morte').to_dict()['FinalTable']\n",
    "dictMS = dfColunas[['Morte Suspeita','FinalTable']].dropna().set_index('Morte Suspeita').to_dict()['FinalTable']\n",
    "dictMDIP = dfColunas[['MDIP','FinalTable']].dropna().set_index('MDIP').to_dict()['FinalTable']"
   ]
  },
  {
   "cell_type": "code",
   "execution_count": 10,
   "metadata": {},
   "outputs": [],
   "source": [
    "dfHDRenamed = dfHDUnique.rename(columns=dictHD,inplace=False)[list(dictHD.values())]\n",
    "dfMSRenamed = dfMS.rename(columns=dictMS,inplace=False)[list(dictMS.values())]\n",
    "dfMDIPRenamed = dfMDIP.rename(columns=dictMDIP,inplace=False)[list(dictMDIP.values())]\n",
    "dfLatroRenamed = dfLatro.rename(columns=dictLatro,inplace=False)[list(dictLatro.values())]\n",
    "dfLCSMRenamed = dfLCSM.rename(columns=dictLCSM,inplace=False)[list(dictLCSM.values())]\n",
    "dfFemRenamed = dfFem.rename(columns=dictFem,inplace=False)[list(dictFem.values())]"
   ]
  },
  {
   "cell_type": "code",
   "execution_count": 11,
   "metadata": {},
   "outputs": [],
   "source": [
    "dfFinalMortes= pd.concat([dfHDRenamed,dfMSRenamed,dfMDIPRenamed,dfLatroRenamed,dfLCSMRenamed,dfFemRenamed])\n",
    "dfFinalMortes.to_csv(os.getcwd()+f\"/../data/compiledData/dfMortesCompilado_SemFiltroData.csv\",index=False)\n"
   ]
  },
  {
   "cell_type": "markdown",
   "metadata": {},
   "source": [
    "## Dados Furto e Roubo"
   ]
  },
  {
   "cell_type": "code",
   "execution_count": 255,
   "metadata": {},
   "outputs": [],
   "source": [
    "dfFurtoVeic = pd.read_csv(os.getcwd()+f\"/../data/compiledData/fullDf_FurtoVeículos_2019a2022.csv\",sep=\"|\")\n",
    "dfRouboVeic = pd.read_csv(os.getcwd()+f\"/../data/compiledData/fullDf_RouboVeículos_2019a2022.csv\",sep=\"|\")\n",
    "dfFurtoCel = pd.read_csv(os.getcwd()+f\"/../data/compiledData/fullDf_FurtoCelular_2019a2022.csv\",sep=\"|\")\n",
    "dfRouboCel = pd.read_csv(os.getcwd()+f\"/../data/compiledData/fullDf_RouboCelular_2019a2022.csv\",sep=\"|\")"
   ]
  },
  {
   "cell_type": "code",
   "execution_count": 256,
   "metadata": {},
   "outputs": [],
   "source": [
    "dfFurtoVeic[\"ARQUIVO\"] = 'Furto Veículo'\n",
    "dfRouboVeic[\"ARQUIVO\"] = 'Roubo Veículo'\n",
    "dfFurtoCel[\"ARQUIVO\"] = 'Furto Celular'\n",
    "dfRouboCel[\"ARQUIVO\"] = 'Roubo Celular'"
   ]
  },
  {
   "cell_type": "code",
   "execution_count": 257,
   "metadata": {},
   "outputs": [],
   "source": [
    "dfFinalRoubosFurtos = pd.concat([dfFurtoVeic,dfRouboVeic,dfFurtoCel,dfRouboCel])\n",
    "dfFinalRoubosFurtos.to_csv(os.getcwd()+f\"/../data/compiledData/dfRoubosFurtosCompilado.csv\",index=False)"
   ]
  },
  {
   "cell_type": "code",
   "execution_count": 258,
   "metadata": {},
   "outputs": [
    {
     "data": {
      "text/plain": [
       "1097855"
      ]
     },
     "execution_count": 258,
     "metadata": {},
     "output_type": "execute_result"
    }
   ],
   "source": [
    "len(dfFinalRoubosFurtos)"
   ]
  },
  {
   "cell_type": "code",
   "execution_count": 259,
   "metadata": {},
   "outputs": [
    {
     "data": {
      "text/plain": [
       "Roubo Celular    438537\n",
       "Furto Celular    360722\n",
       "Furto Veículo    156600\n",
       "Roubo Veículo    141996\n",
       "Name: ARQUIVO, dtype: int64"
      ]
     },
     "execution_count": 259,
     "metadata": {},
     "output_type": "execute_result"
    }
   ],
   "source": [
    "dfFinalRoubosFurtos.ARQUIVO.value_counts()"
   ]
  },
  {
   "cell_type": "code",
   "execution_count": null,
   "metadata": {},
   "outputs": [],
   "source": []
  }
 ],
 "metadata": {
  "kernelspec": {
   "display_name": "Python 3.9.13 64-bit",
   "language": "python",
   "name": "python3"
  },
  "language_info": {
   "codemirror_mode": {
    "name": "ipython",
    "version": 3
   },
   "file_extension": ".py",
   "mimetype": "text/x-python",
   "name": "python",
   "nbconvert_exporter": "python",
   "pygments_lexer": "ipython3",
   "version": "3.10.8"
  },
  "orig_nbformat": 4,
  "vscode": {
   "interpreter": {
    "hash": "b0fa6594d8f4cbf19f97940f81e996739fb7646882a419484c72d19e05852a7e"
   }
  }
 },
 "nbformat": 4,
 "nbformat_minor": 2
}
