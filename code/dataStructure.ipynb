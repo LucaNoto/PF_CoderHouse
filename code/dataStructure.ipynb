{
 "cells": [
  {
   "cell_type": "code",
   "execution_count": 1,
   "metadata": {},
   "outputs": [],
   "source": [
    "import os\n",
    "import pandas as pd"
   ]
  },
  {
   "cell_type": "markdown",
   "metadata": {},
   "source": [
    "# Descrevendo as variáveis de cada tabela\n",
    "\n",
    "### <ins>Furto de Celulares, Roubo de Celulares, Furto de Veículos e roubo de veículos</ins>\n",
    "\n",
    "\n",
    "| COLUNA                   | TIPO | DESCRICAO |\n",
    "|--------------------------|------|-----------|\n",
    "| ANO_BO                   | teste     |           |\n",
    "| NUM_BO                   |      |           |\n",
    "| NUMERO_BOLETIM           |      |           |\n",
    "| BO_INICIADO              |      |           |\n",
    "| BO_EMITIDO               |      |           |\n",
    "| DATAOCORRENCIA           |      |           |\n",
    "| HORAOCORRENCIA           |      |           |\n",
    "| PERIDOOCORRENCIA         |      |           |\n",
    "| DATACOMUNICACAO          |      |           |\n",
    "| DATAELABORACAO           |      |           |\n",
    "| BO_AUTORIA               |      |           |\n",
    "| FLAGRANTE                |      |           |\n",
    "| NUMERO_BOLETIM_PRINCIPAL |      |           |\n",
    "| LOGRADOURO               |      |           |\n",
    "| NUMERO                   |      |           |\n",
    "| BAIRRO                   |      |           |\n",
    "| CIDADE                   |      |           |\n",
    "| UF                       |      |           |\n",
    "| LATITUDE                 |      |           |\n",
    "| LONGITUDE                |      |           |\n",
    "| DESCRICAOLOCAL           |      |           |\n",
    "| EXAME                    |      |           |\n",
    "| SOLUCAO                  |      |           |\n",
    "| DELEGACIA_NOME           |      |           |\n",
    "| DELEGACIA_CIRCUNSCRICAO  |      |           |\n",
    "| ESPECIE                  |      |           |\n",
    "| RUBRICA                  |      |           |\n",
    "| DESDOBRAMENTO            |      |           |\n",
    "| STATUS                   |      |           |\n",
    "| TIPOPESSOA               |      |           |\n",
    "| VITIMAFATAL              |      |           |\n",
    "| NATURALIDADE             |      |           |\n",
    "| NACIONALIDADE            |      |           |\n",
    "| SEXO                     |      |           |\n",
    "| DATANASCIMENTO           |      |           |\n",
    "| IDADE                    |      |           |\n",
    "| ESTADOCIVIL              |      |           |\n",
    "| PROFISSAO                |      |           |\n",
    "| GRAUINSTRUCAO            |      |           |\n",
    "| CORCUTIS                 |      |           |\n",
    "| NATUREZAVINCULADA        |      |           |\n",
    "| TIPOVINCULO              |      |           |\n",
    "| RELACIONAMENTO           |      |           |\n",
    "| PARENTESCO               |      |           |\n",
    "| PLACA_VEICULO            |      |           |\n",
    "| UF_VEICULO               |      |           |\n",
    "| CIDADE_VEICULO           |      |           |\n",
    "| DESCR_COR_VEICULO        |      |           |\n",
    "| DESCR_MARCA_VEICULO      |      |           |\n",
    "| ANO_FABRICACAO           |      |           |\n",
    "| ANO_MODELO               |      |           |\n",
    "| DESCR_TIPO_VEICULO       |      |           |\n",
    "| QUANT_CELULAR            |      |           |\n",
    "| MARCA_CELULAR            |      |           |"
   ]
  },
  {
   "cell_type": "markdown",
   "metadata": {},
   "source": [
    "### Feminicidio, Homicídio, Latrocínio, LCSM, MDIP e Morte Suspeita"
   ]
  },
  {
   "cell_type": "markdown",
   "metadata": {},
   "source": [
    "<img src=\"equiColunas.png\" alt=\"Alternative text\" />"
   ]
  },
  {
   "cell_type": "markdown",
   "metadata": {},
   "source": []
  }
 ],
 "metadata": {
  "kernelspec": {
   "display_name": "Python 3.9.13 64-bit",
   "language": "python",
   "name": "python3"
  },
  "language_info": {
   "codemirror_mode": {
    "name": "ipython",
    "version": 3
   },
   "file_extension": ".py",
   "mimetype": "text/x-python",
   "name": "python",
   "nbconvert_exporter": "python",
   "pygments_lexer": "ipython3",
   "version": "3.9.13"
  },
  "orig_nbformat": 4,
  "vscode": {
   "interpreter": {
    "hash": "b0fa6594d8f4cbf19f97940f81e996739fb7646882a419484c72d19e05852a7e"
   }
  }
 },
 "nbformat": 4,
 "nbformat_minor": 2
}
