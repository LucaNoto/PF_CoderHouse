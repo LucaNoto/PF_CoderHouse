{
 "cells": [
  {
   "cell_type": "code",
   "execution_count": 4,
   "metadata": {},
   "outputs": [],
   "source": [
    "import pandas as pd\n",
    "import os\n",
    "import datetime\n",
    "import re"
   ]
  },
  {
   "cell_type": "markdown",
   "metadata": {},
   "source": [
    "# Furto e Roubo de Celulares e Veículos + Obitos IML\n"
   ]
  },
  {
   "cell_type": "code",
   "execution_count": 23,
   "metadata": {},
   "outputs": [
    {
     "name": "stdout",
     "output_type": "stream",
     "text": [
      "Starting: Furto Celular\n",
      "Criando arquivo compilado, 360722 linhas no total\n",
      "Starting: Roubo Celular\n",
      "Criando arquivo compilado, 438537 linhas no total\n",
      "Starting: Furto Veículos\n",
      "Criando arquivo compilado, 156600 linhas no total\n",
      "Starting: Roubo Veículos\n",
      "Criando arquivo compilado, 141996 linhas no total\n",
      "Starting: Registros de Obitos IML\n",
      "Criando arquivo compilado, 81019 linhas no total\n"
     ]
    }
   ],
   "source": [
    "for c in ['Furto Celular','Roubo Celular','Furto Veículos','Roubo Veículos','Registros de Obitos IML']:\n",
    "    print(f'Starting: {c}')\n",
    "    dfArray = []\n",
    "    numberOfRows = 0\n",
    "    for f in os.listdir(os.getcwd()+f'/../data/rawData/{c}/recovered'):\n",
    "        if c == 'Registros de Obitos IML':\n",
    "            yearMonth = datetime.date(int(f.split('_')[1][:4]),int(f.split('_')[1][4:].split(\".\")[0]),1)\n",
    "        else:\n",
    "            yearMonth = datetime.date(int(f.split('_')[1]),int(f.split('_')[2].split('(')[0]),1)\n",
    "        \n",
    "        df = pd.read_excel(os.getcwd()+f'/../data/rawData/{c}/recovered/{f}')\n",
    "        df['MES_ARQUIVO'] = yearMonth\n",
    "        # print(f,'-->', yearMonth,len(df))\n",
    "        numberOfRows+=len(df)\n",
    "\n",
    "        dfArray.append(df)\n",
    "\n",
    "    fullDf = pd.concat(dfArray)\n",
    "    print(f'Criando arquivo compilado, {numberOfRows} linhas no total')\n",
    "    fullDf.to_csv(os.getcwd()+f'/../data/compiledData/fullDf_{c.replace(\" \",\"\")}_2019a2022.csv',sep=\"|\")"
   ]
  },
  {
   "cell_type": "markdown",
   "metadata": {},
   "source": [
    "# SingleFile"
   ]
  },
  {
   "cell_type": "code",
   "execution_count": null,
   "metadata": {},
   "outputs": [],
   "source": [
    "singleFileCrimesPath = os.getcwd()+f\"/../data/rawData/\"\n",
    "\n",
    "singleFiles = [\"Feminicidio_2015_2022.xlsx\",\"Homicidio_2017_2022.xlsx\",\"Latrocinio_2018_2022.xlsx\",\"LCSM_2016_2022.xlsx\",\"MDIP_2013_2022.xlsx\",\"MorteSuspeita_2013_2022.xlsx\"]\n",
    "\n",
    "totalRows = 0\n",
    "for sf in singleFiles:\n",
    "    print(sf)\n",
    "    f = pd.ExcelFile(singleFileCrimesPath+sf)\n",
    "    dfArray = []\n",
    "    worksheets = f.sheet_names\n",
    "    for ws in worksheets:\n",
    "        df = f.parse(ws)\n",
    "        year = re.sub('\\D', '',ws)\n",
    "        if sf != \"MDIP_2013_2022.xlsx\":\n",
    "            df['ANO_ARQUIVO'] = datetime.date(int(year),1,1)\n",
    "        else:\n",
    "            df['ANO_ARQUIVO'] = df['ANO_BO']\n",
    "        dfArray.append(df)\n",
    "        totalRows+=len(df)\n",
    "\n",
    "    fullDf = pd.concat(dfArray)\n",
    "    fullDf.to_csv(os.getcwd()+f'/../data/compiledData/fullDf_{sf.split(\"_\")[0]}_{sf.split(\"_\")[1]}a{sf.split(\"_\")[2].split(\".\")[0]}.csv',sep=\"|\")\n",
    "    "
   ]
  },
  {
   "cell_type": "markdown",
   "metadata": {},
   "source": [
    "# Compiling all into a single one"
   ]
  },
  {
   "cell_type": "code",
   "execution_count": null,
   "metadata": {},
   "outputs": [],
   "source": [
    "for i in os.listdir(os.getcwd()+f\"/../data/compiledData/\"):\n",
    "    if i.split(\".\")[-1]==\"csv\":\n",
    "        # print(i)\n",
    "        df = pd.read_csv(os.getcwd()+f\"/../data/compiledData/{i}\",encoding='latin-1',sep=\"|\")\n",
    "        # print(i,\"---->\",len(df))\n",
    "        # print(df.head())"
   ]
  },
  {
   "cell_type": "code",
   "execution_count": null,
   "metadata": {},
   "outputs": [],
   "source": []
  }
 ],
 "metadata": {
  "kernelspec": {
   "display_name": "Python 3.9.13 64-bit",
   "language": "python",
   "name": "python3"
  },
  "language_info": {
   "codemirror_mode": {
    "name": "ipython",
    "version": 3
   },
   "file_extension": ".py",
   "mimetype": "text/x-python",
   "name": "python",
   "nbconvert_exporter": "python",
   "pygments_lexer": "ipython3",
   "version": "3.9.13"
  },
  "orig_nbformat": 4,
  "vscode": {
   "interpreter": {
    "hash": "b0fa6594d8f4cbf19f97940f81e996739fb7646882a419484c72d19e05852a7e"
   }
  }
 },
 "nbformat": 4,
 "nbformat_minor": 2
}
