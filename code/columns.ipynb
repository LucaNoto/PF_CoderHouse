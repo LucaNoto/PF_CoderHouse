{
 "cells": [
  {
   "cell_type": "code",
   "execution_count": 2,
   "metadata": {},
   "outputs": [],
   "source": [
    "from __future__ import unicode_literals\n",
    "import os\n",
    "import pandas as pd\n",
    "import xlrd\n",
    "# Changing the data types of all strings in the module at once\n",
    "\n",
    "# Used to save the file as excel workbook\n",
    "# Need to install this library\n",
    "from xlwt import Workbook\n",
    "# Used to open to corrupt excel file\n",
    "import io"
   ]
  },
  {
   "cell_type": "markdown",
   "metadata": {},
   "source": [
    "## Dealing with crimes in separate folders"
   ]
  },
  {
   "cell_type": "code",
   "execution_count": null,
   "metadata": {},
   "outputs": [],
   "source": [
    "crimes = ['Furto Celular',\"Furto Veículos\",\"Registros de Obitos IML\",\"Roubo Celular\",\"Roubo Veículos\"]\n",
    "years = [2019,2020,2021,2022]\n",
    "\n",
    "for c in crimes:\n",
    "    columnsDf = pd.DataFrame()\n",
    "    recoveredFilesPath = os.getcwd()+f\"/../data/{c}/recovered/\"\n",
    "    \n",
    "    try:\n",
    "        os.mkdir(recoveredFilesPath)\n",
    "    except:pass\n",
    "\n",
    "    for y in years:\n",
    "        corruptedFilesPath = os.getcwd()+f\"/../data/{c}/{y}/\"\n",
    "        \n",
    "        corruptedfiles = [f for f in os.listdir(corruptedFilesPath) if os.path.isfile(corruptedFilesPath+f)]\n",
    "\n",
    "        for f in corruptedfiles:\n",
    "            if f.split('.')[1]=='xls':\n",
    "            \n",
    "                filename = corruptedFilesPath+f\n",
    "                # Opening the file using 'utf-16' encoding\n",
    "                file1 = io.open(filename, \"r\", encoding=\"utf-16-le\")\n",
    "                data = file1.readlines()\n",
    "\n",
    "                # Creating a workbook object\n",
    "                xldoc = Workbook()\n",
    "                # Adding a sheet to the workbook object\n",
    "                sheet = xldoc.add_sheet(\"Sheet1\", cell_overwrite_ok=True)\n",
    "                # Iterating and saving the data to sheet\n",
    "                for i, row in enumerate(data):\n",
    "                    # Two things are done here\n",
    "                    # Removing the '\\n' which comes while reading the file using io.open\n",
    "                    # Getting the values after splitting using '\\t'\n",
    "                    for j, val in enumerate(row.replace('\\n', '').split('\\t')):\n",
    "                        sheet.write(i, j, val)\n",
    "                    \n",
    "                # Saving the file as an excel file\n",
    "                xldoc.save(recoveredFilesPath+f.split('.')[0]+\".xlsx\")\n",
    "\n",
    "\n",
    "        \n",
    "    recoveredFiles = [f for f in os.listdir(recoveredFilesPath) if os.path.isfile(recoveredFilesPath+f)]\n",
    "    for f in recoveredFiles:\n",
    "        if f.split('.')[1]=='xlsx':\n",
    "            df =pd.read_excel(recoveredFilesPath+f)\n",
    "            # print(df.columns)\n",
    "            columnsDf[f] = list(df.columns)\n",
    "\n",
    "    columnsDf.to_excel(os.getcwd()+f\"/../data/{c}/columns{c.replace(' ','')}.xlsx\",index=False)"
   ]
  },
  {
   "cell_type": "markdown",
   "metadata": {},
   "source": [
    "## Dealing with crimes in single files"
   ]
  },
  {
   "cell_type": "code",
   "execution_count": null,
   "metadata": {},
   "outputs": [],
   "source": [
    "singleFileCrimesPath = os.getcwd()+f\"/../data/\"\n",
    "\n",
    "singleFiles = [f for f in os.listdir(singleFileCrimesPath) if os.path.isfile(singleFileCrimesPath+f) and f.split(\".\")[1] == \"xlsx\" and f[:7]!='columns']\n",
    "\n",
    "\n",
    "for sf in singleFiles:\n",
    "    print(sf)\n",
    "    columnsDf = pd.DataFrame()\n",
    "\n",
    "    f = pd.ExcelFile(singleFileCrimesPath+sf)\n",
    "    worksheets = f.sheet_names\n",
    "    \n",
    "    for ws in worksheets:\n",
    "        print(\"     \",ws)\n",
    "        df = f.parse(ws)\n",
    "        print(list(df.columns))\n",
    "        dfTemp = pd.DataFrame()\n",
    "        dfTemp[f'worksheet_{ws}'] = list(df.columns)\n",
    "        print(dfTemp)\n",
    "        columnsDf = pd.concat([columnsDf, dfTemp], ignore_index=True, axis=1)\n",
    "        \n",
    "    columnsDf.columns = worksheets\n",
    "    columnsDf.to_excel(os.getcwd()+f\"/../data/columns_{sf}\",index=False)"
   ]
  }
 ],
 "metadata": {
  "kernelspec": {
   "display_name": "Python 3.9.13 64-bit",
   "language": "python",
   "name": "python3"
  },
  "language_info": {
   "codemirror_mode": {
    "name": "ipython",
    "version": 3
   },
   "file_extension": ".py",
   "mimetype": "text/x-python",
   "name": "python",
   "nbconvert_exporter": "python",
   "pygments_lexer": "ipython3",
   "version": "3.9.13"
  },
  "orig_nbformat": 4,
  "vscode": {
   "interpreter": {
    "hash": "b0fa6594d8f4cbf19f97940f81e996739fb7646882a419484c72d19e05852a7e"
   }
  }
 },
 "nbformat": 4,
 "nbformat_minor": 2
}
